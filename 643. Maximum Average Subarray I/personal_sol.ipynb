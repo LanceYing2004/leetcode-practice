{
 "cells": [
  {
   "cell_type": "markdown",
   "id": "9dc3fd43",
   "metadata": {},
   "source": [
    "### Problem\n",
    "\n",
    "You are given an integer array nums consisting of n elements, and an integer k.\n",
    "\n",
    "Find a contiguous subarray whose length is equal to k that has the maximum average value and return this value. Any answer with a calculation error less than 10-5 will be accepted.\n",
    "\n",
    " \n",
    "\n",
    "#### Example 1:\n",
    "\n",
    "Input: nums = [1,12,-5,-6,50,3], k = 4\n",
    "Output: 12.75000\n",
    "Explanation: Maximum average is (12 - 5 - 6 + 50) / 4 = 51 / 4 = 12.75\n",
    "\n",
    "#### Example 2:\n",
    "\n",
    "Input: nums = [5], k = 1\n",
    "Output: 5.00000\n",
    " \n",
    "\n",
    "#### Constraints:\n",
    "\n",
    "n == nums.length\n",
    "1 <= k <= n <= 105\n",
    "-104 <= nums[i] <= 104"
   ]
  },
  {
   "cell_type": "markdown",
   "id": "338c2ec8",
   "metadata": {},
   "source": [
    "### Intuition\n",
    "- This is a typical fixed length sliding windows problem. Constant update of the max value while keeping the window \"in shape\" (= k) is required.\n",
    "- since k <= n, so therefore there's no need to think of invalid input"
   ]
  },
  {
   "cell_type": "markdown",
   "id": "d6ddea98",
   "metadata": {},
   "source": [
    "### Approach\n",
    "The basic approach is that first initialize variables (don't forget to think about edge cases even thought haven't got any), and then add the sum up to n. Then for loop the rest and determine which is the max value.\n",
    "\n",
    "Originally I thought maybe I could return the case where k = n early, to save computations. But then I realized that in both cases, you need to calculate the average then return it. Plus for the for loop, it will have already failed its constraints, therefore not necessary.\n",
    "\n",
    "One thing important to note of (it actually tripped me over twice), is the type of the variable. It's stupid, but I should be more careful on handling integer division vs floating point division. (I got the result wrong, which gives me an answer of 0.0 instead of desired answer)\n",
    "\n",
    "Here's the psudocode:"
   ]
  },
  {
   "cell_type": "code",
   "execution_count": null,
   "id": "f1d7d5c8",
   "metadata": {
    "vscode": {
     "languageId": "plaintext"
    }
   },
   "outputs": [],
   "source": [
    "function fn(arr, k):\n",
    "    initialize relavent variable\n",
    "    for range (0, k):\n",
    "        sum += element[i]\n",
    "    calculate average\n",
    "    for range (k, arr.size()):\n",
    "        sum += new element - left most element that exceeds length k\n",
    "        average = sum / k\n",
    "        max(result, average)\n",
    "    return result"
   ]
  },
  {
   "cell_type": "markdown",
   "id": "dc7e1eb8",
   "metadata": {},
   "source": [
    "### Complexity\n",
    "Time Complexity: O(n)  \n",
    "Space Complexity: O(1)"
   ]
  },
  {
   "cell_type": "markdown",
   "id": "3da806fe",
   "metadata": {},
   "source": [
    "### My Solution"
   ]
  },
  {
   "cell_type": "code",
   "execution_count": null,
   "id": "aa2beb50",
   "metadata": {
    "vscode": {
     "languageId": "cpp"
    }
   },
   "outputs": [],
   "source": [
    "class Solution {\n",
    "public:\n",
    "    double findMaxAverage(vector<int>& nums, int k) {\n",
    "        double sum = 0;\n",
    "        double average = 0;\n",
    "        for (int i = 0; i < k; i++) {\n",
    "            sum += nums[i];\n",
    "        }\n",
    "        double result = sum / k;\n",
    "        for (int i = k; i < nums.size(); i++) {\n",
    "            sum += nums[i] - nums[i - k];\n",
    "            average = sum / k;\n",
    "            result = max(result, average);\n",
    "        }\n",
    "        return result;\n",
    "    }\n",
    "};"
   ]
  },
  {
   "cell_type": "code",
   "execution_count": null,
   "id": "816653b7",
   "metadata": {},
   "outputs": [],
   "source": [
    "class Solution(object):\n",
    "    def findMaxAverage(self, nums, k):\n",
    "        \"\"\"\n",
    "        :type nums: List[int]\n",
    "        :type k: int\n",
    "        :rtype: float\n",
    "        \"\"\"\n",
    "        sum = average = result = 0.0\n",
    "        for i in range (0, k):\n",
    "            sum += nums[i]\n",
    "        result = sum / k\n",
    "        for i in range (k, len(nums)):\n",
    "            sum += nums[i] - nums[i - k]\n",
    "            average = sum / k\n",
    "            result = max(result, average)\n",
    "        return result"
   ]
  }
 ],
 "metadata": {
  "language_info": {
   "name": "python"
  }
 },
 "nbformat": 4,
 "nbformat_minor": 5
}
