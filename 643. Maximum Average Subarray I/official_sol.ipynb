{
 "cells": [
  {
   "cell_type": "markdown",
   "id": "87e891af",
   "metadata": {},
   "source": [
    "### Problem\n",
    "\n",
    "You are given an integer array nums consisting of n elements, and an integer k.\n",
    "\n",
    "Find a contiguous subarray whose length is equal to k that has the maximum average value and return this value. Any answer with a calculation error less than 10-5 will be accepted.\n",
    "\n",
    " \n",
    "\n",
    "#### Example 1:\n",
    "\n",
    "Input: nums = [1,12,-5,-6,50,3], k = 4\n",
    "Output: 12.75000\n",
    "Explanation: Maximum average is (12 - 5 - 6 + 50) / 4 = 51 / 4 = 12.75\n",
    "\n",
    "#### Example 2:\n",
    "\n",
    "Input: nums = [5], k = 1\n",
    "Output: 5.00000\n",
    " \n",
    "\n",
    "#### Constraints:\n",
    "\n",
    "n == nums.length\n",
    "1 <= k <= n <= 105\n",
    "-104 <= nums[i] <= 104"
   ]
  },
  {
   "cell_type": "markdown",
   "id": "f826502f",
   "metadata": {
    "vscode": {
     "languageId": "plaintext"
    }
   },
   "source": [
    "### Solution 1: Cumulative Sum\n",
    "We know that in order to obtain the averages of subarrays with length k, we need to obtain the sum of these k length subarrays. One of the methods of obtaining this sum is to make use of a cumulative sum array, sum, which is populated only once. Here, sum[i] is used to store the sum of the elements of the given nums array from the first element upto the element at the ith index.\n",
    "\n",
    "Once the sum array has been filled up, in order to find the sum of elements from the index i to i+k, all we need to do is to use: `sum[i]−sum[i−k]`. Thus, now, by doing one more iteration over the sum array, we can determine the maximum average possible from the subarrays of length k."
   ]
  },
  {
   "cell_type": "code",
   "execution_count": null,
   "id": "42ffd659",
   "metadata": {
    "vscode": {
     "languageId": "java"
    }
   },
   "outputs": [],
   "source": [
    "public class Solution {\n",
    "\tpublic double findMaxAverage(int[] nums, int k) {\n",
    "\t\tint[] sum = new int[nums.length];\n",
    "\t\tsum[0] = nums[0];\n",
    "\t\tfor (int i = 1; i < nums.length; i++)\n",
    "\t\t\tsum[i] = sum[i - 1] + nums[i];\n",
    "\t\tdouble result = sum[k - 1] * 1.0 / k;\n",
    "\t\tfor (int i = k; i < nums.length; i++) {\n",
    "\t\t\tresult = Math.max(result, (sum[i] - sum[i - k]) * 1.0 / k);\n",
    "\t\t}\n",
    "\t\treturn result;\n",
    "\t}\n",
    "}"
   ]
  },
  {
   "cell_type": "markdown",
   "id": "78a85a63",
   "metadata": {},
   "source": [
    "### Complexity\n",
    "Time Complexity: O(n)  \n",
    "Space Complexity: O(n), therefore not recommended, but acceptable"
   ]
  },
  {
   "cell_type": "markdown",
   "id": "15f3439f",
   "metadata": {},
   "source": [
    "### Solution 2: Sliding Window"
   ]
  },
  {
   "cell_type": "markdown",
   "id": "1e622d41",
   "metadata": {},
   "source": [
    "Instead of creating a cumulative sum array first, and then traversing over it to determine the required sum, we can simply traverse over nums just once, and on the go keep on determining the sums possible for the subarrays of length k. To understand the idea, assume that we already know the sum of elements from index i to index i+k, say it is x.\n",
    "\n",
    "Now, to determine the sum of elements from the index i+1 to the index i+k+1, all we need to do is to subtract the element nums[i] from x and to add the element nums[i+k+1] to x. We can carry out our process based on this idea and determine the maximum possible average."
   ]
  },
  {
   "cell_type": "markdown",
   "id": "1cfc3aef",
   "metadata": {},
   "source": [
    "### Complexity\n",
    "Time Complexity: O(n)  \n",
    "Space Complexity: O(1)"
   ]
  },
  {
   "cell_type": "code",
   "execution_count": null,
   "id": "f2c3bf66",
   "metadata": {},
   "outputs": [],
   "source": [
    "from typing import List\n",
    "\n",
    "class Solution:\n",
    "    def findMaxAverage(self, nums: List[int], k: int) -> float:\n",
    "        curr = 0\n",
    "        for i in range(k):\n",
    "            curr += nums[i]\n",
    "            \n",
    "        ans = curr\n",
    "        \n",
    "        for i in range(k, len(nums)):\n",
    "            curr += nums[i] - nums[i - k]\n",
    "            ans = max(ans, curr)\n",
    "            \n",
    "        return ans / k"
   ]
  },
  {
   "cell_type": "code",
   "execution_count": null,
   "id": "98c19d6e",
   "metadata": {
    "vscode": {
     "languageId": "java"
    }
   },
   "outputs": [],
   "source": [
    "public class Solution {\n",
    "    public double findMaxAverage(int[] nums, int k) {\n",
    "        double sum = 0;\n",
    "        for(int i =0;i < k; i++)\n",
    "            sum += nums[i];\n",
    "        double result = sum;\n",
    "        for(int i = k; i < nums.length; i++){\n",
    "            sum += nums[i] - nums[i-k];\n",
    "                result = Math.max(result,sum);\n",
    "        }\n",
    "        return result / k;\n",
    "    }\n",
    "}"
   ]
  }
 ],
 "metadata": {
  "language_info": {
   "name": "python"
  }
 },
 "nbformat": 4,
 "nbformat_minor": 5
}
