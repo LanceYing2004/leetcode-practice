{
 "cells": [
  {
   "cell_type": "markdown",
   "id": "bdc69161",
   "metadata": {},
   "source": [
    "### Problem\n",
    "Given a binary array nums and an integer k, return the maximum number of consecutive 1's in the array if you can flip at most k 0's. \n",
    "\n",
    "#### Example 1:\n",
    "Input: nums = [1,1,1,0,0,0,1,1,1,1,0], k = 2  \n",
    "Output: 6  \n",
    "Explanation: [1,1,1,0,0,1,1,1,1,1,1]  \n",
    "Bolded numbers were flipped from 0 to 1. The longest subarray is underlined.\n",
    "\n",
    "#### Example 2:\n",
    "Input: nums = [0,0,1,1,0,0,1,1,1,0,1,1,0,0,0,1,1,1,1], k = 3  \n",
    "Output: 10  \n",
    "Explanation: [0,0,1,1,1,1,1,1,1,1,1,1,0,0,0,1,1,1,1]  \n",
    "Bolded numbers were flipped from 0 to 1. The longest subarray is underlined.\n",
    "\n",
    "#### Constraints:\n",
    "\n",
    "- 1 <= nums.length <= 105\n",
    "- nums[i] is either 0 or 1.\n",
    "- 0 <= k <= nums.length"
   ]
  },
  {
   "cell_type": "markdown",
   "id": "4707fc4e",
   "metadata": {},
   "source": [
    "### Solution\n",
    "The problem is asking for the longest contiguous subarray that contains only 1s. What makes this problem a little trickier is that k flips are allowed from 0 --> 1. This means a valid subarray might not just contain 1's but also may contain some 0's. The number of 0's allowed in a given subarray is given by k."
   ]
  },
  {
   "cell_type": "markdown",
   "id": "62365c3d",
   "metadata": {},
   "source": [
    "### Intuition\n",
    "This problem is equivalent to finding the longest subarray with at most k zeroes.\n",
    "\n",
    "We can use a simple **sliding window approach** to solve this problem.\n",
    "\n",
    "In any sliding window based problem we have two pointers. One right pointer whose job is to expand the current window and then we have the left pointer whose job is to contract a given window. At any point in time only one of these pointers move and the other one remains fixed.\n",
    "\n",
    "The solution is pretty intuitive. We keep expanding the window by moving the right pointer. When the window has reached the limit of 0's allowed, we contract (if possible) and save the longest window till now.\n",
    "\n",
    "The answer is the longest desirable window."
   ]
  },
  {
   "cell_type": "markdown",
   "id": "3b046037",
   "metadata": {},
   "source": [
    "### Algorithm\n",
    "1. Initialize two pointers. The two pointers help us to mark the left and right end of the window/subarray with contiguous 1's. Also initialize curr to keep track of how many zeroes are in the window.\n",
    "\n",
    "    - left = 0, right = 0, curr = 0\n",
    "\n",
    "2. We use the right pointer to expand the window until the window/subarray is desirable. i.e. number of 0's in the window are in the allowed range of [0, k].\n",
    "\n",
    "3. Once we have a window which has more than the allowed number of 0's, we can move the left pointer ahead until the window is valid again."
   ]
  },
  {
   "cell_type": "markdown",
   "id": "2b0bf795",
   "metadata": {},
   "source": [
    "### Complexity\n",
    "##### Time Complexity: O(N)\n",
    "N is the number of elements in the array. In worst case we might end up visiting every element of array twice, once by left pointer and once by right pointer.\n",
    "\n",
    "##### Space Complexity: O(1)\n",
    "We do not use any extra space."
   ]
  },
  {
   "cell_type": "code",
   "execution_count": null,
   "id": "e2974188",
   "metadata": {
    "vscode": {
     "languageId": "cpp"
    }
   },
   "outputs": [],
   "source": [
    "class Solution {\n",
    "    public:\n",
    "        int longestOnes(vector<int>& nums, int k) {\n",
    "            int left = 0;\n",
    "            int curr = 0;\n",
    "            int ans = 0;\n",
    "            int n = nums.size();\n",
    "            for (int right = 0; right < n; right++) {\n",
    "                if (nums[right] == 0) {\n",
    "                    curr++;\n",
    "                }\n",
    "    \n",
    "                while (curr > k) {\n",
    "                    if (nums[left] == 0) {\n",
    "                        curr--;\n",
    "                    }\n",
    "    \n",
    "                    left++;\n",
    "                }\n",
    "    \n",
    "                ans = max(ans, right - left + 1);\n",
    "            }\n",
    "            return ans;\n",
    "        }\n",
    "    };"
   ]
  },
  {
   "cell_type": "code",
   "execution_count": null,
   "id": "6e63a0e5",
   "metadata": {},
   "outputs": [],
   "source": [
    "from typing import List\n",
    "\n",
    "class Solution:\n",
    "    def longestOnes(self, nums: List[int], k: int) -> int:\n",
    "        left = 0\n",
    "        curr = 0\n",
    "        ans = 0\n",
    "        for right in range(len(nums)):\n",
    "            if nums[right] == 0:\n",
    "                curr += 1\n",
    "\n",
    "            while curr > k:\n",
    "                if nums[left] == 0:\n",
    "                    curr -= 1\n",
    "                left += 1\n",
    "            \n",
    "            ans = max(ans, right - left + 1)\n",
    "\n",
    "        return ans"
   ]
  },
  {
   "cell_type": "code",
   "execution_count": null,
   "id": "e335d0e2",
   "metadata": {
    "vscode": {
     "languageId": "java"
    }
   },
   "outputs": [],
   "source": [
    "class Solution {\n",
    "    public int longestOnes(int[] nums, int k) {\n",
    "        int left = 0;\n",
    "        int curr = 0;\n",
    "        int ans = 0;\n",
    "        for (int right = 0; right < nums.length; right++) {\n",
    "            if (nums[right] == 0) {\n",
    "                curr++;\n",
    "            }\n",
    "\n",
    "            while (curr > k) {\n",
    "                if (nums[left] == 0) {\n",
    "                    curr--;\n",
    "                }\n",
    "\n",
    "                left++;\n",
    "            }\n",
    "\n",
    "            ans = Math.max(ans, right - left + 1);\n",
    "        }     \n",
    "\n",
    "        return ans;\n",
    "    }\n",
    "}"
   ]
  }
 ],
 "metadata": {
  "language_info": {
   "name": "python"
  }
 },
 "nbformat": 4,
 "nbformat_minor": 5
}
