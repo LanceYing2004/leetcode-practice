{
 "cells": [
  {
   "cell_type": "markdown",
   "id": "e3308f24",
   "metadata": {},
   "source": [
    "### Problem\n",
    "Given a binary array nums and an integer k, return the maximum number of consecutive 1's in the array if you can flip at most k 0's. \n",
    "\n",
    "#### Example 1:\n",
    "Input: nums = [1,1,1,0,0,0,1,1,1,1,0], k = 2  \n",
    "Output: 6  \n",
    "Explanation: [1,1,1,0,0,1,1,1,1,1,1]  \n",
    "Bolded numbers were flipped from 0 to 1. The longest subarray is underlined.\n",
    "\n",
    "#### Example 2:\n",
    "Input: nums = [0,0,1,1,0,0,1,1,1,0,1,1,0,0,0,1,1,1,1], k = 3  \n",
    "Output: 10  \n",
    "Explanation: [0,0,1,1,1,1,1,1,1,1,1,1,0,0,0,1,1,1,1]  \n",
    "Bolded numbers were flipped from 0 to 1. The longest subarray is underlined.\n",
    "\n",
    "#### Constraints:\n",
    "\n",
    "- 1 <= nums.length <= 105\n",
    "- nums[i] is either 0 or 1.\n",
    "- 0 <= k <= nums.length"
   ]
  },
  {
   "cell_type": "markdown",
   "id": "7a938986",
   "metadata": {},
   "source": [
    "### Intuition\n",
    "I immediate came across a recent example I did regarding flipping at most 1 0's to 1. Which is basically the same thing! (great job identifying the patterns!) Instead just like a sliding window approach, all I need to change is create a quota (falls under the k) and a while check (make sure proper 0 is removed at the left most part), and then the rest algorithm would be the same"
   ]
  },
  {
   "cell_type": "markdown",
   "id": "f8eef39a",
   "metadata": {},
   "source": [
    "### Approach\n",
    "Sliding window algorithm, with my initial algorithm written in psudocode below: (I made some changes after I made the initial submission to boost run time)"
   ]
  },
  {
   "cell_type": "code",
   "execution_count": null,
   "id": "8f2e5c25",
   "metadata": {
    "vscode": {
     "languageId": "plaintext"
    }
   },
   "outputs": [],
   "source": [
    "function call(nums, k):\n",
    "    initialize variables\n",
    "    for right in range (len(nums)):\n",
    "        if element == 0:\n",
    "            count++\n",
    "        if count exceeds k (quota):\n",
    "            calculate and save window length\n",
    "        while count > k:\n",
    "            reduce 0 until satisfy the constraints again\n",
    "        calculate window size\n",
    "    return result"
   ]
  },
  {
   "cell_type": "markdown",
   "id": "9ff623e4",
   "metadata": {},
   "source": [
    "### Complexity\n",
    "Time Complexity: O(n)  \n",
    "Space Complexity: O(1)\n"
   ]
  },
  {
   "cell_type": "markdown",
   "id": "1fea5a3f",
   "metadata": {},
   "source": [
    "### My Solution\n",
    "The first one is version #1, and second one I made a great progress on runtime:\n",
    "\n",
    "Changes:\n",
    "- I realized that if k == nums.size(), then basically all the numbers could be flipped to 1. Just return the k in this case.\n",
    "- result calculation happens when the winder length updates, and where there's no change to the count (e.g. nums =[0,0,1,1] and k = 1, in this case there's no need to change the count in the end, so none of the result calulation will be executed if there's not a sperate statement at the end)\n",
    "\n",
    "For the second point, I moved my final calculation outside of the loop, since that counts as a special case and no need to run that over and over again inside a loop. That just will be used for special case in case the final calculation result (in the example, it would be 3), greater than the original result (which would be 1)"
   ]
  },
  {
   "cell_type": "code",
   "execution_count": null,
   "id": "e2faa111",
   "metadata": {
    "vscode": {
     "languageId": "cpp"
    }
   },
   "outputs": [],
   "source": [
    "class Solution {\n",
    "    public:\n",
    "        int longestOnes(vector<int>& nums, int k) {\n",
    "            int left = 0, count = 0, result = 0;\n",
    "            for (int right = 0; right < nums.size(); right++) {\n",
    "                if (nums[right] == 0) {\n",
    "                    count++;\n",
    "                }\n",
    "                if (count > k) {\n",
    "                    result = max(result, right - left);\n",
    "                }\n",
    "                while (count > k) {\n",
    "                    if (nums[left] == 0) {\n",
    "                        count--;\n",
    "                    }\n",
    "                    left++;\n",
    "                }\n",
    "                result = max(result, right - left + 1);\n",
    "            }\n",
    "            return result;\n",
    "        }\n",
    "    };"
   ]
  },
  {
   "cell_type": "code",
   "execution_count": null,
   "id": "e0889759",
   "metadata": {
    "vscode": {
     "languageId": "cpp"
    }
   },
   "outputs": [],
   "source": [
    "class Solution {\n",
    "    public:\n",
    "        int longestOnes(vector<int>& nums, int k) {\n",
    "            int left = 0, count = 0, result = 0;\n",
    "            if (k == nums.size()) {\n",
    "                return k;\n",
    "            }\n",
    "    \n",
    "            for (int right = 0; right < nums.size(); right++) {\n",
    "                if (nums[right] == 0) {\n",
    "                    count++;\n",
    "                }\n",
    "                if (count > k) {\n",
    "                    result = max(result, right - left);\n",
    "                }\n",
    "                while (count > k) {\n",
    "                    if (nums[left] == 0) {\n",
    "                        count--;\n",
    "                    }\n",
    "                    left++;\n",
    "                }\n",
    "            }\n",
    "            int window_len = nums.size() - left;\n",
    "            result = max(result, window_len);\n",
    "            return result;\n",
    "        }\n",
    "};"
   ]
  },
  {
   "cell_type": "code",
   "execution_count": null,
   "id": "e1e3d287",
   "metadata": {},
   "outputs": [],
   "source": [
    "from typing import List\n",
    "\n",
    "class Solution:\n",
    "    def longestOnes(self, nums: List[int], k: int) -> int:\n",
    "        left = count = result = 0\n",
    "        for right in range (len(nums)):\n",
    "            if nums[right] == 0:\n",
    "                count += 1\n",
    "            if count > k:\n",
    "                result = max(result, right - left)\n",
    "            while count > k:\n",
    "                if nums[left] == 0:\n",
    "                    count -= 1\n",
    "                left += 1\n",
    "        result = max(result, len(nums) - left)\n",
    "        return result\n"
   ]
  }
 ],
 "metadata": {
  "language_info": {
   "name": "python"
  }
 },
 "nbformat": 4,
 "nbformat_minor": 5
}
