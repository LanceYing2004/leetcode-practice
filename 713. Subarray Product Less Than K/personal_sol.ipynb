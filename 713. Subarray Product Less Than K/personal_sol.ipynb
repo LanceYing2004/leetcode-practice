{
 "cells": [
  {
   "cell_type": "markdown",
   "id": "9c2591f6",
   "metadata": {},
   "source": [
    "### Intuition\n",
    "\n",
    "There are few key points I keep in mind when working on the problem:\n",
    "- the number of subarrays in a range are right - left + 1.\n",
    "- if k <= 1, then it's impossible to keep it under the limit (i.e. if k = 1 then all product must <1 which is impossible given the constraints.), so just return 0 at this case\n"
   ]
  },
  {
   "cell_type": "markdown",
   "id": "86b8e387",
   "metadata": {},
   "source": [
    "### Approach\n",
    "The obvious approach would be brute force. However that would cause n(<sup>2</sup>) complexity, which is too much and too inefficient.\n",
    "\n",
    "Then there's the sliding window approach. Based on intuition #1, I could devise a simple algorithm based on it:\n",
    "\n",
    "Note:\n",
    "- since we are multiplying the product, it's important to ini. as 1."
   ]
  },
  {
   "cell_type": "code",
   "execution_count": null,
   "id": "360bac43",
   "metadata": {
    "vscode": {
     "languageId": "plaintext"
    }
   },
   "outputs": [],
   "source": [
    "function call(nums, k):\n",
    "    special case:\n",
    "        return 0\n",
    "\n",
    "    initialize left, product and answer.\n",
    "    for i in range nums:\n",
    "        product * nums[i]\n",
    "        while check to see if it exceeds k\n",
    "            product /= nums[left]\n",
    "            left++\n",
    "        answer += window range"
   ]
  },
  {
   "cell_type": "markdown",
   "id": "9392240c",
   "metadata": {},
   "source": [
    "### Complexity\n",
    "Time Complexity: O(N)  \n",
    "Space Complexity: O(1)"
   ]
  },
  {
   "cell_type": "markdown",
   "id": "82d248bf",
   "metadata": {},
   "source": [
    "### My Solution"
   ]
  },
  {
   "cell_type": "code",
   "execution_count": null,
   "id": "86c5b042",
   "metadata": {
    "vscode": {
     "languageId": "cpp"
    }
   },
   "outputs": [],
   "source": [
    "class Solution {\n",
    "    public:\n",
    "        int numSubarrayProductLessThanK(vector<int>& nums, int k) {\n",
    "            if (k <= 1) {\n",
    "                return 0;\n",
    "            }\n",
    "\n",
    "            int left = 0, count = 1, result = 0;\n",
    "            int a = 0;\n",
    "            for (int right = 0; right < nums.size(); right++) {\n",
    "                count *= nums[right];\n",
    "                cout << result << endl;\n",
    "                while (count >= k) {\n",
    "                    count /= nums[left];\n",
    "                    left++;\n",
    "                }\n",
    "                result += (right - left + 1);\n",
    "            }\n",
    "            return result;\n",
    "        }\n",
    "};"
   ]
  },
  {
   "cell_type": "code",
   "execution_count": null,
   "id": "537ed890",
   "metadata": {},
   "outputs": [],
   "source": [
    "class Solution(object):\n",
    "    def numSubarrayProductLessThanK(self, nums, k):\n",
    "        \"\"\"\n",
    "        :type nums: List[int]\n",
    "        :type k: int\n",
    "        :rtype: int\n",
    "        \"\"\"\n",
    "        if k <= 1:\n",
    "            return 0\n",
    "\n",
    "        left = result = 0\n",
    "        product = 1\n",
    "        for right in range (len(nums)):\n",
    "            product *= nums[right]\n",
    "            while product >= k:\n",
    "                product /= nums[left]\n",
    "                left += 1\n",
    "            result += right - left + 1\n",
    "        return result\n",
    "        "
   ]
  }
 ],
 "metadata": {
  "language_info": {
   "name": "python"
  }
 },
 "nbformat": 4,
 "nbformat_minor": 5
}
