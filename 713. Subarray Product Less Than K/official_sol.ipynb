{
 "cells": [
  {
   "cell_type": "markdown",
   "id": "675dab40",
   "metadata": {},
   "source": [
    "### Overview\n",
    "We are given an array of integers nums and an integer k; the task is to count the number of contiguous subarrays where the product of all the elements in the subarray is strictly less than k.\n",
    "\n",
    "1. The problem requires counting valid subarrays, not returning the actual subarrays.\n",
    "2. The values in the nums array are positive."
   ]
  },
  {
   "cell_type": "markdown",
   "id": "eb94fb81",
   "metadata": {},
   "source": [
    "### Approach \n",
    "\n",
    "The brute force method involves finding all the subarrays and then selecting those whose products are less than k. However, this approach becomes costly in terms of time complexity, reaching O(X<sup>2</sup>).\n",
    "\n",
    "As we slide the window across the array, our objective is to identify all subarrays in the nums array where the product of its elements remains less than k. For each right position, if the product of the window's elements from left to right is less than k, adding the element at the right generates new subarrays with products less than k.\n",
    "\n",
    "The count of such subarrays is determined by the difference right - left + 1, which represents the number of subarrays that end at right and start at any element between right and left, inclusive. In essence, this count encompasses the subarray consisting solely of the current element itself, as well as all possible subarrays extending back to the left boundary of the window (left).\n",
    "\n",
    "Example:\n",
    "\n",
    "- [6] (subarray consisting only of 6)\n",
    "- [5, 6] (subarray starting from 5 and ending at 6)\n",
    "- [4, 5, 6] (subarray starting from 4 and ending at 6)\n",
    "- [3, 4, 5, 6] (subarray starting from 3 and ending at 6)\n",
    "\n",
    "By calculating right - left + 1, we enumerate all subarrays that end with the current element of the window (nums[right]). This ensures that we count all possible subarrays as we slide the window across the array. As we can observe, adding element 6 to the window created 4 new subarrays."
   ]
  },
  {
   "cell_type": "markdown",
   "id": "32deada9",
   "metadata": {},
   "source": [
    "### Algorithm\n",
    "Check if k is less than or equal to 1. In this case, no subarrays can have a product less than k, so return 0.  \n",
    "\n",
    "Initialize the variables totalCount to 0, to store the final count of subarrays with a product less than k, and product to 1, representing the product of elements within the window (initially empty).  \n",
    "\n",
    "Use two pointers, left and right, to define the sliding window. Iterate through the nums array using a for loop until right reaches the end.  \n",
    "\n",
    "- Inside the loop, multiply the current product by the element at the right pointer (nums[right]). This effectively includes the new element in the window.\n",
    "- While the current product is greater than or equal to k, the window needs to shrink to exclude elements that make the product exceed or equal to k.\n",
    "    - Divide the product by the element at the left pointer (nums[left]).\n",
    "    - Increment left by 1 to move the window one position to the right, effectively excluding the leftmost element.\n",
    "- Update the totalCount by adding the number of valid subarrays with the current window size, which is right - left + 1.\n",
    "\n",
    "Return the totalCount."
   ]
  },
  {
   "cell_type": "code",
   "execution_count": null,
   "id": "7ca588b9",
   "metadata": {
    "vscode": {
     "languageId": "cpp"
    }
   },
   "outputs": [],
   "source": [
    "class Solution {\n",
    "    public:\n",
    "      int numSubarrayProductLessThanK(vector<int>& nums, int k) {\n",
    "        // Handle edge cases where k is 0 or 1 (no subarrays possible)\n",
    "        if (k <= 1) return 0;\n",
    "    \n",
    "        int totalCount = 0;\n",
    "        int product = 1;\n",
    "    \n",
    "        // Use two pointers to maintain a sliding window\n",
    "        for (int left = 0, right = 0; right < nums.size(); right++) {\n",
    "          // Expand the window by including the element at the right pointer\n",
    "          product *= nums[right];\n",
    "    \n",
    "          // Shrink the window from the left while the product is greater than or equal to k\n",
    "          while (product >= k) {\n",
    "            // Remove the element at the left pointer from the product\n",
    "            product /= nums[left++];\n",
    "          }\n",
    "    \n",
    "          // Update the total count by adding the number of valid subarrays with the current window size\n",
    "          totalCount += right - left + 1;  // right - left + 1 represents the current window size\n",
    "        }\n",
    "    \n",
    "        return totalCount;\n",
    "      }\n",
    "};"
   ]
  },
  {
   "cell_type": "code",
   "execution_count": null,
   "id": "1b8563d8",
   "metadata": {},
   "outputs": [],
   "source": [
    "from typing import List\n",
    "\n",
    "class Solution:\n",
    "    def numSubarrayProductLessThanK(self, nums: List[int], k: int) -> int:\n",
    "        # Handle edge cases where k is 0 or 1 (no subarrays possible)\n",
    "        if k <= 1:\n",
    "            return 0\n",
    "\n",
    "        total_count = 0\n",
    "        product = 1\n",
    "\n",
    "        # Use two pointers to maintain a sliding window\n",
    "        left = 0\n",
    "        for right, num in enumerate(nums):\n",
    "            product *= num  # Expand the window by including the element at the right pointer\n",
    "\n",
    "            # Shrink the window from the left while the product is greater than or equal to k\n",
    "            while product >= k:\n",
    "                product //= nums[left]  # Remove the element at the left pointer from the product\n",
    "                left += 1\n",
    "\n",
    "            # Update the total count by adding the number of valid subarrays with the current window size\n",
    "            total_count += right - left + 1  # right - left + 1 represents the current window size\n",
    "\n",
    "        return total_count"
   ]
  },
  {
   "cell_type": "code",
   "execution_count": null,
   "id": "e154bdea",
   "metadata": {
    "vscode": {
     "languageId": "java"
    }
   },
   "outputs": [],
   "source": [
    "class Solution {\n",
    "    public int numSubarrayProductLessThanK(int[] nums, int k) {\n",
    "        // Handle edge cases where k is 0 or 1 (no subarrays possible)\n",
    "        if (k <= 1) return 0;\n",
    "\n",
    "        int totalCount = 0;\n",
    "        int product = 1;\n",
    "\n",
    "        // Use two pointers to maintain a sliding window\n",
    "        for (int left = 0, right = 0; right < nums.length; right++) {\n",
    "            // Expand the window by including the element at the right pointer\n",
    "            product *= nums[right];\n",
    "\n",
    "            // Shrink the window from the left while the product is greater than or equal to k\n",
    "            while (product >= k) {\n",
    "                // Remove the element at the left pointer from the product\n",
    "                product /= nums[left++];\n",
    "            }\n",
    "\n",
    "            // Update the total count by adding the number of valid subarrays with the current window size\n",
    "            totalCount += right - left + 1;  // right - left + 1 represents the current window size\n",
    "        }\n",
    "\n",
    "        return totalCount;\n",
    "    }\n",
    "}"
   ]
  }
 ],
 "metadata": {
  "language_info": {
   "name": "python"
  }
 },
 "nbformat": 4,
 "nbformat_minor": 5
}
