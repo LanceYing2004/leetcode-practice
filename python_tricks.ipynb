{
 "cells": [
  {
   "cell_type": "markdown",
   "id": "f49f65f8",
   "metadata": {},
   "source": [
    "### Swapping"
   ]
  },
  {
   "cell_type": "code",
   "execution_count": null,
   "id": "0b502366",
   "metadata": {},
   "outputs": [],
   "source": [
    "word = \"hello world\"\n",
    "result = list(word)\n",
    "left = 0\n",
    "right = len(result) - 1\n",
    "while left < right:\n",
    "    result[right], result[left] = result[left], result[right]\n",
    "    left += 1\n",
    "    right -= 1\n",
    "print(result)"
   ]
  }
 ],
 "metadata": {
  "language_info": {
   "name": "python"
  }
 },
 "nbformat": 4,
 "nbformat_minor": 5
}
