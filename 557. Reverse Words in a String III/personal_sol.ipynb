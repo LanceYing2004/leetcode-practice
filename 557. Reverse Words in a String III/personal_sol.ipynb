{
 "cells": [
  {
   "cell_type": "markdown",
   "id": "13e4e999",
   "metadata": {},
   "source": [
    "### Problem\n",
    "Given a string s, reverse the order of characters in each word within a sentence while still preserving whitespace and initial word order.\n",
    "\n",
    "Example 1:\n",
    "\n",
    "Input: s = \"Let's take LeetCode contest\"  \n",
    "Output: \"s'teL ekat edoCteeL tsetnoc\"  \n",
    "\n",
    "\n",
    "Example 2:\n",
    "\n",
    "Input: s = \"Mr Ding\"  \n",
    "Output: \"rM gniD\"  \n",
    " \n",
    "\n",
    "Constraints:\n",
    "\n",
    "- 1 <= s.length <= 5 * 104\n",
    "- s contains printable ASCII characters.\n",
    "- s does not contain any leading or trailing spaces.\n",
    "- There is at least one word in s.\n",
    "- All the words in s are separated by a single space.\n"
   ]
  },
  {
   "cell_type": "markdown",
   "id": "9925826f",
   "metadata": {},
   "source": [
    "### Intuition\n",
    "I made a mistake when I was tackling this problem. That is I just conpletely reverse the whole sentence. Then I realized that I need to setup manual \"breakpoint\", that is the whitespace between them."
   ]
  },
  {
   "cell_type": "markdown",
   "id": "3d9acd48",
   "metadata": {},
   "source": [
    "### Algorithm\n",
    "Sliding window + 2 pointer approach. Move the right pointer, until white space. Then content inside until it's all sorted out."
   ]
  },
  {
   "cell_type": "markdown",
   "id": "d28afcca",
   "metadata": {},
   "source": [
    "### Complexity\n",
    "Time Complexity: O(n)\n",
    "Space Complexity: O(1)"
   ]
  },
  {
   "cell_type": "code",
   "execution_count": null,
   "id": "4530b3e3",
   "metadata": {
    "vscode": {
     "languageId": "cpp"
    }
   },
   "outputs": [],
   "source": [
    "class Solution {\n",
    "public:\n",
    "    string reverseWords(string s) {\n",
    "        // Initialize variables\n",
    "        int left = 0;\n",
    "        int right = 0;\n",
    "        int probe = 0;\n",
    "\n",
    "        \n",
    "        while (right < s.size()) {\n",
    "            // new whitespace detected\n",
    "            if (s[right] == ' ') {\n",
    "                // update and set probe to new location\n",
    "                probe = right + 1;\n",
    "                // set right to the last char on the word\n",
    "                right--;\n",
    "                while (left < right) {\n",
    "                    swap(s[left], s[right]);\n",
    "                    left++;\n",
    "                    right--;\n",
    "                }\n",
    "                // initilize left and right\n",
    "                left = probe;\n",
    "                right = probe;\n",
    "            }\n",
    "            right++;\n",
    "        }\n",
    "        right--;\n",
    "        while (left < right) {\n",
    "            swap(s[left], s[right]);\n",
    "            left++;\n",
    "            right--;\n",
    "        }\n",
    "        return s;\n",
    "    }\n",
    "};"
   ]
  }
 ],
 "metadata": {
  "language_info": {
   "name": "python"
  }
 },
 "nbformat": 4,
 "nbformat_minor": 5
}
