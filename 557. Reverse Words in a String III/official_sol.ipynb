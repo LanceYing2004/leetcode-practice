{
 "cells": [
  {
   "cell_type": "markdown",
   "id": "fc8a0415",
   "metadata": {},
   "source": [
    "### Problem\n",
    "Given a string s, reverse the order of characters in each word within a sentence while still preserving whitespace and initial word order.\n",
    "\n",
    "Example 1:\n",
    "\n",
    "Input: s = \"Let's take LeetCode contest\"  \n",
    "Output: \"s'teL ekat edoCteeL tsetnoc\"  \n",
    "\n",
    "\n",
    "Example 2:\n",
    "\n",
    "Input: s = \"Mr Ding\"  \n",
    "Output: \"rM gniD\"  \n",
    " \n",
    "\n",
    "Constraints:\n",
    "\n",
    "- 1 <= s.length <= 5 * 104\n",
    "- s contains printable ASCII characters.\n",
    "- s does not contain any leading or trailing spaces.\n",
    "- There is at least one word in s.\n",
    "- All the words in s are separated by a single space.\n"
   ]
  },
  {
   "cell_type": "markdown",
   "id": "fc0637b4",
   "metadata": {},
   "source": [
    "## Approach 1: Traverse and Reverse each character one by one\n",
    "### Intuition\n",
    "- The characters of each word in the string are reversed, but the order of words remains the same.\n",
    "- The words in the string are separated by a space character. So we can say that to build the output string, we must extract and reverse the substring between 2 consecutive space characters.\n",
    "\n",
    "### Algorithm\n",
    "Traverse the string from left to right, starting from 0<sup>th</sup> to n<sup>th</sup> index. As we traverse, the pointer strIndex tracks each character.\n",
    "- Traverse over the string until the current pointer strIndex points to a space character.\n",
    "- As strIndex points to the space character, the index strIndex - 1 points to the last character of the current word.\n",
    "\n",
    "Inside the word:\n",
    "- lastSpaceIndex, the index of last space index, initialized to -1. `lastSpaceIndex + 1` is the first character of current word.\n",
    "- `strIndex - 1`, the index of last character before the whitespace\n",
    "\n",
    "Reverse the word and append to output string.\n",
    "\n",
    "### Complexity\n",
    "Time Complexity: O(n) -> Every character in the string is traversed twice. First, to find the end of the current word, and second to reverse the word and append it to the result. Thus the time complexity is, O(n+n)=O(n)  \n",
    "Space Complexity: O(1) We use constant extra space to track the last space index. (usually don't count the output as part of the space complexity)"
   ]
  },
  {
   "cell_type": "code",
   "execution_count": null,
   "id": "44f7b1cb",
   "metadata": {
    "vscode": {
     "languageId": "cpp"
    }
   },
   "outputs": [],
   "source": [
    "class Solution {\n",
    "public:\n",
    "    string reverseWords(string s) {\n",
    "        string result;\n",
    "        int lastSpaceIndex = -1;\n",
    "        // iterate through the whole string\n",
    "        for (int strIndex = 0; strIndex < s.length(); strIndex++) {\n",
    "            // if reached the end of the string or it's a white space character\n",
    "            if ((strIndex == s.length() - 1) || s[strIndex] == ' ') {\n",
    "                // last character of the string or the last char before the whitespace\n",
    "                int reverseStrIndex =\n",
    "                    (strIndex == s.length() - 1) ? strIndex : strIndex - 1;\n",
    "                // basically while reverseIndex > lastSpaceIndex\n",
    "                for (; reverseStrIndex > lastSpaceIndex; reverseStrIndex--) {\n",
    "                    result += s[reverseStrIndex];\n",
    "                }\n",
    "                if (strIndex != s.length() - 1) {\n",
    "                    result += ' ';\n",
    "                }\n",
    "                lastSpaceIndex = strIndex;\n",
    "            }\n",
    "        }\n",
    "        return result;\n",
    "    }\n",
    "};"
   ]
  },
  {
   "cell_type": "code",
   "execution_count": null,
   "id": "3e8ddcf4",
   "metadata": {
    "vscode": {
     "languageId": "java"
    }
   },
   "outputs": [],
   "source": [
    "class Solution {\n",
    "\n",
    "    public String reverseWords(String s) {\n",
    "        StringBuilder result = new StringBuilder();\n",
    "        int lastSpaceIndex = -1;\n",
    "        for (int strIndex = 0; strIndex < s.length(); strIndex++) {\n",
    "            if ((strIndex == s.length() - 1) || s.charAt(strIndex) == ' ') {\n",
    "                int reverseStrIndex = (strIndex == s.length() - 1) ? strIndex : strIndex - 1;\n",
    "                for (; reverseStrIndex > lastSpaceIndex; reverseStrIndex--) {\n",
    "                    result.append(s.charAt(reverseStrIndex));\n",
    "                }\n",
    "                if (strIndex != s.length() - 1) {\n",
    "                    result.append(' ');\n",
    "                }\n",
    "                lastSpaceIndex = strIndex;\n",
    "            }\n",
    "        }\n",
    "        return new String(result);\n",
    "    }\n",
    "}"
   ]
  },
  {
   "cell_type": "markdown",
   "id": "b8dd09c8",
   "metadata": {},
   "source": [
    "## Approach 2: Two Pointers\n",
    "In this solution, we will traverse the string and find every word's start and end index. Then, we will reverse each word using the two-pointer approach.\n",
    "\n",
    "### Algorithm\n",
    "1. Find the start and end index of every word given by startIndex and endIndex.\n",
    "2. Swap the characters in the word pointed by startIndex and endIndex.\n",
    "3. Increment startIndex by 1 and decrement endIndex by 1.\n",
    "4. While startIndex < endIndex, repeat steps 2 and 3.\n",
    "\n",
    "The variable lastSpaceIndex stores the index of space character last found. Initialize its value to -1.\n",
    "\n",
    "Traverse over each character of the string from 0<sup>th</sup> index to n<sup>th</sup> index using pointer strIndex.  \n",
    "As strIndex points to a space character, mark the start and end index of the current word in the variables startIndex and endIndex as:\n",
    "\n",
    "- The startIndex of the current word is the value of lastSpaceIndex + 1.\n",
    "- The endIndex of the current word is the value of strIndex - 1.\n",
    "- Reverse the characters in the current word using two pointer approach.\n",
    "\n",
    "Update the lastSpaceIndex to the value of strIndex i.e the index of current space character. The next iteration will refer to this variable to identify the start position of the next word.  \n",
    "Repeat the process for all the words in the string.\n",
    "\n",
    "### Complexity\n",
    "Time Complexity: O(n) -> Iterate through N elements + The algorithm to reverse the word also iterates N times to perform N/2 swaps.  \n",
    "Space Complexity: O(1) -> We use constant extra space to track the last space index."
   ]
  },
  {
   "cell_type": "code",
   "execution_count": null,
   "id": "1d064dfc",
   "metadata": {
    "vscode": {
     "languageId": "cpp"
    }
   },
   "outputs": [],
   "source": [
    "class Solution {\n",
    "public:\n",
    "    string reverseWords(string s) {\n",
    "        int lastSpaceIndex = -1;\n",
    "        int len = (int)s.size();\n",
    "        for (int strIndex = 0; strIndex <= len; strIndex++) {\n",
    "            if (strIndex == len || s[strIndex] == ' ') {\n",
    "                int startIndex = lastSpaceIndex + 1;\n",
    "                int endIndex = strIndex - 1;\n",
    "                while (startIndex < endIndex) {\n",
    "                    char temp = s[startIndex];\n",
    "                    s[startIndex] = s[endIndex];\n",
    "                    s[endIndex] = temp;\n",
    "                    startIndex++;\n",
    "                    endIndex--;\n",
    "                }\n",
    "                lastSpaceIndex = strIndex;\n",
    "            }\n",
    "        }\n",
    "        return s;\n",
    "    };\n",
    "};"
   ]
  },
  {
   "cell_type": "code",
   "execution_count": null,
   "id": "d4c7057f",
   "metadata": {
    "vscode": {
     "languageId": "java"
    }
   },
   "outputs": [],
   "source": [
    "class Solution {\n",
    "\n",
    "    public String reverseWords(String s) {\n",
    "        int lastSpaceIndex = -1;\n",
    "        char[] chArray = s.toCharArray();\n",
    "        int len = s.length();\n",
    "        for (int strIndex = 0; strIndex <= len; strIndex++) {\n",
    "            if (strIndex == len || chArray[strIndex] == ' ') {\n",
    "                int startIndex = lastSpaceIndex + 1;\n",
    "                int endIndex = strIndex - 1;\n",
    "                while (startIndex < endIndex) {\n",
    "                    char temp = chArray[startIndex];\n",
    "                    chArray[startIndex] = chArray[endIndex];\n",
    "                    chArray[endIndex] = temp;\n",
    "                    startIndex++;\n",
    "                    endIndex--;\n",
    "                }\n",
    "                lastSpaceIndex = strIndex;\n",
    "            }\n",
    "        }\n",
    "        return new String(chArray);\n",
    "    }\n",
    "\n",
    "}"
   ]
  },
  {
   "cell_type": "code",
   "execution_count": null,
   "id": "5b58bffd",
   "metadata": {},
   "outputs": [],
   "source": [
    "class Solution:\n",
    "    def reverseWords(self, s: str) -> str:\n",
    "        words = s.split(' ')\n",
    "        reversed_words = []\n",
    "        for word in words:\n",
    "            chars = list(word)\n",
    "            left = 0\n",
    "            right = len(chars) - 1\n",
    "\n",
    "            while left < right:\n",
    "                temp = chars[right]\n",
    "                chars[right] = chars[left]\n",
    "                chars[left] = temp\n",
    "                left += 1\n",
    "                right -= 1\n",
    "\n",
    "            reversed_word = ''.join(chars)\n",
    "            reversed_words.append(reversed_word)\n",
    "        result = ' '.join(reversed_words)\n",
    "        return result\n",
    "                \n",
    "\n",
    "        "
   ]
  }
 ],
 "metadata": {
  "language_info": {
   "name": "python"
  }
 },
 "nbformat": 4,
 "nbformat_minor": 5
}
