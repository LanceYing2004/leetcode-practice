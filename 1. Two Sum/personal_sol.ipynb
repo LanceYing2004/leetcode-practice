{
 "cells": [
  {
   "cell_type": "markdown",
   "id": "58df2b70",
   "metadata": {},
   "source": [
    "### Problem\n",
    "Given an array of integers nums and an integer target, return indices of the two numbers such that they add up to target.\n",
    "\n",
    "You may assume that each input would have exactly one solution, and you may not use the same element twice.\n",
    "\n",
    "You can return the answer in any order.\n",
    "\n",
    " \n",
    "\n",
    "Example 1:\n",
    "\n",
    "Input: nums = [2,7,11,15], target = 9  \n",
    "Output: [0,1]  \n",
    "Explanation: Because nums[0] + nums[1] == 9, we return [0, 1].\n",
    "\n",
    "\n",
    "Example 2:\n",
    "\n",
    "Input: nums = [3,2,4], target = 6  \n",
    "Output: [1,2]  \n",
    "Example 3:  \n",
    "\n",
    "Input: nums = [3,3], target = 6  \n",
    "Output: [0,1]  \n",
    " \n",
    "\n",
    "Constraints:\n",
    "\n",
    "- 2 <= nums.length <= 10<sup>4</sup>\n",
    "- 10<sup>9</sup> <= nums[i] <= 10<sup>9</sup>\n",
    "- 10<sup>9</sup> <= target <= 10<sup>9</sup>\n",
    "- Only one valid answer exists."
   ]
  },
  {
   "cell_type": "markdown",
   "id": "e56852e1",
   "metadata": {},
   "source": [
    "### Intuition\n",
    "Since the array is unordered and the lookup time for a key and a value is O(1), then use a hashmap.\n",
    "\n",
    "### Algorithm\n",
    "- Save the number as key and index as key, therefore it's <int, int>\n",
    "- check if a key exists using `hashMap.contains()`\n",
    "  - if yes, return the current index, hashmap[complement] (will return its index)\n",
    "- save the current number element as key, and its index as its value"
   ]
  },
  {
   "cell_type": "markdown",
   "id": "265014b3",
   "metadata": {},
   "source": [
    "### Additional Thoughts\n",
    "- Getting to know the syntax of hashmap in different language is important. (C++, Python, Java)"
   ]
  },
  {
   "cell_type": "code",
   "execution_count": null,
   "id": "807c83cb",
   "metadata": {
    "vscode": {
     "languageId": "cpp"
    }
   },
   "outputs": [],
   "source": [
    "class Solution {\n",
    "public:\n",
    "    vector<int> twoSum(vector<int>& nums, int target) {\n",
    "        unordered_map<int, int> hashMap;\n",
    "        for (int i = 0; i < nums.size(); i++) {\n",
    "            int num = nums[i];\n",
    "            int complement = target - num;\n",
    "            if (hashMap.contains(complement)) {\n",
    "                return {i, hashMap[complement]};\n",
    "            }\n",
    "            hashMap[num] = i;\n",
    "        }\n",
    "        return {-1, -1};    \n",
    "    }\n",
    "};"
   ]
  },
  {
   "cell_type": "code",
   "execution_count": null,
   "id": "1306c6f6",
   "metadata": {},
   "outputs": [],
   "source": [
    "from typing import List\n",
    "\n",
    "class Solution:\n",
    "    def twoSum(self, nums: List[int], target: int) -> List[int]:\n",
    "        hash_map = {}\n",
    "        for i in range (len(nums)):\n",
    "            num = nums[i]\n",
    "            complement = target - num\n",
    "            if complement in hash_map:\n",
    "                return [i, hash_map[complement]]\n",
    "            hash_map[num] = i\n",
    "        "
   ]
  }
 ],
 "metadata": {
  "language_info": {
   "name": "python"
  }
 },
 "nbformat": 4,
 "nbformat_minor": 5
}
