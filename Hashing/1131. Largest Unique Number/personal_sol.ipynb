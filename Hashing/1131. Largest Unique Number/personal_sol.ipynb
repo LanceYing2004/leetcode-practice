{
 "cells": [
  {
   "cell_type": "markdown",
   "id": "5a358b44",
   "metadata": {},
   "source": [
    "## Problem\n",
    "Given an integer array nums, return the largest integer that only occurs once. If no integer occurs once, return -1.\n",
    "\n",
    "**Example 1:**\n",
    "Input: nums = [5,7,3,9,4,9,8,3,1]  \n",
    "Output: 8  \n",
    "Explanation: The maximum integer in the array is 9 but it is repeated. The number 8 occurs only once, so it is the answer.  \n",
    "\n",
    "**Example 2:**\n",
    "Input: nums = [9,9,8,8]  \n",
    "Output: -1  \n",
    "Explanation: There is no number that occurs only once.  \n",
    "\n",
    "**Constraints:**\n",
    "1 <= nums.length <= 2000  \n",
    "0 <= nums[i] <= 1000"
   ]
  },
  {
   "cell_type": "markdown",
   "id": "10556f31",
   "metadata": {},
   "source": [
    "### Intuition\n",
    "Basically this question there are 2 key points to watch out for, one is unique (make sure the appearence of it is only 1), and second is largest (use max()). The rest are just using hashmap.\n",
    "\n",
    "### Complexity\n",
    "Time Complexity: O(n)  \n",
    "Space Complexity: O(n)"
   ]
  },
  {
   "cell_type": "code",
   "execution_count": null,
   "id": "9fe9ad2b",
   "metadata": {
    "vscode": {
     "languageId": "cpp"
    }
   },
   "outputs": [],
   "source": [
    "class Solution {\n",
    "public:\n",
    "    int largestUniqueNumber(vector<int>& nums) {\n",
    "        unordered_map<int, int> count;\n",
    "        for (int num : nums) {\n",
    "            count[num]++;\n",
    "        }\n",
    "        int result = -1;\n",
    "        for (auto pair : count) {\n",
    "            if (pair.second == 1) {\n",
    "                result = max(result, pair.first);\n",
    "            }\n",
    "        }\n",
    "        return result;\n",
    "    }\n",
    "};"
   ]
  },
  {
   "cell_type": "markdown",
   "id": "4f40257a",
   "metadata": {},
   "source": [
    "A better solution with 3ms of improvement:"
   ]
  },
  {
   "cell_type": "code",
   "execution_count": null,
   "id": "1086f46b",
   "metadata": {
    "vscode": {
     "languageId": "cpp"
    }
   },
   "outputs": [],
   "source": [
    "class Solution {\n",
    "public:\n",
    "    int largestUniqueNumber(vector<int>& nums) {\n",
    "        unordered_map<int, int> count;\n",
    "        for (int num : nums) {\n",
    "            count[num]++;\n",
    "        }\n",
    "        int result = -1;\n",
    "        for (auto pair : count) {\n",
    "            if (pair.second == 1 && pair.first > result) {\n",
    "                result = pair.first;\n",
    "            }\n",
    "        }\n",
    "        return result;\n",
    "    }\n",
    "};"
   ]
  }
 ],
 "metadata": {
  "language_info": {
   "name": "python"
  }
 },
 "nbformat": 4,
 "nbformat_minor": 5
}
