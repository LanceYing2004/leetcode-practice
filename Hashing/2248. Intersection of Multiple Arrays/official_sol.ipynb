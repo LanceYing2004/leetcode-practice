{
 "cells": [
  {
   "cell_type": "markdown",
   "id": "2122377c",
   "metadata": {},
   "source": [
    "## Problem\n",
    "Given a 2D integer array nums where nums[i] is a non-empty array of distinct positive integers, return the list of integers that are present in each array of nums sorted in ascending order.\n",
    "\n",
    "**Example 1:**\n",
    "Input: nums = [[3,1,2,4,5],[1,2,3,4],[3,4,5,6]]  \n",
    "Output: [3,4]  \n",
    "Explanation:  \n",
    "The only integers present in each of nums[0] = [3,1,2,4,5], nums[1] = [1,2,3,4], and nums[2] = [3,4,5,6] are 3 and 4, so we return [3,4].\n",
    "\n",
    "**Example 2:**\n",
    "Input: nums = [[1,2,3],[4,5,6]]  \n",
    "Output: []  \n",
    "Explanation:  \n",
    "There does not exist any integer present both in nums[0] and nums[1], so we return an empty list [].\n",
    "\n",
    "**Constraints:**\n",
    "- 1 <= nums.length <= 1000\n",
    "- 1 <= sum(nums[i].length) <= 1000\n",
    "- 1 <= nums[i][j] <= 1000\n",
    "- All the values of nums[i] are unique."
   ]
  },
  {
   "cell_type": "markdown",
   "id": "e9851d39",
   "metadata": {
    "vscode": {
     "languageId": "plaintext"
    }
   },
   "source": [
    "### Intuition\n",
    "Let's use a hash map counts to count the frequency of elements. We iterate over each of the inner arrays and update counts with every element. After going through all the arrays, we can iterate over our hash map to see which numbers appear n times.\n",
    "\n",
    "### Complexity\n",
    "Let's say that there are n lists and each list has an average of m elements. To populate our hash map, it costs O(n⋅m) to iterate over all the elements. The next loop iterates over all unique elements that we encountered. If all elements are unique, this can cost up to O(n⋅m), although this won't affect our time complexity since the previous loop also cost O(n⋅m). Finally, there can be at most m elements inside ans when we perform the sort, which means in the worst case, the sort will cost O(m⋅logm). This gives us a time complexity of O(n⋅m+m⋅logm)=O(m⋅(n+logm)). If every element in the input is unique, then the hash map will grow to a size of n⋅m, which means the algorithm has a space complexity of O(n⋅m)."
   ]
  },
  {
   "cell_type": "code",
   "execution_count": null,
   "id": "d15ee811",
   "metadata": {
    "vscode": {
     "languageId": "cpp"
    }
   },
   "outputs": [],
   "source": [
    "class Solution {\n",
    "public:\n",
    "    vector<int> intersection(vector<vector<int>>& nums) {\n",
    "        unordered_map<int, int> counts;\n",
    "        for (vector<int>& arr: nums) {\n",
    "            for (int x: arr) {\n",
    "                counts[x]++;\n",
    "            }\n",
    "        }\n",
    "        \n",
    "        int n = int(nums.size());\n",
    "        vector<int> ans;\n",
    "        for (auto [key, val]: counts) {\n",
    "            if (val == n) {\n",
    "                ans.push_back(key);\n",
    "            }\n",
    "        }\n",
    "        \n",
    "        sort(ans.begin(), ans.end());\n",
    "        return ans;\n",
    "    }\n",
    "};"
   ]
  },
  {
   "cell_type": "code",
   "execution_count": null,
   "id": "47d72e4f",
   "metadata": {},
   "outputs": [],
   "source": [
    "from collections import defaultdict\n",
    "from typing import List\n",
    "\n",
    "class Solution:\n",
    "    def intersection(self, nums: List[List[int]]) -> List[int]:\n",
    "        counts = defaultdict(int)\n",
    "        for arr in nums:\n",
    "            for x in arr:\n",
    "                counts[x] += 1\n",
    "\n",
    "        n = len(nums)\n",
    "        ans = []\n",
    "        for key in counts:\n",
    "            if counts[key] == n:\n",
    "                ans.append(key)\n",
    "        \n",
    "        return sorted(ans)"
   ]
  },
  {
   "cell_type": "code",
   "execution_count": null,
   "id": "65d6097f",
   "metadata": {
    "vscode": {
     "languageId": "java"
    }
   },
   "outputs": [],
   "source": [
    "class Solution {\n",
    "    public List<Integer> intersection(int[][] nums) {\n",
    "        Map<Integer, Integer> counts = new HashMap<>();\n",
    "        for (int[] arr: nums) {\n",
    "            for (int x: arr) {\n",
    "                counts.put(x, counts.getOrDefault(x, 0) + 1);\n",
    "            }\n",
    "        }\n",
    "        \n",
    "        int n = nums.length;\n",
    "        List<Integer> ans = new ArrayList<>();\n",
    "        for (int key: counts.keySet()) {\n",
    "            if (counts.get(key) == n) {\n",
    "                ans.add(key);\n",
    "            }\n",
    "        }\n",
    "        \n",
    "        Collections.sort(ans);\n",
    "        return ans;\n",
    "    }\n",
    "}"
   ]
  }
 ],
 "metadata": {
  "language_info": {
   "name": "python"
  }
 },
 "nbformat": 4,
 "nbformat_minor": 5
}
