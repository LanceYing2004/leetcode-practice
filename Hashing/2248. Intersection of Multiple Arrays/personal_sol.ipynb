{
 "cells": [
  {
   "cell_type": "markdown",
   "id": "def0a3a6",
   "metadata": {},
   "source": [
    "## Problem\n",
    "Given a 2D integer array nums where nums[i] is a non-empty array of distinct positive integers, return the list of integers that are present in each array of nums sorted in ascending order.\n",
    "\n",
    "**Example 1:**\n",
    "Input: nums = [[3,1,2,4,5],[1,2,3,4],[3,4,5,6]]  \n",
    "Output: [3,4]  \n",
    "Explanation:  \n",
    "The only integers present in each of nums[0] = [3,1,2,4,5], nums[1] = [1,2,3,4], and nums[2] = [3,4,5,6] are 3 and 4, so we return [3,4].\n",
    "\n",
    "**Example 2:**\n",
    "Input: nums = [[1,2,3],[4,5,6]]  \n",
    "Output: []  \n",
    "Explanation:  \n",
    "There does not exist any integer present both in nums[0] and nums[1], so we return an empty list [].\n",
    "\n",
    "**Constraints:**\n",
    "- 1 <= nums.length <= 1000\n",
    "- 1 <= sum(nums[i].length) <= 1000\n",
    "- 1 <= nums[i][j] <= 1000\n",
    "- All the values of nums[i] are unique."
   ]
  },
  {
   "cell_type": "markdown",
   "id": "ac0a96b5",
   "metadata": {},
   "source": [
    "### Intuition\n",
    "Using hashmap to keep track of the frequency of each key\n",
    "\n",
    "### Algorithm\n",
    "Use for loop to loop through all the variables, and then add them as keys to the hashmap.  \n",
    "Finally, check each key and their values, to see if the result match with the constrints.  \n",
    "Sort the final array.\n",
    "\n",
    "### Complexity\n",
    "Time Complexity: O(m * (n + logm)). There are n lists and each lists has m elements. To populate hashmap, it costs O(n * m) to iterate all elements. Then iterate over all unique elements that we encountered, worst case is O(n * m). Finally, perform the sort which will cost O(m * log m). This gives the complexity of O(n * m + m * logm) = O(m * (n + logm))  \n",
    "\n",
    "Space Complexity: O(n * m). If every element is unique."
   ]
  },
  {
   "cell_type": "code",
   "execution_count": null,
   "id": "7a8e2d38",
   "metadata": {
    "vscode": {
     "languageId": "cpp"
    }
   },
   "outputs": [],
   "source": [
    "class Solution {\n",
    "public:\n",
    "    vector<int> intersection(vector<vector<int>>& nums) {\n",
    "        unordered_map<int, int> count;\n",
    "        for (auto x : nums) {\n",
    "            for (auto num : x) {\n",
    "                count[num]++;\n",
    "            }\n",
    "        }\n",
    "\n",
    "        vector<int> ans;\n",
    "        for (auto pair : count) {\n",
    "            if (pair.second == nums.size()) {\n",
    "                ans.push_back(pair.first);\n",
    "            }\n",
    "        }\n",
    "        sort(ans.begin(), ans.end());\n",
    "        return ans;\n",
    "    }\n",
    "};"
   ]
  },
  {
   "cell_type": "code",
   "execution_count": null,
   "id": "6f9c46a9",
   "metadata": {},
   "outputs": [],
   "source": [
    "from collections import defaultdict\n",
    "from typing import List\n",
    "\n",
    "class Solution:\n",
    "    def intersection(self, nums: List[List[int]]) -> List[int]:\n",
    "        counts = defaultdict(int)\n",
    "        for arr in nums:\n",
    "            for x in arr:\n",
    "                counts[x] += 1\n",
    "        \n",
    "        ans = []\n",
    "        for key in counts:\n",
    "            if counts[key] == len(nums):\n",
    "                ans.append(key)\n",
    "        \n",
    "        return sorted(ans)\n",
    "        "
   ]
  }
 ],
 "metadata": {
  "language_info": {
   "name": "python"
  }
 },
 "nbformat": 4,
 "nbformat_minor": 5
}
