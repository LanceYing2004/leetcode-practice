{
 "cells": [
  {
   "cell_type": "markdown",
   "id": "a15c2c8b",
   "metadata": {},
   "source": [
    "## Problem\n",
    "A pangram is a sentence where every letter of the English alphabet appears at least once.\n",
    "Given a string sentence containing only lowercase English letters, return true if sentence is a pangram, or false otherwise.\n",
    "\n",
    "**Example 1:**\n",
    "\n",
    "Input: sentence = \"thequickbrownfoxjumpsoverthelazydog\"  \n",
    "Output: true  \n",
    "Explanation: sentence contains at least one of every letter of the English alphabet.  \n",
    "\n",
    "**Example 2:**\n",
    "\n",
    "Input: sentence = \"leetcode\"  \n",
    "Output: false  \n",
    "\n",
    "**Constraints:**\n",
    "\n",
    "- 1 <= sentence.length <= 1000\n",
    "- sentence consists of lowercase English letters."
   ]
  },
  {
   "cell_type": "markdown",
   "id": "33b349ad",
   "metadata": {},
   "source": [
    "### Thought Process\n",
    "Since adding, erase, and look up is done in O(1) time, and there are finite number of *unique* alphabets, therefore just add every letter in and check to see if it's the correct amount in the end."
   ]
  },
  {
   "cell_type": "markdown",
   "id": "a1084a37",
   "metadata": {
    "vscode": {
     "languageId": "makefile"
    }
   },
   "source": [
    "### Complexity\n",
    "Time Complexity: O(n)\n",
    "Space Complexity: O(n)"
   ]
  },
  {
   "cell_type": "code",
   "execution_count": null,
   "id": "5420bf87",
   "metadata": {
    "vscode": {
     "languageId": "cpp"
    }
   },
   "outputs": [],
   "source": [
    "class Solution {\n",
    "public:\n",
    "    bool checkIfPangram(string sentence) {\n",
    "        unordered_set<int> set_list;\n",
    "        for (auto c : sentence) {\n",
    "            set_list.insert(c);\n",
    "        }\n",
    "        return set_list.size() == 26;\n",
    "    }\n",
    "};"
   ]
  },
  {
   "cell_type": "code",
   "execution_count": null,
   "id": "f659523f",
   "metadata": {},
   "outputs": [],
   "source": [
    "class Solution:\n",
    "    def checkIfPangram(self, sentence: str) -> bool:\n",
    "        seen = set(sentence)\n",
    "\n",
    "        return len(seen) == 26\n",
    "        "
   ]
  }
 ],
 "metadata": {
  "language_info": {
   "name": "python"
  }
 },
 "nbformat": 4,
 "nbformat_minor": 5
}
