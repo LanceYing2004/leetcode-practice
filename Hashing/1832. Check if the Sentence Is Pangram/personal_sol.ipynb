{
 "cells": [
  {
   "cell_type": "markdown",
   "id": "a15c2c8b",
   "metadata": {},
   "source": [
    "## Problem\n",
    "A pangram is a sentence where every letter of the English alphabet appears at least once.\n",
    "Given a string sentence containing only lowercase English letters, return true if sentence is a pangram, or false otherwise.\n",
    "\n",
    "**Example 1:**\n",
    "\n",
    "Input: sentence = \"thequickbrownfoxjumpsoverthelazydog\"  \n",
    "Output: true  \n",
    "Explanation: sentence contains at least one of every letter of the English alphabet.  \n",
    "\n",
    "**Example 2:**\n",
    "\n",
    "Input: sentence = \"leetcode\"  \n",
    "Output: false  \n",
    "\n",
    "**Constraints:**\n",
    "\n",
    "- 1 <= sentence.length <= 1000\n",
    "- sentence consists of lowercase English letters."
   ]
  }
 ],
 "metadata": {
  "language_info": {
   "name": "python"
  }
 },
 "nbformat": 4,
 "nbformat_minor": 5
}
