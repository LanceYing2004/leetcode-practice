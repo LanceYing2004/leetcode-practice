{
 "cells": [
  {
   "cell_type": "markdown",
   "id": "9847859b",
   "metadata": {},
   "source": [
    "## Problem\n",
    "A pangram is a sentence where every letter of the English alphabet appears at least once.\n",
    "Given a string sentence containing only lowercase English letters, return true if sentence is a pangram, or false otherwise.\n",
    "\n",
    "**Example 1:**\n",
    "\n",
    "Input: sentence = \"thequickbrownfoxjumpsoverthelazydog\"  \n",
    "Output: true  \n",
    "Explanation: sentence contains at least one of every letter of the English alphabet.  \n",
    "\n",
    "**Example 2:**\n",
    "\n",
    "Input: sentence = \"leetcode\"  \n",
    "Output: false  \n",
    "\n",
    "**Constraints:**\n",
    "\n",
    "- 1 <= sentence.length <= 1000\n",
    "- sentence consists of lowercase English letters."
   ]
  },
  {
   "cell_type": "markdown",
   "id": "01522f42",
   "metadata": {},
   "source": [
    "### Intuition\n",
    "We can use a hash set seen to store all the unique letters in sentence that we encounter, In the iteration, we add every letter to seen.  \n",
    "\n",
    "Once we finish iterating, we know if sentence contains all 26 letters by checking the size of seen. Note that hash set has no duplicated elements, thus we don't need to worry that seen contains some same letters.\n",
    "\n",
    "### Algorithm\n",
    "1. Initialize an empty hash set seen.\n",
    "2. Iterate over sentence, and add every letter to seen.\n",
    "3. Once we finish the iteration, check if the size of seen equals 26."
   ]
  },
  {
   "cell_type": "code",
   "execution_count": null,
   "id": "f169392c",
   "metadata": {
    "vscode": {
     "languageId": "cpp"
    }
   },
   "outputs": [],
   "source": [
    "class Solution {\n",
    "public:\n",
    "    bool checkIfPangram(string sentence) {\n",
    "        // Add every letter of 'sentence' to hash set 'seen'.\n",
    "        unordered_set<char> seen(sentence.begin(), sentence.end());\n",
    "        \n",
    "        // If the size of 'seen' is 26, then 'sentence' is a pangram.\n",
    "        return seen.size() == 26;\n",
    "    }\n",
    "};"
   ]
  },
  {
   "cell_type": "code",
   "execution_count": null,
   "id": "ca829b5b",
   "metadata": {},
   "outputs": [],
   "source": [
    "class Solution:\n",
    "    def checkIfPangram(self, sentence: str) -> bool:\n",
    "        # Add every letter of 'sentence' to hash set 'seen'.\n",
    "        seen = set(sentence)\n",
    "        \n",
    "        # If the size of 'seen' is 26, then 'sentence' is a pangram.\n",
    "        return len(seen) == 26"
   ]
  },
  {
   "cell_type": "code",
   "execution_count": null,
   "id": "0482ced5",
   "metadata": {
    "vscode": {
     "languageId": "java"
    }
   },
   "outputs": [],
   "source": [
    "class Solution {\n",
    "    public boolean checkIfPangram(String sentence) {\n",
    "        // Empty set 'seen'.\n",
    "        Set<Character> seen = new HashSet<>();\n",
    "        \n",
    "        // Iterate over 'sentence' add every letter to 'seen'.\n",
    "        for (char currChar : sentence.toCharArray())\n",
    "            seen.add(currChar);\n",
    "        \n",
    "        // If the size of 'seen' is 26, then 'sentence' is a pangram.\n",
    "        return seen.size() == 26;\n",
    "    }\n",
    "}"
   ]
  }
 ],
 "metadata": {
  "language_info": {
   "name": "python"
  }
 },
 "nbformat": 4,
 "nbformat_minor": 5
}
