{
 "cells": [
  {
   "cell_type": "markdown",
   "id": "054784d3",
   "metadata": {},
   "source": [
    "## Problem\n",
    "You are given an integer array cards where cards[i] represents the value of the ith card. A pair of cards are matching if the cards have the same value.\n",
    "\n",
    "Return the minimum number of consecutive cards you have to pick up to have a pair of matching cards among the picked cards. If it is impossible to have matching cards, return -1.\n",
    "\n",
    "**Example 1:**  \n",
    "Input: cards = [3,4,2,3,4,7]  \n",
    "Output: 4  \n",
    "Explanation: We can pick up the cards [3,4,2,3] which contain a matching pair of cards with value 3. Note that picking up the cards [4,2,3,4] is also optimal.  \n",
    "\n",
    "**Example 2:**  \n",
    "Input: cards = [1,0,5,3]  \n",
    "Output: -1  \n",
    "Explanation: There is no way to pick up a set of consecutive cards that contain a pair of matching cards.  \n",
    "\n",
    "**Constraints:**  \n",
    "1 <= cards.length <= 10<sup>5</sup>  \n",
    "0 <= cards[i] <= 10<sup>6</sup>"
   ]
  },
  {
   "cell_type": "code",
   "execution_count": null,
   "id": "8d65b17f",
   "metadata": {
    "vscode": {
     "languageId": "cpp"
    }
   },
   "outputs": [],
   "source": [
    "class Solution {\n",
    "public:\n",
    "    int minimumCardPickup(vector<int>& cards) {\n",
    "        unordered_map<int, int> card_group;\n",
    "        int result = INT_MAX;\n",
    "\n",
    "        for (int i = 0; i < cards.size(); i++) {\n",
    "            if (card_group.contains(cards[i])) {\n",
    "                result = min(result, i - card_group[cards[i]] + 1);\n",
    "            }\n",
    "            card_group[cards[i]] = i;\n",
    "        }\n",
    "        return result == INT_MAX ? -1 : result;\n",
    "    }\n",
    "};"
   ]
  },
  {
   "cell_type": "code",
   "execution_count": null,
   "id": "a8f4ddc3",
   "metadata": {},
   "outputs": [],
   "source": [
    "from typing import List\n",
    "from collections import defaultdict\n",
    "\n",
    "class Solution:\n",
    "    def minimumCardPickup(self, cards: List[int]) -> int:\n",
    "        card_group = defaultdict(list)\n",
    "        result = 100001\n",
    "\n",
    "        for i in range(len(cards)):\n",
    "            if cards[i] in card_group:\n",
    "                result = min(result, i - card_group[cards[i]] + 1)\n",
    "            card_group[cards[i]] = i\n",
    "        \n",
    "        if result == 100001:\n",
    "            result = -1\n",
    "        return result\n",
    "                "
   ]
  }
 ],
 "metadata": {
  "language_info": {
   "name": "python"
  }
 },
 "nbformat": 4,
 "nbformat_minor": 5
}
