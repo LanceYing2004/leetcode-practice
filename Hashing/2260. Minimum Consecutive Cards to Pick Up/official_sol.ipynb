{
 "cells": [
  {
   "cell_type": "markdown",
   "id": "29c79f13",
   "metadata": {},
   "source": [
    "## Problem\n",
    "You are given an integer array cards where cards[i] represents the value of the ith card. A pair of cards are matching if the cards have the same value.\n",
    "\n",
    "Return the minimum number of consecutive cards you have to pick up to have a pair of matching cards among the picked cards. If it is impossible to have matching cards, return -1.\n",
    "\n",
    "**Example 1:**  \n",
    "Input: cards = [3,4,2,3,4,7]  \n",
    "Output: 4  \n",
    "Explanation: We can pick up the cards [3,4,2,3] which contain a matching pair of cards with value 3. Note that picking up the cards [4,2,3,4] is also optimal.  \n",
    "\n",
    "**Example 2:**  \n",
    "Input: cards = [1,0,5,3]  \n",
    "Output: -1  \n",
    "Explanation: There is no way to pick up a set of consecutive cards that contain a pair of matching cards.  \n",
    "\n",
    "**Constraints:**  \n",
    "1 <= cards.length <= 10<sup>5</sup>  \n",
    "0 <= cards[i] <= 10<sup>6</sup>"
   ]
  },
  {
   "cell_type": "markdown",
   "id": "91c78811",
   "metadata": {},
   "source": [
    "This question is equivalent to: what is the shortest distance between any two of the same element?\n",
    "\n",
    "If we go through the array and use a hash map to record the indices for every element, we can iterate over those indices to find the shortest distance. For example, given cards = [1, 2, 6, 2, 1], we would map 1: [0, 4], 2: [1, 3], and 6: [2]. Then we can iterate over the values and see that the minimum difference can be achieved from picking up the 2s.  \n",
    "Format: (key -> target pair number): (value -> target pair index)\n",
    "\n",
    "### Complexity  \n",
    "Time Complexity: O(n)  \n",
    "Space Complexity: O(n)"
   ]
  },
  {
   "cell_type": "code",
   "execution_count": null,
   "id": "a2e184db",
   "metadata": {
    "vscode": {
     "languageId": "cpp"
    }
   },
   "outputs": [],
   "source": [
    "class Solution {\n",
    "public:\n",
    "    int minimumCardPickup(vector<int>& cards) {\n",
    "        unordered_map<int, vector<int>> dic;\n",
    "        \n",
    "        // push back the index of current card number\n",
    "        for (int i = 0; i < cards.size(); i++) {\n",
    "            dic[cards[i]].push_back(i);\n",
    "        }\n",
    "        \n",
    "        int ans = INT_MAX;\n",
    "\n",
    "        // iterate through every possible combos\n",
    "        for (auto [key, arr]: dic) {\n",
    "            for (int i = 0; i < arr.size() - 1; i++) {\n",
    "                ans = min(ans, arr[i + 1] - arr[i] + 1);\n",
    "            }\n",
    "        }\n",
    "        \n",
    "        return ans == INT_MAX ? -1 : ans;\n",
    "    }\n",
    "};"
   ]
  },
  {
   "cell_type": "code",
   "execution_count": null,
   "id": "339f41b4",
   "metadata": {},
   "outputs": [],
   "source": [
    "from typing import List\n",
    "from collections import defaultdict\n",
    "\n",
    "class Solution:\n",
    "    def minimumCardPickup(self, cards: List[int]) -> int:\n",
    "        dic = defaultdict(list)\n",
    "        for i in range(len(cards)):\n",
    "            dic[cards[i]].append(i)\n",
    "            \n",
    "        ans = float(\"inf\")\n",
    "        for key in dic:\n",
    "            arr = dic[key]\n",
    "            for i in range(len(arr) - 1):\n",
    "                ans = min(ans, arr[i + 1] - arr[i] + 1)\n",
    "        \n",
    "        return ans if ans < float(\"inf\") else -1"
   ]
  },
  {
   "cell_type": "code",
   "execution_count": null,
   "id": "72add32f",
   "metadata": {
    "vscode": {
     "languageId": "java"
    }
   },
   "outputs": [],
   "source": [
    "class Solution {\n",
    "    public int minimumCardPickup(int[] cards) {\n",
    "        Map<Integer, List<Integer>> dic = new HashMap<>();\n",
    "        for (int i = 0; i < cards.length; i++) {\n",
    "            int num = cards[i];\n",
    "            if (!dic.containsKey(num)) {\n",
    "                dic.put(num, new ArrayList<>());\n",
    "            }\n",
    "            \n",
    "            dic.get(num).add(i);\n",
    "        }\n",
    "        \n",
    "        int ans = Integer.MAX_VALUE;\n",
    "        for (int key: dic.keySet()) {\n",
    "            List<Integer> arr = dic.get(key);\n",
    "            for (int i = 0; i < arr.size() - 1; i++) {\n",
    "                ans = Math.min(ans, arr.get(i + 1) - arr.get(i) + 1);\n",
    "            }\n",
    "        }\n",
    "        \n",
    "        if (ans == Integer.MAX_VALUE) {\n",
    "            return -1;\n",
    "        }\n",
    "        \n",
    "        return ans;\n",
    "    }\n",
    "}"
   ]
  },
  {
   "cell_type": "markdown",
   "id": "d6e546de",
   "metadata": {},
   "source": [
    "We can actually improve this algorithm slightly by observing that we don't need to store all the indices, but only the most recent one that we saw for each number. This will make space complexity as O(n) in the worst case, when there are no dups.\n",
    "\n",
    "Time Complexity: O(n)  \n",
    "Space Complexity: O(n)"
   ]
  },
  {
   "cell_type": "code",
   "execution_count": null,
   "id": "b941fb27",
   "metadata": {
    "vscode": {
     "languageId": "cpp"
    }
   },
   "outputs": [],
   "source": [
    "class Solution {\n",
    "public:\n",
    "    int minimumCardPickup(vector<int>& cards) {\n",
    "        unordered_map<int, int> dic;\n",
    "        int ans = INT_MAX;\n",
    "        \n",
    "        for (int i = 0; i < cards.size(); i++) {\n",
    "            if (dic.contains(cards[i])) {\n",
    "                ans = min(ans, i - dic[cards[i]] + 1);\n",
    "            }\n",
    "            \n",
    "            dic[cards[i]] = i;\n",
    "        }\n",
    "        \n",
    "        return ans == INT_MAX ? -1 : ans;\n",
    "    }\n",
    "};"
   ]
  },
  {
   "cell_type": "code",
   "execution_count": null,
   "id": "25869aa3",
   "metadata": {},
   "outputs": [],
   "source": [
    "class Solution:\n",
    "    def minimumCardPickup(self, cards: List[int]) -> int:\n",
    "        dic = defaultdict(int)\n",
    "        ans = float(\"inf\")\n",
    "        for i in range(len(cards)):\n",
    "            if cards[i] in dic:\n",
    "                ans = min(ans, i - dic[cards[i]] + 1)\n",
    "            \n",
    "            dic[cards[i]] = i\n",
    "\n",
    "        return ans if ans < float(\"inf\") else -1"
   ]
  },
  {
   "cell_type": "code",
   "execution_count": null,
   "id": "1a319f7a",
   "metadata": {
    "vscode": {
     "languageId": "java"
    }
   },
   "outputs": [],
   "source": [
    "class Solution {\n",
    "    public int minimumCardPickup(int[] cards) {\n",
    "        Map<Integer, Integer> dic = new HashMap<>();\n",
    "        int ans = Integer.MAX_VALUE;\n",
    "        \n",
    "        for (int i = 0; i < cards.length; i++) {\n",
    "            int num = cards[i];\n",
    "            if (dic.containsKey(num)) {\n",
    "                ans = Math.min(ans, i - dic.get(num) + 1);\n",
    "            }\n",
    "            \n",
    "            dic.put(num, i);\n",
    "        }\n",
    "        \n",
    "        if (ans == Integer.MAX_VALUE) {\n",
    "            return -1;\n",
    "        }\n",
    "        \n",
    "        return ans;\n",
    "    }\n",
    "}"
   ]
  }
 ],
 "metadata": {
  "language_info": {
   "name": "python"
  }
 },
 "nbformat": 4,
 "nbformat_minor": 5
}
