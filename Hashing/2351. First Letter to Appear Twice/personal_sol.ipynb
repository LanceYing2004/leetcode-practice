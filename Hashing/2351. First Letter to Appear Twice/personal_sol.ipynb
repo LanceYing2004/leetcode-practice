{
 "cells": [
  {
   "cell_type": "markdown",
   "id": "8606e1ea",
   "metadata": {},
   "source": [
    "### Problem\n",
    "Given a string s consisting of lowercase English letters, return the first letter to appear twice.\n",
    "\n",
    "Note:\n",
    "\n",
    "A letter a appears twice before another letter b if the second occurrence of a is before the second occurrence of b.\n",
    "s will contain at least one letter that appears twice.\n",
    " \n",
    "\n",
    "Example 1:\n",
    "\n",
    "Input: s = \"abccbaacz\"  \n",
    "Output: \"c\"  \n",
    "Explanation:  \n",
    "The letter 'a' appears on the indexes 0, 5 and 6.  \n",
    "The letter 'b' appears on the indexes 1 and 4.  \n",
    "The letter 'c' appears on the indexes 2, 3 and 7.  \n",
    "The letter 'z' appears on the index 8.  \n",
    "The letter 'c' is the first letter to appear twice, because out of all the letters the index of its second occurrence is the smallest.  \n",
    "\n",
    "\n",
    "Example 2: \n",
    "\n",
    "Input: s = \"abcdd\"  \n",
    "Output: \"d\"  \n",
    "Explanation:  \n",
    "The only letter that appears twice is 'd' so we return 'd'.  \n",
    " \n",
    "\n",
    "Constraints:\n",
    "\n",
    "- 2 <= s.length <= 100\n",
    "- s consists of lowercase English letters.\n",
    "- s has at least one repeated letter."
   ]
  },
  {
   "cell_type": "markdown",
   "id": "05532964",
   "metadata": {},
   "source": [
    "### Notes\n",
    "- I first thought of the properties of checking if a value exists in O(1) time\n",
    "- Then I though maybe, potentially I could use array to solve this problem, but only soon realized that it's O(n) time to check\n",
    "- So basically I use this property that if there's already a element, return it\n",
    "- Literally solved the whole problem in less than 30 seconds."
   ]
  },
  {
   "cell_type": "code",
   "execution_count": null,
   "id": "839ffced",
   "metadata": {
    "vscode": {
     "languageId": "cpp"
    }
   },
   "outputs": [],
   "source": [
    "class Solution {\n",
    "public:\n",
    "    char repeatedCharacter(string s) {\n",
    "        unordered_map<char, int> hash_map;\n",
    "        for (char letter : s) {\n",
    "            if (hash_map.contains(letter)) {\n",
    "                return letter;\n",
    "            }\n",
    "            hash_map[letter] = 1;\n",
    "        }\n",
    "        return 'a';\n",
    "    }\n",
    "};"
   ]
  },
  {
   "cell_type": "markdown",
   "id": "874a332c",
   "metadata": {},
   "source": [
    "After seeing the solution, I realized that I can use set `unordered_set<>` to further reduce my memory usage"
   ]
  },
  {
   "cell_type": "code",
   "execution_count": null,
   "id": "9c9e3297",
   "metadata": {
    "vscode": {
     "languageId": "cpp"
    }
   },
   "outputs": [],
   "source": [
    "class Solution {\n",
    "public:\n",
    "    char repeatedCharacter(string s) {\n",
    "        unordered_set<char> set;\n",
    "        for (char letter : s) {\n",
    "            if (set.contains(letter)) {\n",
    "                return letter;\n",
    "            }\n",
    "            set.insert(letter);\n",
    "        }\n",
    "        return 'a';\n",
    "    }\n",
    "};"
   ]
  },
  {
   "cell_type": "markdown",
   "id": "0da08277",
   "metadata": {},
   "source": [
    "well it seems like it doesn't really decrease the memory usage lol. But nevertheless it's a better sol than the previous one."
   ]
  },
  {
   "cell_type": "code",
   "execution_count": null,
   "id": "12135611",
   "metadata": {},
   "outputs": [],
   "source": [
    "class Solution:\n",
    "    def repeatedCharacter(self, s: str) -> str:\n",
    "        seen_letters = set()\n",
    "        for char in s:\n",
    "            if char in seen_letters:\n",
    "                return char\n",
    "            seen_letters.add(char)\n",
    "\n",
    "        return \" \""
   ]
  }
 ],
 "metadata": {
  "language_info": {
   "name": "python"
  }
 },
 "nbformat": 4,
 "nbformat_minor": 5
}
