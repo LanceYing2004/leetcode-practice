{
 "cells": [
  {
   "cell_type": "markdown",
   "id": "103253d2",
   "metadata": {},
   "source": [
    "## Problem\n",
    "Given a string s, return true if s is a good string, or false otherwise.\n",
    "\n",
    "A string s is good if all the characters that appear in s have the same number of occurrences (i.e., the same frequency).\n",
    "\n",
    "**Example 1:**\n",
    "Input: s = \"abacbc\"  \n",
    "Output: true  \n",
    "Explanation: The characters that appear in s are 'a', 'b', and 'c'. All characters occur 2 times in s.  \n",
    "\n",
    "**Example 2:**\n",
    "Input: s = \"aaabb\"  \n",
    "Output: false  \n",
    "Explanation: The characters that appear in s are 'a' and 'b'.  \n",
    "'a' occurs 3 times while 'b' occurs 2 times, which is not the same number of times.  \n",
    "\n",
    "**Constraints:**\n",
    "- 1 <= s.length <= 1000\n",
    "- s consists of lowercase English letters."
   ]
  },
  {
   "cell_type": "markdown",
   "id": "2cb11767",
   "metadata": {},
   "source": [
    "### Algorithm\n",
    "Using our knowledge of hash maps and sets, this is a straightforward problem. Use a hash map counts to count all character frequencies. Iterate through s and get the frequency of every character. Check if all frequencies are the same.\n",
    "\n",
    "Because a set ignores duplicates, we can put all the frequencies in a set and check if the length is 1 to verify if the frequencies are all the same.\n",
    "\n",
    "### Complexity\n",
    "Given n as the length of s, it costs O(n) to populate the hash map, then O(n) to convert the hash map's values to a set. This gives us a time complexity of O(n). The space that the hash map and set would occupy is equal to the number of unique characters. As previously discussed, some people would argue that this is O(1) since the characters come from the English alphabet, which is bounded by a constant. A more general answer would be to say that the space complexity is O(k), where k is the number of characters that could be in the input, which happens to be 26 in this problem."
   ]
  },
  {
   "cell_type": "code",
   "execution_count": null,
   "id": "a69f87ea",
   "metadata": {
    "vscode": {
     "languageId": "cpp"
    }
   },
   "outputs": [],
   "source": [
    "class Solution {\n",
    "public:\n",
    "    bool areOccurrencesEqual(string s) {\n",
    "        unordered_map<char, int> counts;\n",
    "        for (char c: s) {\n",
    "            counts[c]++;\n",
    "        }\n",
    "        \n",
    "        unordered_set<int> frequencies;\n",
    "        for (auto [key, val]: counts) {\n",
    "            frequencies.insert(val);\n",
    "        }\n",
    "        \n",
    "        return frequencies.size() == 1;\n",
    "    }\n",
    "};"
   ]
  },
  {
   "cell_type": "code",
   "execution_count": null,
   "id": "c8fb3a01",
   "metadata": {},
   "outputs": [],
   "source": [
    "from collections import defaultdict\n",
    "\n",
    "class Solution:\n",
    "    def areOccurrencesEqual(self, s: str) -> bool:\n",
    "        counts = defaultdict(int)\n",
    "        for c in s:\n",
    "            counts[c] += 1\n",
    "        \n",
    "        # This gets just the counts (like [2, 2, 2] for “abacbc”).\n",
    "        frequencies = counts.values()\n",
    "\n",
    "        # E.g., [2, 2, 2] → {2} → len = 1 → True\n",
    "        # [3, 2] → {3, 2} → len = 2 → False\n",
    "        return len(set(frequencies)) == 1"
   ]
  },
  {
   "cell_type": "code",
   "execution_count": null,
   "id": "129dfc2d",
   "metadata": {
    "vscode": {
     "languageId": "java"
    }
   },
   "outputs": [],
   "source": [
    "class Solution {\n",
    "    public boolean areOccurrencesEqual(String s) {\n",
    "        Map<Character, Integer> counts = new HashMap<>();\n",
    "        for (char c: s.toCharArray()) {\n",
    "            counts.put(c, counts.getOrDefault(c, 0) + 1);\n",
    "        }\n",
    "        \n",
    "        Set<Integer> frequencies = new HashSet<>(counts.values());\n",
    "        return frequencies.size() == 1;\n",
    "    }\n",
    "}"
   ]
  },
  {
   "cell_type": "markdown",
   "id": "74a1aa68",
   "metadata": {},
   "source": [
    "Bonus Python one liner using collection's Counter:"
   ]
  },
  {
   "cell_type": "code",
   "execution_count": null,
   "id": "076e917c",
   "metadata": {},
   "outputs": [],
   "source": [
    "from collections import Counter\n",
    "\n",
    "class Solution:\n",
    "    def areOccurrencesEqual(self, s: str) -> bool:\n",
    "        return len(set(Counter(s).values())) == 1"
   ]
  }
 ],
 "metadata": {
  "language_info": {
   "name": "python"
  }
 },
 "nbformat": 4,
 "nbformat_minor": 5
}
