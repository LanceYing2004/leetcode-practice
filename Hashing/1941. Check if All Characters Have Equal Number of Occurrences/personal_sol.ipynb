{
 "cells": [
  {
   "cell_type": "markdown",
   "id": "73f53d7e",
   "metadata": {},
   "source": [
    "## Problem\n",
    "Given a string s, return true if s is a good string, or false otherwise.\n",
    "\n",
    "A string s is good if all the characters that appear in s have the same number of occurrences (i.e., the same frequency).\n",
    "\n",
    "**Example 1:**\n",
    "Input: s = \"abacbc\"  \n",
    "Output: true  \n",
    "Explanation: The characters that appear in s are 'a', 'b', and 'c'. All characters occur 2 times in s.  \n",
    "\n",
    "**Example 2:**\n",
    "Input: s = \"aaabb\"  \n",
    "Output: false  \n",
    "Explanation: The characters that appear in s are 'a' and 'b'.  \n",
    "'a' occurs 3 times while 'b' occurs 2 times, which is not the same number of times.  \n",
    "\n",
    "**Constraints:**\n",
    "- 1 <= s.length <= 1000\n",
    "- s consists of lowercase English letters."
   ]
  },
  {
   "cell_type": "markdown",
   "id": "9d57f5a8",
   "metadata": {},
   "source": [
    "### Intuition\n",
    "using a hashmap, check the frequency, set the standard for the first one, and see if the rest matches with the first one.\n",
    "\n",
    "### Complexity\n",
    "Time Complexity: O(n)  \n",
    "Space Complexity: O(n)"
   ]
  },
  {
   "cell_type": "code",
   "execution_count": null,
   "id": "a4a77905",
   "metadata": {
    "vscode": {
     "languageId": "cpp"
    }
   },
   "outputs": [],
   "source": [
    "class Solution {\n",
    "public:\n",
    "    bool areOccurrencesEqual(string s) {\n",
    "        unordered_map<char, int> count;\n",
    "        for (char ch : s) {\n",
    "            count[ch]++;\n",
    "        }\n",
    "\n",
    "        int value = count[s[0]];\n",
    "        for (auto pair : count) {\n",
    "            if (pair.second != value) {\n",
    "                return false;\n",
    "            }\n",
    "        }\n",
    "        return true;\n",
    "    }\n",
    "};"
   ]
  }
 ],
 "metadata": {
  "language_info": {
   "name": "python"
  }
 },
 "nbformat": 4,
 "nbformat_minor": 5
}
