{
 "cells": [
  {
   "cell_type": "markdown",
   "id": "cca50e00",
   "metadata": {},
   "source": [
    "# Counting\n",
    "Basically means tracking the frequency of things.  \n",
    "A hash map opens the door to solving problems where the constraint involves multiple elements."
   ]
  },
  {
   "cell_type": "markdown",
   "id": "48de6e08",
   "metadata": {},
   "source": [
    "### Example 1\n",
    "You are given a string s and an integer k. Find the length of the longest substring that contains at most k distinct characters.\n",
    "\n",
    "For example, given s = \"eceba\" and k = 2, return 3. The longest substring with at most 2 distinct characters is \"ece\".\n",
    "\n",
    "#### Solution:\n",
    "Use a hashmap `counts` to check how many distinct character are in the window. Therefore, will map letter to their frequency. The size of the `counts` at any time is the number of distinct characters.  \n",
    "When remove the element on the left, that is when the window slides, decrement the frquency of the elements being removed. When frequency == 0, this character is no longer part of the window, and can safely delete the key.\n",
    "\n",
    "#### Time Complexity:\n",
    "Time Complexity: O(n), where the work inside is amoritized constant as O(1)  \n",
    "Space Complexity: Occupy O(k) space"
   ]
  },
  {
   "cell_type": "code",
   "execution_count": null,
   "id": "92ae85e0",
   "metadata": {
    "vscode": {
     "languageId": "cpp"
    }
   },
   "outputs": [],
   "source": [
    "int findLongestSubstring(string s, int k) {\n",
    "    unordered_map<string, int> counts;\n",
    "    int ans = 0;\n",
    "    int left = 0;\n",
    "    for (int right = 0; right < s.size(); right++) {\n",
    "        counts[s[right]] += 1;\n",
    "        while (counts.size() > k) {\n",
    "            counts[s[left]] -= 1;\n",
    "            if (counts[s[left]] == 0) {\n",
    "                counts.erase([s[left]]);\n",
    "            }\n",
    "            left++;\n",
    "        }\n",
    "        ans = max(ans, right - left + 1);\n",
    "    }\n",
    "    return ans;\n",
    "}"
   ]
  },
  {
   "cell_type": "code",
   "execution_count": null,
   "id": "d37470ec",
   "metadata": {},
   "outputs": [],
   "source": [
    "from collections import defaultdict\n",
    "\n",
    "def find_longest_substring(s: str, k: int) -> int:\n",
    "    counts = defaultdict(int)\n",
    "    left = ans = 0\n",
    "    for right in range(len(s)):\n",
    "        counts[s[right]] += 1\n",
    "        # while there are more distinct elements than required\n",
    "        while len(counts) > k:\n",
    "            counts[s[left]] -= 1\n",
    "            if counts[s[left]] == 0:\n",
    "                del counts[s[left]]\n",
    "            left += 1\n",
    "        # max (ans vs. window size)\n",
    "        ans = max(ans, right - left + 1)\n",
    "    return ans\n"
   ]
  },
  {
   "cell_type": "code",
   "execution_count": null,
   "id": "22b7da86",
   "metadata": {
    "vscode": {
     "languageId": "java"
    }
   },
   "outputs": [],
   "source": [
    "public int findLongestSubstring(String s, int k) {\n",
    "    Map<Character, Integer> counts = new HashMap<>();\n",
    "    int left = 0;\n",
    "    int ans = 0;\n",
    "\n",
    "    for (int right = 0; right < s.length(); right++) {\n",
    "        char c = s.charAt(right);\n",
    "        counts.put(c, counts.getOrDefault(c, 0) + 1);\n",
    "        while (counts.size() > k) {\n",
    "            char remove = s.charAt(left);\n",
    "            counts.put(remove, counts.getOrDefault(remove, 0) - 1);\n",
    "            if (counts.get(remove) == 0) {\n",
    "                counts.remove(remove);\n",
    "            }\n",
    "\n",
    "            left++;\n",
    "        }\n",
    "\n",
    "        ans = Math.max(ans, right - left + 1);\n",
    "    }\n",
    "\n",
    "    return ans;\n",
    "}"
   ]
  },
  {
   "cell_type": "markdown",
   "id": "7fcd4315",
   "metadata": {},
   "source": [
    "### Example 2 (Question 2248)\n",
    "Given a 2D array nums that contains n arrays of distinct integers, return a sorted array containing all the numbers that appear in all n arrays.\n",
    "\n",
    "For example, given nums = [[3,1,2,4,5],[1,2,3,4],[3,4,5,6]], return [3, 4]. 3 and 4 are the only numbers that are in all arrays.\n",
    "\n",
    "Let's use a hash map counts to count the frequency of elements. We iterate over each of the inner arrays and update counts with every element. After going through all the arrays, we can iterate over our hash map to see which numbers appear n times."
   ]
  },
  {
   "cell_type": "markdown",
   "id": "8449718a",
   "metadata": {},
   "source": [
    "#### Discussion: why not use array?\n",
    "Think about the case where there's a test case that has `[1, 2, 3, 1000]`, it's required to initialized array with size of 1001 to keep track of data, and nearly all of the indices will be unused.  \n",
    "\n",
    "A hash map is much safer. Even if 99999999999 is in the input, it doesn't matter - the hash map handles it like any other element."
   ]
  },
  {
   "cell_type": "markdown",
   "id": "6c277b47",
   "metadata": {},
   "source": [
    "### Example 3 (Question 1941)\n",
    "Given a string s, determine if all characters have the same frequency.\n",
    "\n",
    "For example, given s = \"abacbc\", return true, because all characters appear twice. Given s = \"aaabb\", return false. \"a\" appears 3 times, \"b\" appears 2 times. 3 != 2."
   ]
  },
  {
   "cell_type": "markdown",
   "id": "83987190",
   "metadata": {},
   "source": [
    "## Count the number of subarrays with an \"exact\" constraint\n",
    "For example, \"Find the number of subarrays that have a sum less than k\" with an input that only has positive numbers would be solved with sliding window. In this section, we would be talking about questions like \"Find the number of subarrays that have a sum exactly equal to k\"."
   ]
  },
  {
   "cell_type": "markdown",
   "id": "21dd22ee",
   "metadata": {},
   "source": [
    "### Algorithm\n",
    "The sum of any subarray can be found as the difference between two prefix sums. **Let's say that you wanted to find subarrays that had a sum exactly equal to `k`**, and you also had a prefix sum array of the input. You know that any difference in the prefix sum array equal to `k` represents a subarray with a sum equal to k. So how do we find these differences?\n",
    "\n",
    "Declare a hashmap `counts` to keep track how often does the sum occur  \n",
    "Initialize `counts[0] = 1`, because empty prefix has sum of 0.\n",
    "\n",
    "Iterate over and maintain the current sum as `curr`. At any given time, `curr` is the sum of the element iterated so far.  \n",
    "Also at the same time maintaining `counts` by incrementing the frequency of `curr` at each iteration.\n",
    "\n",
    "The difference between any 2 prefix sum is the subarray. For example, if wanted the subarray starting at index 3 and ending at index 8, then use `prefix[8] - prefix[3 - 1]`. Therefore:\n",
    "- The sum of the prefix up to `i`, the current iterator, is `curr`.\n",
    "- The sum of subarray from `j` to `i` is `k`.\n",
    "\n",
    "---Prefix sum info ends.---  \n",
    "Therefore the sum of the prefix ending at `j - 1` must be `curr - k`.  \n",
    "That is, `curr = sum = (prefix sum until j - 1) + k`\n"
   ]
  },
  {
   "attachments": {
    "prefix.png": {
     "image/png": "[encoded data removed]"
    }
   },
   "cell_type": "markdown",
   "id": "c720f6d3",
   "metadata": {},
   "source": [
    "![prefix.png](attachment:prefix.png)"
   ]
  },
  {
   "cell_type": "markdown",
   "id": "420e6b56",
   "metadata": {},
   "source": [
    "- In this image, the subarray between `j` and `i` has a sum of `k`. The sum of the prefix ending at `i` is 14 (which we keep track of in curr).\n",
    "- At some point earlier, `curr` was equal to 11 (the prefix ending before j). This is equal to `curr - k`."
   ]
  },
  {
   "cell_type": "markdown",
   "id": "d1c19463",
   "metadata": {},
   "source": [
    "**This is the key idea:** if we saw the prefix sum `curr - k` before, it necessarily implies that there is a subarray ending at `i` with a sum of `k`. We don't know where the beginning of this subarray is; we just know it exists, but that's enough to solve the problem.  \n",
    "\n",
    "Therefore, we can increment our answer by counts[curr - k]. If the prefix curr - k occurred multiple times before (due to negative numbers or zero), then each of those prefixes could be used as a starting point to form a subarray ending at the current index with a sum of k. That's why we need to track the frequency."
   ]
  },
  {
   "cell_type": "markdown",
   "id": "cb4725f8",
   "metadata": {},
   "source": [
    "#### Example:\n",
    "`nums = [0, 1, 2, 3, 4]`, `k = 5`  \n",
    "\n",
    "When `i = 3`:  \n",
    "`curr = 6` -> 1 + 2 + 3\n",
    "`counts.size() = 3` -> `counts[0]`, `counts[1]`, `counts[3]`\n",
    "\n",
    "there is a subarray ending at i with a sum of k - it's [2, 3].\n",
    "\n",
    "The current prefix sum is 6 (`curr = 6`). We want a subarray with a sum of 5 (target = 5). Note that if there's a prefix sum of `1`, that is one of the key = 1, then could just subtract that prefix sum from the current one and get a subarray of 5. In this case, we have a prefix `[0, 1]` which has sum == 1, and remove that subarray gives us `[2, 3]`.\n",
    "\n",
    "Remember in #1: Two sum we use current number `num` and searched for `target - num`. Here we use `curr` and search for `curr - k`, because `curr - (curr - k) = k`."
   ]
  },
  {
   "cell_type": "markdown",
   "id": "ba38e05f",
   "metadata": {},
   "source": [
    "### Example 4 (Question 560)\n",
    "\n",
    "### Intuition\n",
    "curr -> current sum iterator  \n",
    "k -> target  \n",
    "curr - k -> check if the previous sum existed  \n",
    "\n",
    "### Algorithm\n",
    "Given an integer array nums and an integer k, find the number of subarrays whose sum is equal to k.\n",
    "\n",
    "Let's walk through an example to see why the algorithm described above works for this problem. Let's say we have nums = [1, 2, 1, 2, 1], k = 3. There are four subarrays with sum 3: [1, 2] twice and [2, 1] twice.\n",
    "\n",
    "The prefix for this input is what `curr` represents during the iteration: [1, 3, 4, 6, 7]. There are 3 differences in this array that has k = 3: 4 - 1, 6 - 3, 7 - 4.\n",
    "\n",
    "Empty subarray has value of 1. Therefore `count[0] = 1`\n",
    "\n",
    "\n",
    "### Discussion: why we couldn't use set?\n",
    "A set can only tell you if a value has been seen before. But we need more than that. When there are non-positive numbers in the input, the same prefix can occur multiple times, and a hash map is needed to count the frequency.\n",
    "\n",
    "With a hash map (counts[prefix_sum]), you can:\n",
    "- Count how many times each prefix sum appears\n",
    "- For each new curr, do ans += counts[curr - k] to add all matching subarrays"
   ]
  },
  {
   "cell_type": "markdown",
   "id": "1d12fe0c",
   "metadata": {},
   "source": [
    "### Example 5 (Question 1248)\n"
   ]
  }
 ],
 "metadata": {
  "language_info": {
   "name": "python"
  }
 },
 "nbformat": 4,
 "nbformat_minor": 5
}
