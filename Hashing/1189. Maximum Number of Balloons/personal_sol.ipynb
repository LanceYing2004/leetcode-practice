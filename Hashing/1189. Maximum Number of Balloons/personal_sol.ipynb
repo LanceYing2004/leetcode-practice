{
 "cells": [
  {
   "cell_type": "markdown",
   "id": "871d752b",
   "metadata": {},
   "source": [
    "## Problem\n",
    "Given a string text, you want to use the characters of text to form as many instances of the word \"balloon\" as possible.\n",
    "You can use each character in text at most once. Return the maximum number of instances that can be formed.\n",
    "\n",
    "**Example 1:**  \n",
    "Input: text = \"nlaebolko\"  \n",
    "Output: 1\n",
    "\n",
    "**Example 2:**  \n",
    "Input: text = \"loonbalxballpoon\"  \n",
    "Output: 2\n",
    "\n",
    "**Example 3:**  \n",
    "Input: text = \"leetcode\"  \n",
    "Output: 0\n",
    "\n",
    "**Constraints:**\n",
    "- 1 <= text.length <= 10<sup>4</sup>\n",
    "- text consists of lower case English letters only."
   ]
  },
  {
   "cell_type": "code",
   "execution_count": null,
   "id": "ec412093",
   "metadata": {
    "vscode": {
     "languageId": "cpp"
    }
   },
   "outputs": [],
   "source": [
    "class Solution {\n",
    "public:\n",
    "    int maxNumberOfBalloons(string text) {\n",
    "        unordered_map<int, int> balloon_count;\n",
    "        for (char ch : text) {\n",
    "            if (ch == 'b' || ch == 'a' || ch == 'l' || ch == 'o' || ch == 'n') {\n",
    "                balloon_count[ch]++;\n",
    "            }\n",
    "        }\n",
    "        int single_count = min(balloon_count['b'], balloon_count['a']);\n",
    "        single_count = min(single_count, balloon_count['n']);\n",
    "        int double_count = min(balloon_count['l'], balloon_count['o']);\n",
    "\n",
    "        \n",
    "\n",
    "        // for (auto pair : balloon_count) {\n",
    "        //     if (pair.first == 'b' || pair.first == 'a' || pair.first == 'n') {\n",
    "        //         single_count = min(single_count, pair.second);\n",
    "        //     }\n",
    "        //     else if (pair.first == 'l' || pair.first == 'o') {\n",
    "        //         double_count = min(double_count, pair.second);\n",
    "        //     }\n",
    "        // }\n",
    "        return min(single_count, double_count / 2);\n",
    "    }\n",
    "};"
   ]
  }
 ],
 "metadata": {
  "language_info": {
   "name": "python"
  }
 },
 "nbformat": 4,
 "nbformat_minor": 5
}
