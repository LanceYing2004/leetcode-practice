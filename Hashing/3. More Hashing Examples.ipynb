{
 "cells": [
  {
   "cell_type": "markdown",
   "id": "f0a33b11",
   "metadata": {},
   "source": [
    "### Example 1: Q 49 Group Anagrams\n",
    "\n",
    "Key point: use sorted string as keys, and put the variation of it to the value.  \n",
    "the hashmap declaration is `unordered_map<string, vector<string>>groups`  \n",
    "Format: \"key\": [\"a\", \"b\", \"c\"]"
   ]
  },
  {
   "cell_type": "markdown",
   "id": "d2f2c714",
   "metadata": {},
   "source": [
    "### Example 2: Q 2260 Minimum Consecutive Cards to Pick Up\n",
    "\n",
    "key point: sliding window approach + hashmap to update the index (value) and card num (key)  \n",
    "Format: card #no.: most recent index"
   ]
  },
  {
   "cell_type": "markdown",
   "id": "9f17ab68",
   "metadata": {},
   "source": [
    "### Example 3: Q 2342 Max Sum of a Pair With Equal Sum of Digits\n",
    "1. Approach #1, add to `unordered_map<int, vector<int>>` and sort. Finally output 2 largest value\n",
    "2. Approach #2, use min-heap, pop the smallest one, and then output the largest min-heap\n",
    "3. Approach #3, only store 1 number. Basically: `ans = max(ans, num + dic[digitSum]);` and `dic[digitSum] = max(dic[digitSum], num);`"
   ]
  },
  {
   "cell_type": "markdown",
   "id": "80489594",
   "metadata": {},
   "source": [
    "### Example 4: Q 2352 Equal Row and Column Pairs"
   ]
  },
  {
   "cell_type": "markdown",
   "id": "25c96e36",
   "metadata": {},
   "source": [
    "Key point, create your own hash map! and use this unique string as your unique key."
   ]
  },
  {
   "cell_type": "code",
   "execution_count": null,
   "id": "9960a708",
   "metadata": {
    "vscode": {
     "languageId": "cpp"
    }
   },
   "outputs": [],
   "source": [
    "string convertToKey(vector<int>& arr) {\n",
    "    string s = \"\";\n",
    "    // for every number in array, create a unique key\n",
    "    for (int num: arr) {\n",
    "        s += to_string(num) + \",\";\n",
    "    }\n",
    "    \n",
    "    return s;\n",
    "}"
   ]
  },
  {
   "cell_type": "code",
   "execution_count": null,
   "id": "6ba10e46",
   "metadata": {},
   "outputs": [],
   "source": [
    "def convert_to_key(arr):\n",
    "    # Python is quite a nice language for coding interviews!\n",
    "    return tuple(arr)"
   ]
  }
 ],
 "metadata": {
  "language_info": {
   "name": "python"
  }
 },
 "nbformat": 4,
 "nbformat_minor": 5
}
