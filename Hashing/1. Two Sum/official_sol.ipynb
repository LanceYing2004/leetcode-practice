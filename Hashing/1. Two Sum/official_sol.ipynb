{
 "cells": [
  {
   "cell_type": "markdown",
   "id": "deb7d023",
   "metadata": {},
   "source": [
    "### Problem\n",
    "Given an array of integers nums and an integer target, return indices of the two numbers such that they add up to target.\n",
    "\n",
    "You may assume that each input would have exactly one solution, and you may not use the same element twice.\n",
    "\n",
    "You can return the answer in any order.\n",
    "\n",
    " \n",
    "\n",
    "Example 1:\n",
    "\n",
    "Input: nums = [2,7,11,15], target = 9  \n",
    "Output: [0,1]  \n",
    "Explanation: Because nums[0] + nums[1] == 9, we return [0, 1].\n",
    "\n",
    "\n",
    "Example 2:\n",
    "\n",
    "Input: nums = [3,2,4], target = 6  \n",
    "Output: [1,2]  \n",
    "Example 3:  \n",
    "\n",
    "Input: nums = [3,3], target = 6  \n",
    "Output: [0,1]  \n",
    " \n",
    "\n",
    "Constraints:\n",
    "\n",
    "- 2 <= nums.length <= 10<sup>4</sup>\n",
    "- 10<sup>9</sup> <= nums[i] <= 10<sup>9</sup>\n",
    "- 10<sup>9</sup> <= target <= 10<sup>9</sup>\n",
    "- Only one valid answer exists."
   ]
  },
  {
   "cell_type": "markdown",
   "id": "e5d6590e",
   "metadata": {},
   "source": [
    "### Brute force method\n",
    "The brute force approach is simple. Loop through each element x and find if there is another value that equals to target−x.\n",
    "\n",
    "Time Complexity: O(n^2). Do not recommend\n",
    "Space Complexity: O(1)"
   ]
  },
  {
   "cell_type": "code",
   "execution_count": null,
   "id": "f0078ba3",
   "metadata": {
    "vscode": {
     "languageId": "cpp"
    }
   },
   "outputs": [],
   "source": [
    "class Solution {\n",
    "public:\n",
    "    vector<int> twoSum(vector<int> &nums, int target) {\n",
    "        for (int i = 0; i < nums.size(); i++) {\n",
    "            for (int j = i + 1; j < nums.size(); j++) {\n",
    "                if (nums[j] == target - nums[i]) {\n",
    "                    return {i, j};\n",
    "                }\n",
    "            }\n",
    "        }\n",
    "        // Return an empty vector if no solution is found\n",
    "        return {};\n",
    "    }\n",
    "};"
   ]
  },
  {
   "cell_type": "code",
   "execution_count": null,
   "id": "2907c7c0",
   "metadata": {},
   "outputs": [],
   "source": [
    "from typing import List\n",
    "\n",
    "class Solution:\n",
    "    def twoSum(self, nums: List[int], target: int) -> List[int]:\n",
    "        for i in range(len(nums)):\n",
    "            for j in range(i + 1, len(nums)):\n",
    "                if nums[j] == target - nums[i]:\n",
    "                    return [i, j]\n",
    "        # Return an empty list if no solution is found\n",
    "        return []"
   ]
  },
  {
   "cell_type": "markdown",
   "id": "99a9c3b0",
   "metadata": {},
   "source": [
    "### Intuition\n",
    "- Previous, we are using a sorted array instead of unsorted array.\n",
    "- Using if (target - current input) exists in the array by O(1) time"
   ]
  },
  {
   "cell_type": "markdown",
   "id": "69ceda5a",
   "metadata": {},
   "source": [
    "### Algorithm\n",
    "It turns out we can do it in one-pass. While we are iterating and inserting elements into the hash table, we also look back to check if current element's complement already exists in the hash table. If it exists, we have found a solution and return the indices immediately."
   ]
  },
  {
   "cell_type": "markdown",
   "id": "aef86378",
   "metadata": {},
   "source": [
    "### Complexity\n",
    "Time Complexity: O(n) -> We traverse the list containing n elements only once. Each lookup in the table costs only O(1) time.  \n",
    "Space Complexity: O(n) -> Additional Hashmap is required"
   ]
  }
 ],
 "metadata": {
  "language_info": {
   "name": "python"
  }
 },
 "nbformat": 4,
 "nbformat_minor": 5
}
