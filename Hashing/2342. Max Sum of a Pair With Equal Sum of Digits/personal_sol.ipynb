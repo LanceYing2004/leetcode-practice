{
 "cells": [
  {
   "cell_type": "markdown",
   "id": "90b5512c",
   "metadata": {},
   "source": [
    "## Problem\n",
    "You are given a 0-indexed array nums consisting of positive integers. You can choose two indices i and j, such that i != j, and the sum of digits of the number nums[i] is equal to that of nums[j].\n",
    "\n",
    "Return the maximum value of nums[i] + nums[j] that you can obtain over all possible indices i and j that satisfy the conditions. If no such pair of indices exists, return -1.\n",
    "\n",
    "**Example 1:**  \n",
    "Input: nums = [18,43,36,13,7]  \n",
    "Output: 54  \n",
    "Explanation: The pairs (i, j) that satisfy the conditions are:  \n",
    "- (0, 2), both numbers have a sum of digits equal to 9, and their sum is 18 + 36 = 54.\n",
    "- (1, 4), both numbers have a sum of digits equal to 7, and their sum is 43 + 7 = 50.\n",
    "So the maximum sum that we can obtain is 54.  \n",
    "\n",
    "**Example 2:**  \n",
    "Input: nums = [10,12,19,14]  \n",
    "Output: -1  \n",
    "Explanation: There are no two numbers that satisfy the conditions, so we return -1.  \n",
    "\n",
    "**Constraints:**  \n",
    "1 <= nums.length <= 10<sup>5</sup>  \n",
    "1 <= nums[i] <= 10<sup>9</sup>"
   ]
  },
  {
   "cell_type": "code",
   "execution_count": null,
   "id": "c2088cc3",
   "metadata": {
    "vscode": {
     "languageId": "cpp"
    }
   },
   "outputs": [],
   "source": [
    "class Solution {\n",
    "public:\n",
    "    int maximumSum(vector<int>& nums) {\n",
    "        unordered_map<int, int> num_group;\n",
    "        int result = -1;\n",
    "        int sum_digit = 0;\n",
    "\n",
    "        for (int num : nums) {\n",
    "            // calculate sum_digit\n",
    "            sum_digit = DigitSum(num);\n",
    "            // if it contains this key\n",
    "            if (num_group.contains(sum_digit)) {\n",
    "                result = max(result, num + num_group[sum_digit]);\n",
    "            }\n",
    "            num_group[sum_digit] = max(num_group[sum_digit], num);\n",
    "\n",
    "        }\n",
    "\n",
    "        return result;\n",
    "    }\n",
    "\n",
    "    int DigitSum (int num) {\n",
    "        int temp = 0;\n",
    "        int result = 0;\n",
    "        while (num > 0) {\n",
    "            temp = num;\n",
    "            result += temp % 10;\n",
    "            num = num / 10;\n",
    "        }\n",
    "        return result;\n",
    "    }\n",
    "};"
   ]
  },
  {
   "cell_type": "code",
   "execution_count": null,
   "id": "1a3f6eb9",
   "metadata": {},
   "outputs": [],
   "source": [
    "from typing import List\n",
    "\n",
    "class Solution:\n",
    "    def sum_digit_calc(self, num: int) -> int:\n",
    "        result = 0\n",
    "        while (num > 0):\n",
    "            result += num % 10\n",
    "            num //= 10\n",
    "        return result\n",
    "\n",
    "    def maximumSum(self, nums: List[int]) -> int:\n",
    "        num_group = [0] * 82\n",
    "        result = -1\n",
    "\n",
    "        for num in nums:\n",
    "            digit_sum = self.sum_digit_calc(num)\n",
    "            if num_group[digit_sum] > 0:\n",
    "                result = max(result, num + num_group[digit_sum])\n",
    "            num_group[digit_sum] = max(num_group[digit_sum], num)\n",
    "        return result\n",
    "            \n",
    "\n",
    "        "
   ]
  }
 ],
 "metadata": {
  "language_info": {
   "name": "python"
  }
 },
 "nbformat": 4,
 "nbformat_minor": 5
}
