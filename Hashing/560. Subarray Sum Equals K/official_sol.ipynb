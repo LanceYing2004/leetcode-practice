{
 "cells": [
  {
   "cell_type": "markdown",
   "id": "a0a04b34",
   "metadata": {},
   "source": [
    "## Problem\n",
    "Given an array of integers nums and an integer k, return the total number of subarrays whose sum equals to k.  \n",
    "A subarray is a contiguous non-empty sequence of elements within an array.  \n",
    "\n",
    "**Example 1:**\n",
    "Input: nums = [1,1,1], k = 2  \n",
    "Output: 2  \n",
    "\n",
    "**Example 2:**\n",
    "Input: nums = [1,2,3], k = 3  \n",
    "Output: 2  \n",
    "\n",
    "**Constraints:**  \n",
    "1 <= nums.length <= 2 * 10<sup>4</sup>  \n",
    "-1000 <= nums[i] <= 1000  \n",
    "-10<sup>7</sup> <= k <= 10<sup>7</sup>"
   ]
  },
  {
   "cell_type": "markdown",
   "id": "f8d86c6b",
   "metadata": {},
   "source": [
    "Let's walk through an example to see why the algorithm described above works for this problem. Let's say we have nums = [1, 2, 1, 2, 1], k = 3. There are four subarrays with sum 3 - [1, 2] twice and [2, 1] twice.\n",
    "\n",
    "The prefix sum for this input, which is what curr represents during iteration, is [1, 3, 4, 6, 7]. You can see that there are three differences in this array of 3:   (4 - 1), (6 - 3), (7 - 4).\n",
    "\n",
    "But we said that there are four valid subarrays? Recall that we need to initialize our hash map with 0: 1, considering the empty prefix. This is because if there is a prefix with a sum equal to k, then without initializing 0: 1, curr - k = 0 wouldn't show up in the hash map and we would \"lose\" this valid subarray.\n",
    "\n",
    "So at indices 1, 2, 3, and 4, we find curr - k has been seen prior. The elements are all positive so each value of curr - k only showed up once, and hence our answer is 4.\n",
    "\n",
    "\n",
    "### Algorithm\n",
    "The idea behind this approach is as follows: If the cumulative sum(represented by sum[i] for sum up to i th index) up to two indices is the same, the sum of the elements lying in between those indices is zero. Extending the same thought further, if the cumulative sum up to two indices, say i and j is at a difference of k i.e. if sum[i]−sum[j]=k, the sum of elements lying between indices i and j is k.\n",
    "\n",
    "Based on these thoughts, we make use of a hashmap map which is used to store the cumulative sum up to all the indices possible along with the number of times the same sum occurs. We store the data in the form: (sumi, occurence)\n",
    "​\n",
    "We traverse over the array nums and keep on finding the cumulative sum. Every time we encounter a new sum, we make a new entry in the hashmap corresponding to that sum. If the same sum occurs again, we increment the count corresponding to that sum in the hashmap. Further, for every sum encountered, we also determine the number of times the sum sum−k has occurred already, since it will determine the number of times a subarray with sum k has occurred up to the current index. We increment the count by the same amount.\n",
    "\n",
    "After the complete array has been traversed, the count gives the required result."
   ]
  },
  {
   "cell_type": "code",
   "execution_count": null,
   "id": "bfbf3682",
   "metadata": {
    "vscode": {
     "languageId": "cpp"
    }
   },
   "outputs": [],
   "source": [
    "class Solution {\n",
    "public:\n",
    "    int subarraySum(vector<int>& nums, int k) {\n",
    "        unordered_map<int, int> counts;\n",
    "        counts[0] = 1;\n",
    "        int ans = 0, curr = 0;\n",
    "        \n",
    "        for (int num: nums) {\n",
    "            curr += num;\n",
    "            ans += counts[curr - k];\n",
    "            counts[curr]++;\n",
    "        }\n",
    "        \n",
    "        return ans;\n",
    "    }\n",
    "};"
   ]
  },
  {
   "cell_type": "code",
   "execution_count": null,
   "id": "e0d3a670",
   "metadata": {},
   "outputs": [],
   "source": [
    "from collections import defaultdict\n",
    "\n",
    "class Solution:\n",
    "    def subarraySum(self, nums: List[int], k: int) -> int:\n",
    "        counts = defaultdict(int)\n",
    "        counts[0] = 1\n",
    "        ans = curr = 0\n",
    "\n",
    "        for num in nums:\n",
    "            curr += num\n",
    "            ans += counts[curr - k]\n",
    "            counts[curr] += 1\n",
    "    \n",
    "        return ans"
   ]
  },
  {
   "cell_type": "code",
   "execution_count": null,
   "id": "c7c9a667",
   "metadata": {
    "vscode": {
     "languageId": "java"
    }
   },
   "outputs": [],
   "source": [
    "class Solution {\n",
    "    public int subarraySum(int[] nums, int k) {\n",
    "        Map<Integer, Integer> counts = new HashMap<>();\n",
    "        counts.put(0, 1);\n",
    "        \n",
    "        int ans = 0;\n",
    "        int curr = 0;\n",
    "        \n",
    "        for (int num: nums) {\n",
    "            curr += num;\n",
    "            ans += counts.getOrDefault(curr - k, 0);\n",
    "            counts.put(curr, counts.getOrDefault(curr, 0) + 1);\n",
    "        }\n",
    "        \n",
    "        return ans;\n",
    "    }\n",
    "}"
   ]
  }
 ],
 "metadata": {
  "language_info": {
   "name": "python"
  }
 },
 "nbformat": 4,
 "nbformat_minor": 5
}
