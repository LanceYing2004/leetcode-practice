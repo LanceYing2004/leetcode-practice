{
 "cells": [
  {
   "cell_type": "markdown",
   "id": "7b627ce7",
   "metadata": {},
   "source": [
    "## Problem\n",
    "Given an array of integers nums and an integer k, return the total number of subarrays whose sum equals to k.  \n",
    "A subarray is a contiguous non-empty sequence of elements within an array.  \n",
    "\n",
    "**Example 1:**\n",
    "Input: nums = [1,1,1], k = 2  \n",
    "Output: 2  \n",
    "\n",
    "**Example 2:**\n",
    "Input: nums = [1,2,3], k = 3  \n",
    "Output: 2  \n",
    "\n",
    "**Constraints:**  \n",
    "1 <= nums.length <= 2 * 10<sup>4</sup>  \n",
    "-1000 <= nums[i] <= 1000  \n",
    "-10<sup>7</sup> <= k <= 10<sup>7</sup>"
   ]
  },
  {
   "cell_type": "markdown",
   "id": "694b31f1",
   "metadata": {},
   "source": [
    "### Intuition\n",
    "curr -> current sum iterator  \n",
    "k -> target  \n",
    "curr - k -> check if the previous sum existed  \n",
    "\n",
    "Use prefix sum + hash map\n",
    "\n",
    "### algorithm\n",
    "Create a hashmap initializing hashmap[0] = 1  \n",
    "Then for every element, check if `current sum - target` existed. If yes, then add the amount of time it existed to the result.  \n",
    "Finally, add up current sum occurences.\n",
    "\n",
    "### Complexity\n",
    "Time Complexity: O(n)  \n",
    "Space Complexity: O(n)"
   ]
  },
  {
   "cell_type": "code",
   "execution_count": null,
   "id": "433e5ab4",
   "metadata": {
    "vscode": {
     "languageId": "cpp"
    }
   },
   "outputs": [],
   "source": [
    "class Solution {\n",
    "public:\n",
    "    int subarraySum(vector<int>& nums, int k) {\n",
    "        // initialize hashmap, make sure to initialize first variable , as it's an empty presum\n",
    "        unordered_map<int, int> counts;\n",
    "        counts[0] = 1;\n",
    "        int ans = 0, curr = 0, target = 0;\n",
    "\n",
    "        // iterate through every variable\n",
    "        for (int num : nums) {\n",
    "            // current sum += num\n",
    "            curr += num;\n",
    "\n",
    "            // the match is current - target, refer to Q1: 2 sum\n",
    "            target = curr - k;\n",
    "\n",
    "            // if it does contains target, then add the occurences to the answer\n",
    "            if (counts.contains(target)) {\n",
    "                ans += counts[target];\n",
    "            }\n",
    "\n",
    "            // put the current key to the hashmap\n",
    "            counts[curr]++;\n",
    "        }\n",
    "        return ans;\n",
    "    }\n",
    "};"
   ]
  },
  {
   "cell_type": "code",
   "execution_count": null,
   "id": "5cbc0b48",
   "metadata": {},
   "outputs": [],
   "source": [
    "from collections import defaultdict\n",
    "from typing import List\n",
    "\n",
    "class Solution:\n",
    "    def subarraySum(self, nums: List[int], k: int) -> int:\n",
    "        counts = defaultdict(int)\n",
    "        counts[0] = 1\n",
    "        ans = curr = 0\n",
    "\n",
    "        for num in nums:\n",
    "            curr += num\n",
    "            target = curr - k\n",
    "            if target in counts:\n",
    "                ans += counts[target]\n",
    "            counts[curr] += 1\n",
    "        return ans\n",
    "        "
   ]
  }
 ],
 "metadata": {
  "language_info": {
   "name": "python"
  }
 },
 "nbformat": 4,
 "nbformat_minor": 5
}
