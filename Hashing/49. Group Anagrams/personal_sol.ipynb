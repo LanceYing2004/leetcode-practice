{
 "cells": [
  {
   "cell_type": "markdown",
   "id": "b356927a",
   "metadata": {},
   "source": [
    "## Problem\n",
    "Given an array of strings strs, group the anagrams together. You can return the answer in any order.\n",
    "\n",
    "**Example 1:**  \n",
    "Input: strs = [\"eat\",\"tea\",\"tan\",\"ate\",\"nat\",\"bat\"].  \n",
    "Output: [[\"bat\"],[\"nat\",\"tan\"],[\"ate\",\"eat\",\"tea\"]].  \n",
    "\n",
    "Explanation:  \n",
    "There is no string in strs that can be rearranged to form \"bat\".  \n",
    "The strings \"nat\" and \"tan\" are anagrams as they can be rearranged to form each other.  \n",
    "The strings \"ate\", \"eat\", and \"tea\" are anagrams as they can be rearranged to form each other.  \n",
    "\n",
    "**Example 2:**  \n",
    "Input: strs = [\"\"]  \n",
    "Output: [[\"\"]]  \n",
    "\n",
    "**Example 3:**  \n",
    "Input: strs = [\"a\"]  \n",
    "Output: [[\"a\"]]  \n",
    "\n",
    "**Constraints:**  \n",
    "- 1 <= strs.length <= 10<sup>4</sup>\n",
    "- 0 <= strs[i].length <= 100\n",
    "- strs[i] consists of lowercase English letters."
   ]
  },
  {
   "cell_type": "code",
   "execution_count": null,
   "id": "3bb62084",
   "metadata": {
    "vscode": {
     "languageId": "cpp"
    }
   },
   "outputs": [],
   "source": [
    "class Solution {\n",
    "public:\n",
    "    vector<vector<string>> groupAnagrams(vector<string>& strs) {\n",
    "        vector<vector<string>> list;\n",
    "        // return directly\n",
    "        if (strs.empty()) {\n",
    "            return list;\n",
    "        }\n",
    "        // return directly too\n",
    "        if (strs.size() == 1) {\n",
    "            list.push_back(strs);\n",
    "            return list;\n",
    "        }\n",
    "\n",
    "        unordered_map<string, vector<string>>group;\n",
    "        string temp;\n",
    "\n",
    "        // save the sorted temp as key, and push_back the list in hashmap\n",
    "        for (string str : strs) {\n",
    "            temp = str;\n",
    "            sort(temp.begin(), temp.end());\n",
    "            group[temp].push_back(str);\n",
    "        }\n",
    "\n",
    "        // list push back the grouping result\n",
    "        for (auto pair : group) {\n",
    "            list.push_back(pair.second);\n",
    "        }\n",
    "\n",
    "        return list;\n",
    "    }\n",
    "};"
   ]
  },
  {
   "cell_type": "code",
   "execution_count": null,
   "id": "a7217f9f",
   "metadata": {},
   "outputs": [],
   "source": [
    "from typing import List\n",
    "from collections import defaultdict\n",
    "\n",
    "class Solution:\n",
    "    def groupAnagrams(self, strs: List[str]) -> List[List[str]]:\n",
    "        groups = defaultdict(list)\n",
    "        for s in strs:\n",
    "            key = \"\".join(sorted(s))\n",
    "            groups[key].append(s)\n",
    "        return list(groups.values())\n",
    "        "
   ]
  },
  {
   "cell_type": "markdown",
   "id": "73c120d6",
   "metadata": {},
   "source": [
    "well apparently removing the first two edge cases is much faster:"
   ]
  },
  {
   "cell_type": "code",
   "execution_count": null,
   "id": "96477f57",
   "metadata": {
    "vscode": {
     "languageId": "cpp"
    }
   },
   "outputs": [],
   "source": [
    "class Solution {\n",
    "public:\n",
    "    vector<vector<string>> groupAnagrams(vector<string>& strs) {\n",
    "        vector<vector<string>> list;\n",
    "        unordered_map<string, vector<string>>group;\n",
    "        string temp;\n",
    "        for (string str : strs) {\n",
    "            temp = str;\n",
    "            sort(temp.begin(), temp.end());\n",
    "            group[temp].push_back(str);\n",
    "        }\n",
    "\n",
    "        for (auto pair : group) {\n",
    "            list.push_back(pair.second);\n",
    "        }\n",
    "\n",
    "        return list;\n",
    "    }\n",
    "};"
   ]
  }
 ],
 "metadata": {
  "language_info": {
   "name": "python"
  }
 },
 "nbformat": 4,
 "nbformat_minor": 5
}
