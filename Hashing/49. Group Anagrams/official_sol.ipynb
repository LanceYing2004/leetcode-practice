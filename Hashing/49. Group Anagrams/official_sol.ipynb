{
 "cells": [
  {
   "cell_type": "markdown",
   "id": "582f7b83",
   "metadata": {},
   "source": [
    "## Problem\n",
    "Given an array of strings strs, group the anagrams together. You can return the answer in any order.\n",
    "\n",
    "**Example 1:**  \n",
    "Input: strs = [\"eat\",\"tea\",\"tan\",\"ate\",\"nat\",\"bat\"].  \n",
    "Output: [[\"bat\"],[\"nat\",\"tan\"],[\"ate\",\"eat\",\"tea\"]].  \n",
    "\n",
    "Explanation:  \n",
    "There is no string in strs that can be rearranged to form \"bat\".  \n",
    "The strings \"nat\" and \"tan\" are anagrams as they can be rearranged to form each other.  \n",
    "The strings \"ate\", \"eat\", and \"tea\" are anagrams as they can be rearranged to form each other.  \n",
    "\n",
    "**Example 2:**  \n",
    "Input: strs = [\"\"]  \n",
    "Output: [[\"\"]]  \n",
    "\n",
    "**Example 3:**  \n",
    "Input: strs = [\"a\"]  \n",
    "Output: [[\"a\"]]  \n",
    "\n",
    "**Constraints:**  \n",
    "- 1 <= strs.length <= 10<sup>4</sup>\n",
    "- 0 <= strs[i].length <= 100\n",
    "- strs[i] consists of lowercase English letters."
   ]
  },
  {
   "cell_type": "markdown",
   "id": "a0925ae3",
   "metadata": {},
   "source": [
    "### Intuition\n",
    "Basic approach: use two hash maps, count all the characters in each string, and then compare if the hash maps are the same.  \n",
    "\n",
    "For each group, we need a way to uniquely identify the group.  \n",
    "\n",
    "The cleanest way to know if two strings are anagrams of each other is by checking if they are equal after both being sorted. Also, all strings in a group will be the same when sorted, so we can use the sorted version as a key. We can map these keys to the groups themselves in a hash map, and then our answer is just the values of the hash map.\n",
    "\n",
    "Essentially, every group has its own \"identifier\" (the sorted string), and we can use this identifier to group them in a hash map easily:  \n",
    "\"aet\": [\"eat\", \"tea\", \"ate\"]\n",
    "\n",
    "Key point: anagram, when sort them out, they will be equal.\n",
    "\n",
    "### Complexity\n",
    "Time Complexity: O(N KlogK), N is the length of strs, K is the max length of a string in strs. The outer loop has complexity of N as loop through the whole string, and sorting cost k log k.  \n",
    "Space Complexity: O(NK) -> each string will be placed in an array within the hash map."
   ]
  },
  {
   "cell_type": "code",
   "execution_count": null,
   "id": "88c968f3",
   "metadata": {
    "vscode": {
     "languageId": "cpp"
    }
   },
   "outputs": [],
   "source": [
    "class Solution {\n",
    "public:\n",
    "    vector<vector<string>> groupAnagrams(vector<string>& strs) {\n",
    "        // Create a map to store the anagrams, where the keys are the sorted\n",
    "        // strings and the values are the lists of anagrams\n",
    "        unordered_map<string, vector<string>> ans;\n",
    "        for (auto& s : strs) {\n",
    "            string key = s;\n",
    "            // Sort the key\n",
    "            sort(key.begin(), key.end());\n",
    "            // If the string is an anagram of another string, they will have the\n",
    "            // same key and thus be grouped together\n",
    "            ans[key].push_back(s);\n",
    "        }\n",
    "        vector<vector<string>> result;\n",
    "        for (auto& p : ans) {\n",
    "            result.push_back(p.second);\n",
    "        }\n",
    "        return result;\n",
    "    }\n",
    "};"
   ]
  },
  {
   "cell_type": "code",
   "execution_count": null,
   "id": "bf41740c",
   "metadata": {},
   "outputs": [],
   "source": [
    "from typing import List\n",
    "import collections\n",
    "\n",
    "# Note for Python: dictionary.values() doesn't actually return a list, but actually a view object. \n",
    "# We need to convert it to a list first.\n",
    "\n",
    "class Solution:\n",
    "    def groupAnagrams(self, strs: List[str]) -> List[List[str]]:\n",
    "        ans = collections.defaultdict(list)\n",
    "        for s in strs:\n",
    "            ans[tuple(sorted(s))].append(s)\n",
    "        return list(ans.values())"
   ]
  },
  {
   "cell_type": "code",
   "execution_count": null,
   "id": "9b37203d",
   "metadata": {
    "vscode": {
     "languageId": "java"
    }
   },
   "outputs": [],
   "source": [
    "class Solution {\n",
    "    public List<List<String>> groupAnagrams(String[] strs) {\n",
    "        if (strs.length == 0) return new ArrayList();\n",
    "        Map<String, List> ans = new HashMap<String, List>();\n",
    "        for (String s : strs) {\n",
    "            char[] ca = s.toCharArray();\n",
    "            Arrays.sort(ca);\n",
    "            String key = String.valueOf(ca);\n",
    "            if (!ans.containsKey(key)) ans.put(key, new ArrayList());\n",
    "            ans.get(key).add(s);\n",
    "        }\n",
    "        return new ArrayList(ans.values());\n",
    "    }\n",
    "}"
   ]
  },
  {
   "cell_type": "code",
   "execution_count": null,
   "id": "60993f36",
   "metadata": {
    "vscode": {
     "languageId": "javascript"
    }
   },
   "outputs": [],
   "source": [
    "var groupAnagrams = function (strs) {\n",
    "    // Create a map to store the anagrams, where the keys are the sorted strings and the values are the lists of anagrams\n",
    "    let map = new Map();\n",
    "    // Iterate over the given strings\n",
    "    for (let str of strs) {\n",
    "        // Convert the string to a char array and sort it\n",
    "        let chars = Array.from(str);\n",
    "        chars.sort();\n",
    "        // Use the sorted string as a key\n",
    "        // If the string is an anagram of another string, they will have the same key and thus be grouped together\n",
    "        let key = chars.join(\"\");\n",
    "        // If the key is not already in the map, add it with a new list as its value\n",
    "        if (!map.has(key)) map.set(key, []);\n",
    "        // Add the original string to the list of its key\n",
    "        map.get(key).push(str);\n",
    "    }\n",
    "    // Return the lists of anagrams\n",
    "    return Array.from(map.values());\n",
    "};"
   ]
  }
 ],
 "metadata": {
  "language_info": {
   "name": "python"
  }
 },
 "nbformat": 4,
 "nbformat_minor": 5
}
