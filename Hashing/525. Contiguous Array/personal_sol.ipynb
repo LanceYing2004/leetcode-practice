{
 "cells": [
  {
   "cell_type": "markdown",
   "id": "0878d1e2",
   "metadata": {},
   "source": [
    "## Problem\n",
    "Given a binary array nums, return the maximum length of a contiguous subarray with an equal number of 0 and 1.\n",
    "\n",
    "**Example 1:**  \n",
    "Input: nums = [0,1]  \n",
    "Output: 2  \n",
    "Explanation: [0, 1] is the longest contiguous subarray with an equal number of 0 and 1.  \n",
    "\n",
    "**Example 2:**  \n",
    "Input: nums = [0,1,0]  \n",
    "Output: 2  \n",
    "Explanation: [0, 1] (or [1, 0]) is a longest contiguous subarray with equal number of 0 and 1.  \n",
    "\n",
    "**Example 3:**\n",
    "Input: nums = [0,1,1,1,1,1,0,0,0]  \n",
    "Output: 6  \n",
    "Explanation: [1,1,1,0,0,0] is the longest contiguous subarray with equal number of 0 and 1.  \n",
    "\n",
    "**Constraints:**\n",
    "- 1 <= nums.length <= 10<sup>5</sup>\n",
    "- nums[i] is either 0 or 1."
   ]
  },
  {
   "cell_type": "code",
   "execution_count": null,
   "id": "43d3c2aa",
   "metadata": {
    "vscode": {
     "languageId": "cpp"
    }
   },
   "outputs": [],
   "source": [
    "class Solution {\n",
    "public:\n",
    "    int findMaxLength(vector<int>& nums) {\n",
    "        unordered_map<int, int> count_map;\n",
    "        // save the initial as -1, for counting\n",
    "        count_map[0] = -1;\n",
    "        int count = 0, maxlen = 0;\n",
    "\n",
    "        for (int i = 0; i < nums.size(); i++) {\n",
    "            // count += 1 if nums[i] == 1\n",
    "            // count -= 1 if nums[i] == 0\n",
    "            count = count + (nums[i] == 1 ? 1 : -1);\n",
    "\n",
    "            // if the count overlaps with the previous record\n",
    "            if (count_map.contains(count)) {\n",
    "                // current index - previous record index\n",
    "                maxlen = max(maxlen, i - count_map[count]);\n",
    "            } else {\n",
    "                // else add the current index to map\n",
    "                count_map[count] = i;\n",
    "            }\n",
    "        }\n",
    "\n",
    "        return maxlen;\n",
    "    }\n",
    "};"
   ]
  },
  {
   "cell_type": "code",
   "execution_count": null,
   "id": "314964e5",
   "metadata": {},
   "outputs": [],
   "source": [
    "from typing import List\n",
    "\n",
    "class Solution:\n",
    "    def findMaxLength(self, nums: List[int]) -> int:\n",
    "        count_map = {}\n",
    "        count_map[0] = -1\n",
    "        maxlen = 0\n",
    "        count = 0\n",
    "        for i in range (len(nums)):\n",
    "            if nums[i] == 1:\n",
    "                count += 1\n",
    "            else:\n",
    "                count -= 1\n",
    "            \n",
    "            if count in count_map:\n",
    "                maxlen = max(maxlen, i - count_map[count])\n",
    "            else:\n",
    "                count_map[count] = i\n",
    "        return maxlen \n",
    "        "
   ]
  }
 ],
 "metadata": {
  "language_info": {
   "name": "python"
  }
 },
 "nbformat": 4,
 "nbformat_minor": 5
}
