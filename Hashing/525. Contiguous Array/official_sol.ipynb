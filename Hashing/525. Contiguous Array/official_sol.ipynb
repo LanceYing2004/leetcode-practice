{
 "cells": [
  {
   "cell_type": "markdown",
   "id": "b12834b5",
   "metadata": {},
   "source": [
    "## Problem\n",
    "Given a binary array nums, return the maximum length of a contiguous subarray with an equal number of 0 and 1.\n",
    "\n",
    "**Example 1:**  \n",
    "Input: nums = [0,1]  \n",
    "Output: 2  \n",
    "Explanation: [0, 1] is the longest contiguous subarray with an equal number of 0 and 1.  \n",
    "\n",
    "**Example 2:**  \n",
    "Input: nums = [0,1,0]  \n",
    "Output: 2  \n",
    "Explanation: [0, 1] (or [1, 0]) is a longest contiguous subarray with equal number of 0 and 1.  \n",
    "\n",
    "**Example 3:**\n",
    "Input: nums = [0,1,1,1,1,1,0,0,0]  \n",
    "Output: 6  \n",
    "Explanation: [1,1,1,0,0,0] is the longest contiguous subarray with equal number of 0 and 1.  \n",
    "\n",
    "**Constraints:**\n",
    "- 1 <= nums.length <= 10<sup>5</sup>\n",
    "- nums[i] is either 0 or 1."
   ]
  },
  {
   "cell_type": "markdown",
   "id": "3d15cd32",
   "metadata": {},
   "source": [
    "## Approach 1: Brute Force (will exceed time limit)\n",
    "Consider every possible subarray within the given array, and count the number of 0's and 1's in each subarray. Finally, find out the maximum size subarray with equal no. of zeros and ones out of them.\n",
    "\n",
    "### Complexity\n",
    "Time Complexity: O(n<sup>2</sup>)\n",
    "Space Complexity: O(1)"
   ]
  },
  {
   "cell_type": "code",
   "execution_count": null,
   "id": "02977c26",
   "metadata": {
    "vscode": {
     "languageId": "cpp"
    }
   },
   "outputs": [],
   "source": [
    "class Solution {\n",
    "public:\n",
    "    int findMaxLength(std::vector<int>& nums) {\n",
    "        int maxlen = 0;\n",
    "        int n = nums.size();\n",
    "        \n",
    "        // Iterate over all possible subarray start positions\n",
    "        for (int start = 0; start < n; ++start) {\n",
    "            int zeroes = 0, ones = 0;\n",
    "            \n",
    "            // Iterate over all possible subarray end positions\n",
    "            for (int end = start; end < n; ++end) {\n",
    "                if (nums[end] == 0) {\n",
    "                    ++zeroes;\n",
    "                } else {\n",
    "                    ++ones;\n",
    "                }\n",
    "                \n",
    "                // Check if the current subarray has equal numbers of 0s and 1s\n",
    "                if (zeroes == ones) {\n",
    "                    maxlen = std::max(maxlen, end - start + 1);\n",
    "                }\n",
    "            }\n",
    "        }\n",
    "        \n",
    "        return maxlen;\n",
    "    }\n",
    "};"
   ]
  },
  {
   "cell_type": "code",
   "execution_count": null,
   "id": "61f2fb38",
   "metadata": {},
   "outputs": [],
   "source": [
    "class Solution:\n",
    "    def findMaxLength(self, nums):\n",
    "        maxlen = 0\n",
    "        n = len(nums)\n",
    "        \n",
    "        # Iterate over all possible subarray start positions\n",
    "        for start in range(n):\n",
    "            zeroes = 0\n",
    "            ones = 0\n",
    "            \n",
    "            # Iterate over all possible subarray end positions\n",
    "            for end in range(start, n):\n",
    "                if nums[end] == 0:\n",
    "                    zeroes += 1\n",
    "                else:\n",
    "                    ones += 1\n",
    "                \n",
    "                # Check if the current subarray has equal numbers of 0s and 1s\n",
    "                if zeroes == ones:\n",
    "                    maxlen = max(maxlen, end - start + 1)\n",
    "        \n",
    "        return maxlen"
   ]
  },
  {
   "cell_type": "code",
   "execution_count": null,
   "id": "082c06db",
   "metadata": {
    "vscode": {
     "languageId": "java"
    }
   },
   "outputs": [],
   "source": [
    "public class Solution {\n",
    "    public int findMaxLength(int[] nums) {\n",
    "        int maxlen = 0;\n",
    "        for (int start = 0; start < nums.length; start++) {\n",
    "            int zeroes = 0, ones = 0;\n",
    "            for (int end = start; end < nums.length; end++) {\n",
    "                if (nums[end] == 0) {\n",
    "                    zeroes++;\n",
    "                } else {\n",
    "                    ones++;\n",
    "                }\n",
    "                if (zeroes == ones) {\n",
    "                    maxlen = Math.max(maxlen, end - start + 1);\n",
    "                }\n",
    "            }\n",
    "        }\n",
    "        return maxlen;\n",
    "    }\n",
    "}\n"
   ]
  },
  {
   "cell_type": "markdown",
   "id": "0513870f",
   "metadata": {},
   "source": [
    "## Approach 2: Hash Map"
   ]
  },
  {
   "cell_type": "markdown",
   "id": "05f41376",
   "metadata": {},
   "source": [
    "Imagine a `count` variable, which is used to store the relative number of ones and zeros encountered so far while traversing the array. The `count` variable is incremented by one for every 1 encountered and the same is decremented by one for every 0 encountered.\n",
    "\n",
    "We start traversing the array from the beginning. If at any moment, the count becomes zero, it implies that we've encountered an equal number of zeros and ones from the beginning till the current index of the array(i).\n",
    "\n",
    "Additionally, at any point, if we encounter the same count twice (not just 0) while traversing the array, it means that the number of zeros and ones are equal between the indices corresponding to the equal count values. \n",
    "\n",
    "e.g. [0 0 1 0 0 0 1 1]"
   ]
  },
  {
   "attachments": {
    "535_Contiguous_Array.png": {
     "image/png": "[encoded data removed]"
    }
   },
   "cell_type": "markdown",
   "id": "adeb85b0",
   "metadata": {},
   "source": [
    "![535_Contiguous_Array.png](attachment:535_Contiguous_Array.png)\n",
    "\n",
    "In the figure above, subarrays between (A,B), (B,C), and (A,C) (lying between indices corresponding to count=−2) have an equal number of zeros and ones.\n",
    "\n",
    "Largest subarray = largest distance in index"
   ]
  },
  {
   "cell_type": "markdown",
   "id": "a6a9b055",
   "metadata": {},
   "source": [
    "We can use a hash map that maps values of count to the first index where that count was seen. We maintain the value of count and at each index, if we have seen the same value of count before, it means the subarray starting from where we saw that value of count and ending at the current index has an equal number of 0s and 1s. Otherwise, we put count in the map for future iterations.\n",
    "\n",
    "### Complexity\n",
    "Time Complexity: O(n)  \n",
    "Space Complexity: O(n)"
   ]
  },
  {
   "cell_type": "code",
   "execution_count": null,
   "id": "3a1c8a27",
   "metadata": {},
   "outputs": [],
   "source": [
    "from typing import List\n",
    "\n",
    "class Solution:\n",
    "    def findMaxLength(self, nums: List[int]) -> int:\n",
    "        dic = {}\n",
    "        dic[0] = -1\n",
    "        ans = 0\n",
    "        count = 0\n",
    "\n",
    "        for i in range(len(nums)):\n",
    "            if nums[i] == 1:\n",
    "                count += 1\n",
    "            else:\n",
    "                count -= 1\n",
    "            \n",
    "            if count in dic:\n",
    "                ans = max(ans, i - dic[count])\n",
    "            else:\n",
    "                dic[count] = i\n",
    "        \n",
    "        return ans"
   ]
  },
  {
   "cell_type": "code",
   "execution_count": null,
   "id": "ce2483ce",
   "metadata": {
    "vscode": {
     "languageId": "java"
    }
   },
   "outputs": [],
   "source": [
    "public class Solution {\n",
    "\n",
    "    public int findMaxLength(int[] nums) {\n",
    "        Map<Integer, Integer> map = new HashMap<>();\n",
    "        map.put(0, -1);\n",
    "        int maxlen = 0, count = 0;\n",
    "        for (int i = 0; i < nums.length; i++) {\n",
    "            count = count + (nums[i] == 1 ? 1 : -1);\n",
    "            if (map.containsKey(count)) {\n",
    "                maxlen = Math.max(maxlen, i - map.get(count));\n",
    "            } else {\n",
    "                map.put(count, i);\n",
    "            }\n",
    "        }\n",
    "        return maxlen;\n",
    "    }\n",
    "}"
   ]
  }
 ],
 "metadata": {
  "language_info": {
   "name": "python"
  }
 },
 "nbformat": 4,
 "nbformat_minor": 5
}
