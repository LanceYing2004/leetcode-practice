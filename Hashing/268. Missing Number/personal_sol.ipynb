{
 "cells": [
  {
   "cell_type": "markdown",
   "id": "8796ad80",
   "metadata": {},
   "source": [
    "## Problem\n",
    "\n",
    "Given an array nums containing n distinct numbers in the range [0, n], return the only number in the range that is missing from the array.\n",
    "\n",
    "**Example 1:**\n",
    "Input: nums = [3,0,1]  \n",
    "Output: 2  \n",
    "Explanation:  \n",
    "n = 3 since there are 3 numbers, so all numbers are in the range [0,3]. 2 is the missing number in the range since it does not appear in nums.\n",
    "\n",
    "**Example 2:**\n",
    "Input: nums = [0,1]  \n",
    "Output: 2  \n",
    "Explanation:  \n",
    "n = 2 since there are 2 numbers, so all numbers are in the range [0,2]. 2 is the missing number in the range since it does not appear in nums.\n",
    "\n",
    "**Example 3:**\n",
    "Input: nums = [9,6,4,2,3,5,7,0,1]  \n",
    "Output: 8  \n",
    "Explanation:  \n",
    "n = 9 since there are 9 numbers, so all numbers are in the range [0,9]. 8 is the missing number in the range since it does not appear in nums.\n",
    "\n",
    "**Constraints:**\n",
    "- n == nums.length\n",
    "- 1 <= n <= 10<sup>4</sup>\n",
    "- 0 <= nums[i] <= n\n",
    "- All the numbers of nums are unique.\n"
   ]
  },
  {
   "cell_type": "markdown",
   "id": "bfe1cf97",
   "metadata": {},
   "source": [
    "### Intuition\n",
    "Since I want to insert, remove and search is all in O(1), therefore I think about set the first hand. Then I decided to initialize set by using iterators, and then figure out which number is not in them.\n",
    "\n",
    "It is O(n) and O(n) time and space complexity, however based on the first submission result I was not fast enough. And I saw the follow-up question where it made me devise O(n) time complexity and O(1) space complexity. Therefore, I have to completely abandon the approach of using containers.\n",
    "\n",
    "I realized that since there's only 1 element missing, then I can use the bigger one to minus the smaller one, and the difference is what is missing in the numbers. (Because nums set + missing value = total sum)"
   ]
  },
  {
   "cell_type": "code",
   "execution_count": null,
   "id": "3c6cccfb",
   "metadata": {
    "vscode": {
     "languageId": "cpp"
    }
   },
   "outputs": [],
   "source": [
    "// First solution\n",
    "class Solution {\n",
    "public:\n",
    "    int missingNumber(vector<int>& nums) {\n",
    "        unordered_set<int> set_container (nums.begin(), nums.end());\n",
    "        for (int i = 0; i <= nums.size(); i++) {\n",
    "            if (!set_container.contains(i)) {\n",
    "                return i;\n",
    "            }\n",
    "        }\n",
    "        return -1;\n",
    "    }\n",
    "};"
   ]
  },
  {
   "cell_type": "code",
   "execution_count": null,
   "id": "891c51af",
   "metadata": {
    "vscode": {
     "languageId": "cpp"
    }
   },
   "outputs": [],
   "source": [
    "// second solution\n",
    "class Solution {\n",
    "public:\n",
    "    int missingNumber(vector<int>& nums) {\n",
    "        int nums_sum = 0;\n",
    "        int total_sum = 0;\n",
    "        for (int i = 0; i < nums.size(); i++) {\n",
    "            nums_sum += nums[i];\n",
    "            total_sum += i;\n",
    "        }\n",
    "        total_sum += nums.size();\n",
    "        return total_sum - nums_sum;\n",
    "    }\n",
    "};"
   ]
  },
  {
   "cell_type": "code",
   "execution_count": null,
   "id": "8570fa88",
   "metadata": {},
   "outputs": [],
   "source": [
    "from typing import List\n",
    "class Solution:\n",
    "    def missingNumber(self, nums: List[int]) -> int:\n",
    "        total_sum = len(nums) * (len(nums) + 1) // 2\n",
    "        num_sum = sum(nums)\n",
    "        return total_sum - num_sum"
   ]
  }
 ],
 "metadata": {
  "language_info": {
   "name": "python"
  }
 },
 "nbformat": 4,
 "nbformat_minor": 5
}
