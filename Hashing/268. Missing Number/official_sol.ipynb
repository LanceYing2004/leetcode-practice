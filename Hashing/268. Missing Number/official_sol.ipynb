{
 "cells": [
  {
   "cell_type": "markdown",
   "id": "3a84b30e",
   "metadata": {},
   "source": [
    "## Problem\n",
    "\n",
    "Given an array nums containing n distinct numbers in the range [0, n], return the only number in the range that is missing from the array.\n",
    "\n",
    "**Example 1:**\n",
    "Input: nums = [3,0,1]  \n",
    "Output: 2  \n",
    "Explanation:  \n",
    "n = 3 since there are 3 numbers, so all numbers are in the range [0,3]. 2 is the missing number in the range since it does not appear in nums.\n",
    "\n",
    "**Example 2:**\n",
    "Input: nums = [0,1]  \n",
    "Output: 2  \n",
    "Explanation:  \n",
    "n = 2 since there are 2 numbers, so all numbers are in the range [0,2]. 2 is the missing number in the range since it does not appear in nums.\n",
    "\n",
    "**Example 3:**\n",
    "Input: nums = [9,6,4,2,3,5,7,0,1]  \n",
    "Output: 8  \n",
    "Explanation:  \n",
    "n = 9 since there are 9 numbers, so all numbers are in the range [0,9]. 8 is the missing number in the range since it does not appear in nums.\n",
    "\n",
    "**Constraints:**\n",
    "- n == nums.length\n",
    "- 1 <= n <= 10<sup>4</sup>\n",
    "- 0 <= nums[i] <= n\n",
    "- All the numbers of nums are unique.\n"
   ]
  }
 ],
 "metadata": {
  "language_info": {
   "name": "python"
  }
 },
 "nbformat": 4,
 "nbformat_minor": 5
}
