{
 "cells": [
  {
   "cell_type": "markdown",
   "id": "3a84b30e",
   "metadata": {},
   "source": [
    "## Problem\n",
    "\n",
    "Given an array nums containing n distinct numbers in the range [0, n], return the only number in the range that is missing from the array.\n",
    "\n",
    "**Example 1:**\n",
    "Input: nums = [3,0,1]  \n",
    "Output: 2  \n",
    "Explanation:  \n",
    "n = 3 since there are 3 numbers, so all numbers are in the range [0,3]. 2 is the missing number in the range since it does not appear in nums.\n",
    "\n",
    "**Example 2:**\n",
    "Input: nums = [0,1]  \n",
    "Output: 2  \n",
    "Explanation:  \n",
    "n = 2 since there are 2 numbers, so all numbers are in the range [0,2]. 2 is the missing number in the range since it does not appear in nums.\n",
    "\n",
    "**Example 3:**\n",
    "Input: nums = [9,6,4,2,3,5,7,0,1]  \n",
    "Output: 8  \n",
    "Explanation:  \n",
    "n = 9 since there are 9 numbers, so all numbers are in the range [0,9]. 8 is the missing number in the range since it does not appear in nums.\n",
    "\n",
    "**Constraints:**\n",
    "- n == nums.length\n",
    "- 1 <= n <= 10<sup>4</sup>\n",
    "- 0 <= nums[i] <= n\n",
    "- All the numbers of nums are unique.\n"
   ]
  },
  {
   "cell_type": "markdown",
   "id": "7c08085c",
   "metadata": {},
   "source": [
    "### Brute Force and Brute Force Set\n",
    "A brute force method for solving this problem would be to simply check for the presence of each number that we expect to be present. The naive implementation might use a linear scan of the array to check for containment, but we can use a HashSet to get constant time containment queries and overall linear runtime.\n",
    "\n",
    "### Algorithm\n",
    "\n",
    "This algorithm is almost identical to the brute force approach, except we\n",
    "first insert each element of nums into a set, allowing us to later query\n",
    "for containment in O(1) time.\n",
    "\n",
    "### Complexity\n",
    "Time complexity : O(n) -> Because the set allows for O(1) containment queries, the main loop runs in O(n) time. Creating num_set costs O(n) time, as each set insertion runs in amortized O(1) time, so the overall runtime is O(n+n)=O(n).\n",
    "\n",
    "Space complexity : O(n) -> nums contains n−1 distinct elements, so it costs O(n) space to store a set containing all of them."
   ]
  },
  {
   "cell_type": "code",
   "execution_count": null,
   "id": "09ab1412",
   "metadata": {},
   "outputs": [],
   "source": [
    "class Solution:\n",
    "    def missingNumber(self, nums):\n",
    "        num_set = set(nums)\n",
    "        n = len(nums) + 1\n",
    "        for number in range(n):\n",
    "            if number not in num_set:\n",
    "                return number"
   ]
  },
  {
   "cell_type": "code",
   "execution_count": null,
   "id": "776af4aa",
   "metadata": {
    "vscode": {
     "languageId": "java"
    }
   },
   "outputs": [],
   "source": [
    "class Solution {\n",
    "    public int missingNumber(int[] nums) {\n",
    "        Set<Integer> numSet = new HashSet<Integer>();\n",
    "        for (int num : nums) numSet.add(num);\n",
    "\n",
    "        int expectedNumCount = nums.length + 1;\n",
    "        for (int number = 0; number < expectedNumCount; number++) {\n",
    "            if (!numSet.contains(number)) {\n",
    "                return number;\n",
    "            }\n",
    "        }\n",
    "        return -1;\n",
    "    }\n",
    "}"
   ]
  },
  {
   "cell_type": "markdown",
   "id": "ce6749f0",
   "metadata": {},
   "source": [
    "### Optimal solution: Gauss' Formula\n",
    "One of the most well-known stories in mathematics is of a young Gauss, forced to find the sum of the first 100 natural numbers by a lazy teacher. Rather than add the numbers by hand, he deduced a closed-form expression for the sum, or so the story goes. You can see the formula below:\n",
    "n * (n + 1) / 2\n",
    "\n",
    "**Algorithm**\n",
    "\n",
    "We can compute the sum of nums in linear time, and by Gauss' formula, wecan compute the sum of the first n natural numbers in constant time. Therefore, the number that is missing is simply the result of Gauss' formula minus the sum of nums, as nums consists of the first n natural numbers minus some number.\n",
    "\n",
    "### Complexity\n",
    "Time complexity : O(n) -> Although Gauss' formula can be computed in O(1) time, summing nums costs us O(n) time, so the algorithm is overall linear. This solution is asymptotically optimal.\n",
    "\n",
    "Space complexity : O(1) -> This approach only pushes a few integers around, so it has constant memory usage."
   ]
  },
  {
   "cell_type": "code",
   "execution_count": null,
   "id": "4bd2b2e9",
   "metadata": {},
   "outputs": [],
   "source": [
    "class Solution:\n",
    "    def missingNumber(self, nums):\n",
    "        expected_sum = len(nums)*(len(nums)+1)//2\n",
    "        actual_sum = sum(nums)\n",
    "        return expected_sum - actual_sum"
   ]
  },
  {
   "cell_type": "code",
   "execution_count": null,
   "id": "483c6c4c",
   "metadata": {
    "vscode": {
     "languageId": "java"
    }
   },
   "outputs": [],
   "source": [
    "class Solution {\n",
    "    public int missingNumber(int[] nums) {\n",
    "        int expectedSum = nums.length*(nums.length + 1)/2;\n",
    "        int actualSum = 0;\n",
    "        for (int num : nums) actualSum += num;\n",
    "        return expectedSum - actualSum;\n",
    "    }\n",
    "}"
   ]
  }
 ],
 "metadata": {
  "language_info": {
   "name": "python"
  }
 },
 "nbformat": 4,
 "nbformat_minor": 5
}
