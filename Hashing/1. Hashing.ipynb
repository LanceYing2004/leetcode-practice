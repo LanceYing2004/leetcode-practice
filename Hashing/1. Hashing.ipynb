{
 "cells": [
  {
   "cell_type": "markdown",
   "id": "fa30748b",
   "metadata": {},
   "source": [
    "A hash function is a function that takes an input and deterministically converts it to an integer that is less than a fixed size set by the programmer. Inputs are called keys and the same input will always be converted to the same integer. Here's an example hash algorithm for a string containing letters of the English alphabet:\n",
    "1. Declare an integer total.\n",
    "2. Iterate over the string. For each character, convert it to its position in the alphabet. For example, a -> 1, c -> 3, z -> 26.\n",
    "3. Take that value, and multiply it by the current position in the string (index + 1). Add this to total. For example, given the string \"abc\", the b is at position 2 in the alphabet and position 2 in the string, so it would contribute 2 * 2 = 4 towards total.\n",
    "- 1 * 1 + 2 * 2 + 3 * 3 = 14\n",
    "4. After going through every character, total % x is the converted value.\n",
    "\n",
    "the final converted value will be in the range [0, x - 1].\n",
    "\n",
    "Note: When a hash function is combined with an array, it creates a hash map, also known as a hash table or dictionary."
   ]
  }
 ],
 "metadata": {
  "language_info": {
   "name": "python"
  }
 },
 "nbformat": 4,
 "nbformat_minor": 5
}
