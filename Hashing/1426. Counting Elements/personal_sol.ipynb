{
 "cells": [
  {
   "cell_type": "markdown",
   "id": "05019a83",
   "metadata": {},
   "source": [
    "## Problem\n",
    "Given an integer array arr, count how many elements x there are, such that x + 1 is also in arr. If there are duplicates in arr, count them separately.\n",
    "\n",
    "**Example 1:**  \n",
    "Input: arr = [1,2,3]  \n",
    "Output: 2  \n",
    "Explanation: 1 and 2 are counted cause 2 and 3 are in arr.  \n",
    "\n",
    "**Example 2:**  \n",
    "Input: arr = [1,1,3,3,5,5,7,7]  \n",
    "Output: 0  \n",
    "Explanation: No numbers are counted, cause there is no 2, 4, 6, or 8 in arr.  \n",
    " \n",
    "\n",
    "**Constraints:**\n",
    "- 1 <= arr.length <= 1000\n",
    "- 0 <= arr[i] <= 1000"
   ]
  },
  {
   "cell_type": "code",
   "execution_count": null,
   "id": "b239fa6f",
   "metadata": {
    "vscode": {
     "languageId": "cpp"
    }
   },
   "outputs": [],
   "source": [
    "class Solution {\n",
    "public:\n",
    "    int countElements(vector<int>& arr) {\n",
    "        unordered_set<int> hash_set(arr.begin(), arr.end());\n",
    "        int count = 0;\n",
    "        for (int x : arr) {\n",
    "            if (hash_set.contains(x + 1)) {\n",
    "                count++;\n",
    "            }\n",
    "        }\n",
    "        return count;\n",
    "    }\n",
    "};"
   ]
  },
  {
   "cell_type": "code",
   "execution_count": null,
   "id": "fdf2be0a",
   "metadata": {},
   "outputs": [],
   "source": [
    "class Solution:\n",
    "    def countElements(self, arr: List[int]) -> int:\n",
    "        count = 0\n",
    "        hash_set = set(arr)\n",
    "        for i in arr:\n",
    "            if i + 1 in hash_set:\n",
    "                count += 1\n",
    "        return count\n"
   ]
  }
 ],
 "metadata": {
  "language_info": {
   "name": "python"
  }
 },
 "nbformat": 4,
 "nbformat_minor": 5
}
