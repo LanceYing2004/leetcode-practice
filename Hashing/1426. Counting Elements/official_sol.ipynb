{
 "cells": [
  {
   "cell_type": "markdown",
   "id": "96ded39c",
   "metadata": {},
   "source": [
    "## Problem\n",
    "Given an integer array arr, count how many elements x there are, such that x + 1 is also in arr. If there are duplicates in arr, count them separately.\n",
    "\n",
    "**Example 1:**  \n",
    "Input: arr = [1,2,3]  \n",
    "Output: 2  \n",
    "Explanation: 1 and 2 are counted cause 2 and 3 are in arr.  \n",
    "\n",
    "**Example 2:**  \n",
    "Input: arr = [1,1,3,3,5,5,7,7]  \n",
    "Output: 0  \n",
    "Explanation: No numbers are counted, cause there is no 2, 4, 6, or 8 in arr.  \n",
    " \n",
    "\n",
    "**Constraints:**\n",
    "- 1 <= arr.length <= 1000\n",
    "- 0 <= arr[i] <= 1000"
   ]
  }
 ],
 "metadata": {
  "language_info": {
   "name": "python"
  }
 },
 "nbformat": 4,
 "nbformat_minor": 5
}
