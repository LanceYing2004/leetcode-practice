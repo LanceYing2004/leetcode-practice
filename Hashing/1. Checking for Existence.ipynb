{
 "cells": [
  {
   "cell_type": "markdown",
   "id": "2ef0497d",
   "metadata": {},
   "source": [
    "The key point is that:\n",
    "- Cost of insertion: O(1)\n",
    "- Cost of search: O(1)\n",
    "- Cost of removal: O(1)"
   ]
  },
  {
   "cell_type": "markdown",
   "id": "2482522c",
   "metadata": {},
   "source": [
    "Problems:\n",
    "- Two Sum (Problem #1)\n",
    "- First Letter to Appear Twice (Problem #2351)"
   ]
  },
  {
   "cell_type": "markdown",
   "id": "573b28ff",
   "metadata": {},
   "source": [
    "Example 3: Given an integer array nums, find all the numbers x in nums that satisfy the following: x + 1 is not in nums, and x - 1 is not in nums.\n",
    "\n",
    "If a valid number x appears multiple times, you only need to include it in the answer once."
   ]
  },
  {
   "cell_type": "code",
   "execution_count": null,
   "id": "96df924c",
   "metadata": {
    "vscode": {
     "languageId": "cpp"
    }
   },
   "outputs": [],
   "source": [
    "vector<int> findNumbers(vector<int>& nums) {\n",
    "    vector<int> answer\n",
    "    unordered_set<int> set (answer.begin(), answer.end());\n",
    "\n",
    "    for (int num : nums) {\n",
    "        if (!set.contains(num + 1) && !set.contains(num - 1)) {\n",
    "            answer.push_back(num);\n",
    "        }\n",
    "    }\n",
    "    \n",
    "    return answer;\n",
    "}"
   ]
  }
 ],
 "metadata": {
  "language_info": {
   "name": "python"
  }
 },
 "nbformat": 4,
 "nbformat_minor": 5
}
