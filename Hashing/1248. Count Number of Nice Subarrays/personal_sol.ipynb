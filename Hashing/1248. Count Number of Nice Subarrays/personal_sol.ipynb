{
 "cells": [
  {
   "cell_type": "markdown",
   "id": "c4b31dc3",
   "metadata": {},
   "source": [
    "## Problem\n",
    "Given an array of integers nums and an integer k. A continuous subarray is called nice if there are k odd numbers on it.\n",
    "Return the number of nice sub-arrays.\n",
    "\n",
    "**Example 1:**\n",
    "Input: nums = [1,1,2,1,1], k = 3  \n",
    "Output: 2  \n",
    "Explanation: The only sub-arrays with 3 odd numbers are [1,1,2,1] and [1,2,1,1].  \n",
    "\n",
    "**Example 2:**\n",
    "Input: nums = [2,4,6], k = 1  \n",
    "Output: 0  \n",
    "Explanation: There are no odd numbers in the array.  \n",
    "\n",
    "**Example 3:**\n",
    "Input: nums = [2,2,2,1,2,2,1,2,2,2], k = 2  \n",
    "Output: 16  \n",
    "\n",
    "**Constraints:**\n",
    "- 1 <= nums.length <= 50000\n",
    "- 1 <= nums[i] <= 10^5\n",
    "- 1 <= k <= nums.length"
   ]
  },
  {
   "cell_type": "code",
   "execution_count": null,
   "id": "9dcd0c9f",
   "metadata": {
    "vscode": {
     "languageId": "cpp"
    }
   },
   "outputs": [],
   "source": [
    "class Solution {\n",
    "public:\n",
    "    int numberOfSubarrays(vector<int>& nums, int k) {\n",
    "        // ini. hash map, <number of odd numbers, freq.>\n",
    "        unordered_map<int, int> counts;\n",
    "        counts[0] = 1;\n",
    "        int ans = 0, curr = 0, match = 0;\n",
    "\n",
    "        // iterate through nums\n",
    "        for (auto num : nums) {\n",
    "            // if current number is odd, add curr\n",
    "            if (num % 2 == 1) {\n",
    "                curr++;\n",
    "            }\n",
    "            // find match locations\n",
    "            match = curr - k;\n",
    "            if (counts.contains(match)) {\n",
    "                // add all occurences of match to ans\n",
    "                ans += counts[match];\n",
    "            }\n",
    "            counts[curr]++;\n",
    "        }\n",
    "        return ans;\n",
    "    }\n",
    "};"
   ]
  }
 ],
 "metadata": {
  "language_info": {
   "name": "python"
  }
 },
 "nbformat": 4,
 "nbformat_minor": 5
}
