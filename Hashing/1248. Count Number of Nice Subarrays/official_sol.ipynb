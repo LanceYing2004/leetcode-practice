{
 "cells": [
  {
   "cell_type": "markdown",
   "id": "bc43a4eb",
   "metadata": {},
   "source": [
    "## Problem\n",
    "Given an array of integers nums and an integer k. A continuous subarray is called nice if there are k odd numbers on it.\n",
    "Return the number of nice sub-arrays.\n",
    "\n",
    "**Example 1:**\n",
    "Input: nums = [1,1,2,1,1], k = 3  \n",
    "Output: 2  \n",
    "Explanation: The only sub-arrays with 3 odd numbers are [1,1,2,1] and [1,2,1,1].  \n",
    "\n",
    "**Example 2:**\n",
    "Input: nums = [2,4,6], k = 1  \n",
    "Output: 0  \n",
    "Explanation: There are no odd numbers in the array.  \n",
    "\n",
    "**Example 3:**\n",
    "Input: nums = [2,2,2,1,2,2,1,2,2,2], k = 2  \n",
    "Output: 16  \n",
    "\n",
    "**Constraints:**\n",
    "- 1 <= nums.length <= 50000\n",
    "- 1 <= nums[i] <= 10^5\n",
    "- 1 <= k <= nums.length"
   ]
  },
  {
   "cell_type": "markdown",
   "id": "81905dee",
   "metadata": {},
   "source": [
    "### Intuition\n",
    "Since we only need to find the number of subarrays that contain a certain count of odd elements, we can ignore the numerical values of the elements and replace all odd values with 1 and even values with 0.\n",
    "\n",
    "Now, all we need to do is identify sequences of elements within the array whose sum equals the number of odd elements needed to make a nice array. Solutions that require sequences of elements to meet criteria often utilize prefix sums, also sometimes referred to as cumulative sums.\n",
    "\n",
    "Note: If you aren't aware of this concept we recommend you first solve this problem 560. Subarray Sum Equals K.\n",
    "\n",
    "Utilizing prefix sums simplifies our approach and lets us avoid determining the sum of elements for every new subarray considered. Using the prefix sums approach, we can calculate the sum of elements between two indices, subtracting the prefix sum corresponding to the two indices to obtain the sum directly instead of iterating over the subarray to find the sum.\n",
    "\n",
    "We'll use this approach to calculate how many odd numbers are between two indices in the array. Let's call the two indices start and end. If the number of odd numbers between start and end equals k, we have found a nice subarray. We will calculate this by finding the difference between the end and start indices.\n",
    "\n",
    "Based on these thoughts, we use a hashmap to store the prefix sum of indices as keys and their frequency of occurrence as values. Instead of modifying nums, we can apply the modulo 2 operation when storing values in the hashmap.\n",
    "\n",
    "We traverse the array nums to compute the prefix sum up to each element modulo 2. Each unique sum encountered is recorded in a hashmap. If a sum repeats, we increment its corresponding count in the hashmap. Also, for each sum encountered, we find the number of times sum - k has appeared before, as this count indicates how many subarrays with sum k exist up to the current index. We increase the count by that same amount.\n",
    "\n",
    "### Algorithm\n",
    "1. Initialize integers currSum = 0,subarrays = 0 and a hashmap prefixSum.\n",
    "2. Initialize prefixSum[0] with 1 to account for the initial value of currSum.\n",
    "3. Iterate over all the elements of nums:\n",
    "- Compute currSum as currSum = currSum + nums[i] % 2.\n",
    "- If currSum - k exists in the hashmap:\n",
    "  - Increment the value of subarrays with prefixSum[currSum - k].\n",
    "- Increment prefixSum[currSum] by 1.\n",
    "4. Return subarrays."
   ]
  },
  {
   "cell_type": "code",
   "execution_count": null,
   "id": "63138d1e",
   "metadata": {
    "vscode": {
     "languageId": "cpp"
    }
   },
   "outputs": [],
   "source": [
    "class Solution {\n",
    "public:\n",
    "    int numberOfSubarrays(vector<int>& nums, int k) {\n",
    "        int currSum = 0, subarrays = 0;\n",
    "        unordered_map<int, int> prefixSum;\n",
    "        prefixSum[currSum] = 1;\n",
    "\n",
    "        for (int i = 0; i < nums.size(); i++) {\n",
    "            currSum += nums[i] % 2;\n",
    "            // Find subarrays with sum k ending at i.\n",
    "            if (prefixSum.find(currSum - k) != prefixSum.end()) {\n",
    "                subarrays = subarrays + prefixSum[currSum - k];\n",
    "            }\n",
    "            // Increment the current prefix sum in hashmap.\n",
    "            prefixSum[currSum]++;\n",
    "        }\n",
    "\n",
    "        return subarrays;\n",
    "    }\n",
    "};"
   ]
  },
  {
   "cell_type": "code",
   "execution_count": null,
   "id": "3f0eb62c",
   "metadata": {},
   "outputs": [],
   "source": [
    "from typing import List\n",
    "\n",
    "class Solution:\n",
    "    def numberOfSubarrays(self, nums: List[int], k: int) -> int:\n",
    "        curr_sum = 0\n",
    "        subarrays = 0\n",
    "        prefix_sum = {curr_sum: 1}\n",
    "\n",
    "        for i in range(len(nums)):\n",
    "            curr_sum += nums[i] % 2\n",
    "            # Find subarrays with sum k ending at i\n",
    "            if curr_sum - k in prefix_sum:\n",
    "                subarrays = subarrays + prefix_sum[curr_sum - k]\n",
    "            # Increment the current prefix sum in hashmap\n",
    "            prefix_sum[curr_sum] = prefix_sum.get(curr_sum, 0) + 1\n",
    "\n",
    "        return subarrays"
   ]
  },
  {
   "cell_type": "code",
   "execution_count": null,
   "id": "dc1dd6c5",
   "metadata": {
    "vscode": {
     "languageId": "java"
    }
   },
   "outputs": [],
   "source": [
    "class Solution {\n",
    "\n",
    "    public int numberOfSubarrays(int[] nums, int k) {\n",
    "        int currSum = 0, subarrays = 0;\n",
    "        Map<Integer, Integer> prefixSum = new HashMap<>();\n",
    "        prefixSum.put(currSum, 1);\n",
    "\n",
    "        for (int i = 0; i < nums.length; i++) {\n",
    "            currSum += nums[i] % 2;\n",
    "            // Find subarrays with sum k ending at i\n",
    "            if (prefixSum.containsKey(currSum - k)) {\n",
    "                subarrays = subarrays + prefixSum.get(currSum - k);\n",
    "            }\n",
    "            // Increment the current prefix sum in hashmap\n",
    "            prefixSum.put(currSum, prefixSum.getOrDefault(currSum, 0) + 1);\n",
    "        }\n",
    "\n",
    "        return subarrays;\n",
    "    }\n",
    "}"
   ]
  }
 ],
 "metadata": {
  "language_info": {
   "name": "python"
  }
 },
 "nbformat": 4,
 "nbformat_minor": 5
}
