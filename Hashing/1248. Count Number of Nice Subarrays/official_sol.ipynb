{
 "cells": [
  {
   "cell_type": "markdown",
   "id": "bc43a4eb",
   "metadata": {},
   "source": [
    "## Problem\n",
    "Given an array of integers nums and an integer k. A continuous subarray is called nice if there are k odd numbers on it.\n",
    "Return the number of nice sub-arrays.\n",
    "\n",
    "**Example 1:**\n",
    "Input: nums = [1,1,2,1,1], k = 3  \n",
    "Output: 2  \n",
    "Explanation: The only sub-arrays with 3 odd numbers are [1,1,2,1] and [1,2,1,1].  \n",
    "\n",
    "**Example 2:**\n",
    "Input: nums = [2,4,6], k = 1  \n",
    "Output: 0  \n",
    "Explanation: There are no odd numbers in the array.  \n",
    "\n",
    "**Example 3:**\n",
    "Input: nums = [2,2,2,1,2,2,1,2,2,2], k = 2  \n",
    "Output: 16  \n",
    "\n",
    "**Constraints:**\n",
    "- 1 <= nums.length <= 50000\n",
    "- 1 <= nums[i] <= 10^5\n",
    "- 1 <= k <= nums.length"
   ]
  },
  {
   "cell_type": "code",
   "execution_count": null,
   "id": "63138d1e",
   "metadata": {
    "vscode": {
     "languageId": "cpp"
    }
   },
   "outputs": [],
   "source": [
    "class Solution {\n",
    "public:\n",
    "    int numberOfSubarrays(vector<int>& nums, int k) {\n",
    "        unordered_map<int, int> counts;\n",
    "        counts[0] = 1;\n",
    "        int ans = 0, curr = 0;\n",
    "        \n",
    "        for (int num: nums) {\n",
    "            curr += num % 2;\n",
    "            ans += counts[curr - k];\n",
    "            counts[curr] += 1;\n",
    "        }\n",
    "        \n",
    "        return ans;\n",
    "    }\n",
    "};"
   ]
  }
 ],
 "metadata": {
  "language_info": {
   "name": "python"
  }
 },
 "nbformat": 4,
 "nbformat_minor": 5
}
