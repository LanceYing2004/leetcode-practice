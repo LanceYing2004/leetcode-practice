{
 "cells": [
  {
   "cell_type": "markdown",
   "id": "2053aa51",
   "metadata": {},
   "source": [
    "## Problem\n",
    "You are given an integer array matches where matches[i] = [winner<sub>i</sub>, loser<sub>i</sub>] indicates that the player winner<sub>i</sub> defeated player loser<sub>i</sub> in a match.\n",
    "\n",
    "Return a list answer of size 2 where:\n",
    "- answer[0] is a list of all players that have not lost any matches.\n",
    "- answer[1] is a list of all players that have lost exactly one match.\n",
    "\n",
    "The values in the two lists should be returned in **increasing** order.\n",
    "\n",
    "Note:\n",
    "- You should only consider the players that have played at least one match.\n",
    "- The testcases will be generated such that no two matches will have the same outcome.\n",
    "\n",
    "**Example 1:**\n",
    "Input: matches = [[1,3],[2,3],[3,6],[5,6],[5,7],[4,5],[4,8],[4,9],[10,4],[10,9]]  \n",
    "Output: [[1,2,10],[4,5,7,8]]  \n",
    "Explanation:  \n",
    "Players 1, 2, and 10 have not lost any matches.  \n",
    "Players 4, 5, 7, and 8 each have lost one match.  \n",
    "Players 3, 6, and 9 each have lost two matches.  \n",
    "Thus, answer[0] = [1,2,10] and answer[1] = [4,5,7,8].  \n",
    "\n",
    "**Example 2:**\n",
    "Input: matches = [[2,3],[1,3],[5,4],[6,4]]  \n",
    "Output: [[1,2,5,6],[]]  \n",
    "Explanation:  \n",
    "Players 1, 2, 5, and 6 have not lost any matches.  \n",
    "Players 3 and 4 each have lost two matches.  \n",
    "Thus, answer[0] = [1,2,5,6] and answer[1] = [].  \n",
    "\n",
    "**Constraints:**\n",
    "- 1 <= matches.length <= 10<sup>5</sup>\n",
    "- matches[i].length == 2\n",
    "- 1 <= winner<sub>i</sub>, loser<sub>i</sub> <= 10<sup>5</sup>\n",
    "- winner<sub>i</sub> != loser<sub>i</sub>\n",
    "- All matches[i] are unique."
   ]
  },
  {
   "cell_type": "markdown",
   "id": "97512663",
   "metadata": {},
   "source": [
    "### Intuition\n",
    "My thought progress:\n",
    "Using hashmap to map out how many time each person loses. If during the match the player wins, then it's += 0. If he loses, then it's += 1. Create 2 temporary vectors for easy sorting, and based on the criteria, add the player number to the array. Sort it and finally combine it.\n",
    "\n",
    "### Complexity\n",
    "Time Complexity: O(n + nlog n), that is 2 distinct for loops + sorting\n",
    "Space Complexity: O(n)"
   ]
  },
  {
   "cell_type": "code",
   "execution_count": null,
   "id": "e37913e9",
   "metadata": {
    "vscode": {
     "languageId": "cpp"
    }
   },
   "outputs": [],
   "source": [
    "class Solution {\n",
    "public:\n",
    "    vector<vector<int>> findWinners(vector<vector<int>>& matches) {\n",
    "        vector<vector<int>> result(2);\n",
    "        vector<int> temp1;\n",
    "        vector<int> temp2;\n",
    "        unordered_map<int, int> count;\n",
    "        for (auto match : matches) {\n",
    "            count[match[0]] += 0;\n",
    "            count[match[1]] += 1;\n",
    "        }\n",
    "\n",
    "        for (auto pair : count) {\n",
    "            if (pair.second == 0) {\n",
    "                temp1.push_back(pair.first);\n",
    "            }\n",
    "            if (pair.second == 1) {\n",
    "                temp2.push_back(pair.first);\n",
    "            }\n",
    "        }\n",
    "        sort(temp1.begin(), temp1.end());\n",
    "        sort(temp2.begin(), temp2.end());\n",
    "        result[0] = temp1;\n",
    "        result[1] = temp2;\n",
    "        return result;\n",
    "    }\n",
    "};"
   ]
  },
  {
   "cell_type": "code",
   "execution_count": null,
   "id": "2e47995a",
   "metadata": {},
   "outputs": [],
   "source": [
    "from typing import List\n",
    "\n",
    "class Solution:\n",
    "    def findWinners(self, matches: List[List[int]]) -> List[List[int]]:\n",
    "        lost_count = {}\n",
    "        for winner, loser in matches:\n",
    "            if winner not in lost_count:\n",
    "                lost_count[winner] = 0\n",
    "            lost_count[loser] = lost_count.get(loser, 0) + 1\n",
    "\n",
    "        zero_lost = []\n",
    "        one_lost = []\n",
    "\n",
    "        for key, value in lost_count.items():\n",
    "            if value == 0:\n",
    "                zero_lost.append(key)\n",
    "            if value == 1:\n",
    "                one_lost.append(key)\n",
    "        return [sorted(zero_lost), sorted(one_lost)]"
   ]
  }
 ],
 "metadata": {
  "language_info": {
   "name": "python"
  }
 },
 "nbformat": 4,
 "nbformat_minor": 5
}
