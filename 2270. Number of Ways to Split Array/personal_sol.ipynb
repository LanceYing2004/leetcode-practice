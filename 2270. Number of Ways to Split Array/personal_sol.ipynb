{
 "cells": [
  {
   "cell_type": "markdown",
   "id": "d57f921b",
   "metadata": {
    "vscode": {
     "languageId": "plaintext"
    }
   },
   "source": [
    "### Problem\n",
    "You are given a 0-indexed integer array nums of length n.\n",
    "\n",
    "nums contains a valid split at index i if the following are true:\n",
    "\n",
    "The sum of the first i + 1 elements is greater than or equal to the sum of the last n - i - 1 elements.\n",
    "There is at least one element to the right of i. That is, 0 <= i < n - 1.\n",
    "Return the number of valid splits in nums.\n",
    "\n",
    "**Example 1:**\n",
    "\n",
    "Input: nums = [10,4,-8,7]  \n",
    "Output: 2  \n",
    "Explanation: \n",
    "There are three ways of splitting nums into two non-empty parts:\n",
    "- Split nums at index 0. Then, the first part is [10], and its sum is 10. The second part is [4,-8,7], and its sum is 3. Since 10 >= 3, i = 0 is a valid split.\n",
    "- Split nums at index 1. Then, the first part is [10,4], and its sum is 14. The second part is [-8,7], and its sum is -1. Since 14 >= -1, i = 1 is a valid split.\n",
    "- Split nums at index 2. Then, the first part is [10,4,-8], and its sum is 6. The second part is [7], and its sum is 7. Since 6 < 7, i = 2 is not a valid split.\n",
    "Thus, the number of valid splits in nums is 2.\n",
    "\n",
    "\n",
    "**Example 2:**\n",
    "\n",
    "Input: nums = [2,3,1,0]  \n",
    "Output: 2  \n",
    "Explanation: \n",
    "There are two valid splits in nums:\n",
    "- Split nums at index 1. Then, the first part is [2,3], and its sum is 5. The second part is [1,0], and its sum is 1. Since 5 >= 1, i = 1 is a valid split. \n",
    "- Split nums at index 2. Then, the first part is [2,3,1], and its sum is 6. The second part is [0], and its sum is 0. Since 6 >= 0, i = 2 is a valid split.\n",
    " \n",
    "\n",
    "Constraints:\n",
    "\n",
    "2 <= nums.length <= 10<sup>5</sup>  \n",
    "-10<sup>5</sup> <= nums[i] <= 10<sup>5</sup>"
   ]
  },
  {
   "cell_type": "markdown",
   "id": "6c549d95",
   "metadata": {},
   "source": [
    "### Intuition\n",
    "This is a fairly simple problem. I got it out in less than 10 minutes. Immediately I came across prefix sum, as that's the fastest method of calculating sum in an subarray in O(1) time."
   ]
  },
  {
   "cell_type": "markdown",
   "id": "24f8c96f",
   "metadata": {},
   "source": [
    "### Approach\n",
    "1. Build the sum of array as prerequsite, pushing every element inside.\n",
    "2. iterate through the array until the last element, figure out if the sum fits to the constraints."
   ]
  },
  {
   "cell_type": "markdown",
   "id": "83ff0848",
   "metadata": {},
   "source": [
    "### Complexity\n",
    "Time Complexity: Building the prefix_sum -> O(n) + iterating through the nums -> O(n) = O(2n) which is just O(n)  \n",
    "Space Complexity: O(n) space"
   ]
  },
  {
   "cell_type": "markdown",
   "id": "a0cd6c43",
   "metadata": {},
   "source": [
    "### Solution\n",
    "**Initial solution:**\n",
    "\n",
    "Note: remember to use long as value type, because some addition are clearly out of the limit\n",
    "\n",
    "Some changes:\n",
    "- first half of the sum could be just represented by prefix_sum[i]\n",
    "- second half of the sum could be represented by prefix_sum[n - 1] - prefix_sum[i] (if there's no 0 index involved, could use this calculation straight away)\n",
    "- by creating a vector with n element beginning is faster than push_back, since it avoids dynamic resizing"
   ]
  },
  {
   "cell_type": "code",
   "execution_count": null,
   "id": "c11b85d9",
   "metadata": {
    "vscode": {
     "languageId": "cpp"
    }
   },
   "outputs": [],
   "source": [
    "class Solution {\n",
    "public:\n",
    "    int waysToSplitArray(vector<int>& nums) {\n",
    "        vector<long> prefix_sum;\n",
    "        prefix_sum.push_back(nums[0]);\n",
    "\n",
    "        for (int i = 1; i < nums.size(); i++) {\n",
    "            prefix_sum.push_back(nums[i] + prefix_sum[prefix_sum.size() - 1]);\n",
    "        }\n",
    "        \n",
    "        int result_count = 0;\n",
    "        for (int i = 0; i < nums.size() - 1; i++) {\n",
    "            long first_half = prefix_sum[i] - prefix_sum[0] + nums[0];\n",
    "            long second_half = prefix_sum[nums.size() - 1] - prefix_sum[i + 1] + nums[i + 1];\n",
    "\n",
    "            if (first_half >= second_half) {\n",
    "                result_count++;\n",
    "            }\n",
    "        }\n",
    "        return result_count;\n",
    "    }\n",
    "};"
   ]
  },
  {
   "cell_type": "code",
   "execution_count": null,
   "id": "ac4a27f0",
   "metadata": {
    "vscode": {
     "languageId": "cpp"
    }
   },
   "outputs": [],
   "source": [
    "class Solution {\n",
    "public:\n",
    "    int waysToSplitArray(vector<int>& nums) {\n",
    "        vector<long> prefix_sum (nums.size());\n",
    "        prefix_sum[0] = nums[0];\n",
    "\n",
    "        for (int i = 1; i < nums.size(); i++) {\n",
    "            prefix_sum[i] = nums[i] + prefix_sum[i - 1];\n",
    "        }\n",
    "        \n",
    "        int result_count = 0;\n",
    "        for (int i = 0; i < nums.size() - 1; i++) {\n",
    "            long first_half = prefix_sum[i];\n",
    "            long second_half = prefix_sum[nums.size() - 1] - prefix_sum[i];\n",
    "\n",
    "            if (first_half >= second_half) {\n",
    "                result_count++;\n",
    "            }\n",
    "        }\n",
    "        return result_count;\n",
    "    }\n",
    "};"
   ]
  },
  {
   "cell_type": "code",
   "execution_count": null,
   "id": "7eafb231",
   "metadata": {},
   "outputs": [],
   "source": [
    "from typing import List\n",
    "\n",
    "class Solution:\n",
    "    def waysToSplitArray(self, nums: List[int]) -> int:\n",
    "        prefix_sum = [nums[0]]\n",
    "        for i in range (1, len(nums)):\n",
    "            prefix_sum.append(nums[i] + prefix_sum[-1])\n",
    "        \n",
    "        result_count = 0\n",
    "        for i in range (0, len(nums) - 1):\n",
    "            left_side = prefix_sum[j]\n",
    "            right_side = prefix_sum[-1] - prefix_sum[j]\n",
    "            if (left_side >= right_side):\n",
    "                result_count += 1\n",
    "        return result_count"
   ]
  }
 ],
 "metadata": {
  "language_info": {
   "name": "python"
  }
 },
 "nbformat": 4,
 "nbformat_minor": 5
}
