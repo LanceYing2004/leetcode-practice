{
 "cells": [
  {
   "cell_type": "markdown",
   "id": "c6473abc",
   "metadata": {},
   "source": [
    "### Problem\n",
    "\n",
    "Given an array of integers nums, you start with an initial positive value startValue.\n",
    "\n",
    "In each iteration, you calculate the step by step sum of startValue plus elements in nums (from left to right).\n",
    "\n",
    "Return the minimum positive value of startValue such that the step by step sum is never less than 1.\n",
    "\n",
    " \n",
    "\n",
    "**Example 1:**\n",
    "\n",
    "Input: nums = [-3,2,-3,4,2]\n",
    "Output: 5\n",
    "Explanation: If you choose startValue = 4, in the third iteration your step by step sum is less than 1.\n",
    "step by step sum  \n",
    "startValue = 4 | startValue = 5 | nums  \n",
    "  (4 -3 ) = 1  | (5 -3 ) = 2    |  -3  \n",
    "  (1 +2 ) = 3  | (2 +2 ) = 4    |   2  \n",
    "  (3 -3 ) = 0  | (4 -3 ) = 1    |  -3  \n",
    "  (0 +4 ) = 4  | (1 +4 ) = 5    |   4  \n",
    "  (4 +2 ) = 6  | (5 +2 ) = 7    |   2  \n",
    "\n",
    "\n",
    "**Example 2:**\n",
    "\n",
    "Input: nums = [1,2]\n",
    "Output: 1\n",
    "Explanation: Minimum start value should be positive. \n",
    "Example 3:\n",
    "\n",
    "Input: nums = [1,-2,-3]\n",
    "Output: 5\n",
    " \n",
    "\n",
    "**Constraints:**\n",
    "\n",
    "- 1 <= nums.length <= 100\n",
    "- -100 <= nums[i] <= 100"
   ]
  },
  {
   "cell_type": "markdown",
   "id": "d904ddf6",
   "metadata": {},
   "source": [
    "### Intuition\n",
    "\n",
    "When I first looked at this problem, I saw the example and noticed that depending on the differnet start value, there is going to be a lowest point in the entire sum sequence. Therefore I decided to use prefix sum approach, where I will set up an vector that calculates all the sum that happens throughout the vector.\n",
    "\n",
    "However, after I finished writing the python code later this evening, I realized that there's no need to create a seperate vector. Only sum would work since 1. there's no need to return a whole vector of sums; 2. Keeping all those infos are not necessary, because I don't need the diff between elements."
   ]
  },
  {
   "cell_type": "markdown",
   "id": "bd95ec39",
   "metadata": {},
   "source": [
    "### algorithm\n",
    "Prefix sum approach.  \n",
    "Find the lowest value in the sum sequence and return it."
   ]
  },
  {
   "cell_type": "markdown",
   "id": "e8bbb1e0",
   "metadata": {},
   "source": [
    "### Complexity\n",
    "Time Complexity: O(n)  \n",
    "Space Complexity: O(n) -> O(1)"
   ]
  },
  {
   "cell_type": "code",
   "execution_count": null,
   "id": "52b457ec",
   "metadata": {
    "vscode": {
     "languageId": "cpp"
    }
   },
   "outputs": [],
   "source": [
    "class Solution {\n",
    "public:\n",
    "    int minStartValue(vector<int>& nums) {\n",
    "        vector<int>prefix_sum (nums.size());\n",
    "        prefix_sum[0] = 0 + nums[0];\n",
    "        int min_value = prefix_sum[0];\n",
    "\n",
    "        for (int i = 1; i < nums.size(); i++) {\n",
    "            prefix_sum[i] = nums[i] + prefix_sum[i - 1];\n",
    "            min_value = min(min_value, prefix_sum[i]);\n",
    "        }\n",
    "\n",
    "        if (min_value + 1 > 1) {\n",
    "            return 1;\n",
    "        }\n",
    "        return abs(min_value) + 1;\n",
    "    }\n",
    "};"
   ]
  },
  {
   "cell_type": "code",
   "execution_count": null,
   "id": "5f4707e1",
   "metadata": {},
   "outputs": [],
   "source": [
    "from typing import List\n",
    "\n",
    "class Solution:\n",
    "    def minStartValue(self, nums: List[int]) -> int:\n",
    "        sum = min_value = nums[0]\n",
    "        for i in range (1, len(nums)):\n",
    "            sum += nums[i]\n",
    "            min_value = min(min_value, sum)\n",
    "        if (min_value >= 1):\n",
    "            return 1\n",
    "        return abs(min_value) + 1"
   ]
  },
  {
   "cell_type": "code",
   "execution_count": null,
   "id": "a0a46501",
   "metadata": {
    "vscode": {
     "languageId": "cpp"
    }
   },
   "outputs": [],
   "source": [
    "// Version 2 C++, after working on the python solution, I don't think a vector is necessary\n",
    "// Result, reduced half of the memory usage\n",
    "\n",
    "class Solution {\n",
    "public:\n",
    "    int minStartValue(vector<int>& nums) {\n",
    "        int sum = nums[0];\n",
    "        int min_value = nums[0];\n",
    "\n",
    "        for (int i = 1; i < nums.size(); i++) {\n",
    "            sum += nums[i];\n",
    "            min_value = min(min_value, sum);\n",
    "        }\n",
    "\n",
    "        if (min_value >= 1) {\n",
    "            return 1;\n",
    "        }\n",
    "        return abs(min_value) + 1;\n",
    "    }\n",
    "};"
   ]
  }
 ],
 "metadata": {
  "language_info": {
   "name": "python"
  }
 },
 "nbformat": 4,
 "nbformat_minor": 5
}
