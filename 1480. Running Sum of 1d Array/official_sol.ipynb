{
 "cells": [
  {
   "cell_type": "markdown",
   "id": "76594061",
   "metadata": {},
   "source": [
    "### Problem\n",
    "\n",
    "Given an array nums. We define a running sum of an array as runningSum[i] = sum(nums[0]…nums[i]).\n",
    "\n",
    "Return the running sum of nums.\n",
    "\n",
    "\n",
    "Example 1:\n",
    "\n",
    "Input: nums = [1,2,3,4]  \n",
    "Output: [1,3,6,10]  \n",
    "Explanation: Running sum is obtained as follows: [1, 1+2, 1+2+3, 1+2+3+4].\n",
    "\n",
    "\n",
    "Example 2:\n",
    "\n",
    "Input: nums = [1,1,1,1,1]  \n",
    "Output: [1,2,3,4,5]  \n",
    "Explanation: Running sum is obtained as follows: [1, 1+1, 1+1+1, 1+1+1+1, 1+1+1+1+1].  \n",
    "\n",
    "\n",
    "Example 3:\n",
    "\n",
    "Input: nums = [3,1,2,10,1]  \n",
    "Output: [3,4,6,16,17]\n",
    " \n",
    "\n",
    "Constraints:\n",
    "\n",
    "- 1 <= nums.length <= 1000\n",
    "- -10^6 <= nums[i] <= 10^6"
   ]
  },
  {
   "cell_type": "markdown",
   "id": "404d0e13",
   "metadata": {},
   "source": [
    "### Intuition\n",
    "We are required to find the running sum of numbers nums[i] in the input array where i ranges from 0 to n-1 and n is the size of the input array. We can see that the running sum is the sum of all of the elements from index 0 to index i inclusive. Since we start building our output array at index 0, at each index i we have already calculated the sum of all numbers up to and including index i-1. Thus, instead of recalculating the sum, we can get the result for index i by simply adding the element at index i to the previously calculated running sum for index i-1.\n"
   ]
  },
  {
   "cell_type": "markdown",
   "id": "5edb1654",
   "metadata": {},
   "source": [
    "### Algorithm\n",
    "1. Define an array result.\n",
    "2. Initialize the first element of result with the first element of the input array.\n",
    "3. At index i append the sum of the element nums[i] and previous running sum result[i - 1] to the result array.\n",
    "4. We repeat step 3 for all indices from 1 to n-1."
   ]
  },
  {
   "cell_type": "markdown",
   "id": "e8bb434d",
   "metadata": {},
   "source": [
    "### Complexity Analysis\n",
    "Time complexity: O(n) where n is the length of the input array. This is because we use a single loop that iterates over the entire array to calculate the running sum.\n",
    "\n",
    "Space complexity: O(n) We declare an array result of size n to store the running sum and access the previous value to calculate the next value. Although output space is not considered when calculating space complexity, our result array is used for calculating the answer, so its space is considered."
   ]
  },
  {
   "cell_type": "code",
   "execution_count": null,
   "id": "e8305364",
   "metadata": {
    "vscode": {
     "languageId": "cpp"
    }
   },
   "outputs": [],
   "source": [
    "class Solution {\n",
    "public:\n",
    "    vector<int> runningSum(vector<int> &nums) {\n",
    "        // Initialize result array with first element in nums.\n",
    "        vector<int> result = {nums[0]};\n",
    "\n",
    "        for (int i = 1; i < nums.size(); i++) {\n",
    "            // Result at index `i` is sum of result at `i-1` and element at `i`.\n",
    "            result.push_back(result.back() + nums[i]);\n",
    "        }\n",
    "        return result;\n",
    "    }\n",
    "};"
   ]
  },
  {
   "cell_type": "code",
   "execution_count": null,
   "id": "43206407",
   "metadata": {
    "vscode": {
     "languageId": "java"
    }
   },
   "outputs": [],
   "source": [
    "class Solution {\n",
    "public int[] runningSum(int[] nums) {\n",
    "        int[] result = new int[nums.length];\n",
    "\n",
    "        // Initialize first element of result array with first element in nums.\n",
    "        result[0] = nums[0];\n",
    "        for (int i = 1; i < nums.length; i++) {\n",
    "            // Result at index `i` is sum of result at `i-1` and element at `i`.\n",
    "            result[i] = result[i - 1] + nums[i];\n",
    "        }\n",
    "        return result;\n",
    "    }\n",
    "}"
   ]
  }
 ],
 "metadata": {
  "language_info": {
   "name": "python"
  }
 },
 "nbformat": 4,
 "nbformat_minor": 5
}
