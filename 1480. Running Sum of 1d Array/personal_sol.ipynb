{
 "cells": [
  {
   "cell_type": "markdown",
   "id": "a65c4008",
   "metadata": {},
   "source": [
    "### Problem\n",
    "\n",
    "Given an array nums. We define a running sum of an array as runningSum[i] = sum(nums[0]…nums[i]).\n",
    "\n",
    "Return the running sum of nums.\n",
    "\n",
    "\n",
    "Example 1:\n",
    "\n",
    "Input: nums = [1,2,3,4]  \n",
    "Output: [1,3,6,10]  \n",
    "Explanation: Running sum is obtained as follows: [1, 1+2, 1+2+3, 1+2+3+4].\n",
    "\n",
    "\n",
    "Example 2:\n",
    "\n",
    "Input: nums = [1,1,1,1,1]  \n",
    "Output: [1,2,3,4,5]  \n",
    "Explanation: Running sum is obtained as follows: [1, 1+1, 1+1+1, 1+1+1+1, 1+1+1+1+1].  \n",
    "\n",
    "\n",
    "Example 3:\n",
    "\n",
    "Input: nums = [3,1,2,10,1]  \n",
    "Output: [3,4,6,16,17]\n",
    " \n",
    "\n",
    "Constraints:\n",
    "\n",
    "- 1 <= nums.length <= 1000\n",
    "- -10^6 <= nums[i] <= 10^6"
   ]
  },
  {
   "cell_type": "markdown",
   "id": "88f064b4",
   "metadata": {},
   "source": [
    "### Intuition & Algorithm\n",
    "I literally done this within 2 minutes. I feel like there's not much to say here. It's just a extremely (most basic form) of Prefix Sum  \n",
    "(I will probably edit this sometime...or maybe not. Don't count my word on it)"
   ]
  },
  {
   "cell_type": "markdown",
   "id": "19ef6b1f",
   "metadata": {},
   "source": [
    "### Complexity\n",
    "**Time Complexity:** O(n)  \n",
    "**Space Complexity:** O(n)"
   ]
  },
  {
   "cell_type": "markdown",
   "id": "8b2501fa",
   "metadata": {},
   "source": [
    "### Note\n",
    "The only thing I wanted to say is that it seems like python doesn't have a \"convensional\" way of initialize a list. Therefore you for questions where it involves prefix sum, be sure to use **append**, and be aware of the *out of bounds* error that comes within.\n",
    "\n",
    "Python prefix sum algorithm/syntax:\n",
    "`    for i in range (1, len(nums)):\n",
    "        prefix_sum.append(nums[i] + prefix_sum[-1])`"
   ]
  },
  {
   "cell_type": "code",
   "execution_count": null,
   "id": "6350fdd0",
   "metadata": {
    "vscode": {
     "languageId": "cpp"
    }
   },
   "outputs": [],
   "source": [
    "class Solution {\n",
    "public:\n",
    "    vector<int> runningSum(vector<int>& nums) {\n",
    "        vector<int> result (nums.size());\n",
    "        result[0] = nums[0];\n",
    "        for (int i = 1; i < nums.size(); i++) {\n",
    "            result[i] = nums[i] + result[i - 1];\n",
    "        }\n",
    "        return result;\n",
    "    }\n",
    "};"
   ]
  },
  {
   "cell_type": "code",
   "execution_count": null,
   "id": "60dde8f5",
   "metadata": {},
   "outputs": [],
   "source": [
    "from typing import List\n",
    "\n",
    "class Solution:\n",
    "    def runningSum(self, nums: List[int]) -> List[int]:\n",
    "        result = [nums[0]]\n",
    "        for i in range (1, len(nums)):\n",
    "            result.append(nums[i] + result[-1])\n",
    "        return result"
   ]
  }
 ],
 "metadata": {
  "language_info": {
   "name": "python"
  }
 },
 "nbformat": 4,
 "nbformat_minor": 5
}
