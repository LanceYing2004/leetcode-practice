{
 "cells": [
  {
   "cell_type": "markdown",
   "id": "8afa8c4c",
   "metadata": {},
   "source": [
    "### Problem\n",
    "Given a string s consisting of lowercase English letters, return the first letter to appear twice.\n",
    "\n",
    "Note:\n",
    "\n",
    "A letter a appears twice before another letter b if the second occurrence of a is before the second occurrence of b.\n",
    "s will contain at least one letter that appears twice.\n",
    " \n",
    "\n",
    "Example 1:\n",
    "\n",
    "Input: s = \"abccbaacz\"  \n",
    "Output: \"c\"  \n",
    "Explanation:  \n",
    "The letter 'a' appears on the indexes 0, 5 and 6.  \n",
    "The letter 'b' appears on the indexes 1 and 4.  \n",
    "The letter 'c' appears on the indexes 2, 3 and 7.  \n",
    "The letter 'z' appears on the index 8.  \n",
    "The letter 'c' is the first letter to appear twice, because out of all the letters the index of its second occurrence is the smallest.  \n",
    "\n",
    "\n",
    "Example 2: \n",
    "\n",
    "Input: s = \"abcdd\"  \n",
    "Output: \"d\"  \n",
    "Explanation:  \n",
    "The only letter that appears twice is 'd' so we return 'd'.  \n",
    " \n",
    "\n",
    "Constraints:\n",
    "\n",
    "- 2 <= s.length <= 100\n",
    "- s consists of lowercase English letters.\n",
    "- s has at least one repeated letter."
   ]
  },
  {
   "cell_type": "markdown",
   "id": "939614f9",
   "metadata": {},
   "source": [
    "### Brute Force\n",
    "The brute force solution would be to iterate along the string, and for each character c, iterate again up to c to see if there is any match.\n",
    "\n",
    "Time Complexity: O(n<sup>2</sup>)"
   ]
  },
  {
   "cell_type": "code",
   "execution_count": null,
   "id": "06b79663",
   "metadata": {
    "vscode": {
     "languageId": "cpp"
    }
   },
   "outputs": [],
   "source": [
    "class Solution {\n",
    "public:\n",
    "    char repeatedCharacter(string s) {\n",
    "        for (int i = 0; i < s.size(); i++) {\n",
    "            char c = s[i];\n",
    "            for (int j = 0; j < i; j++) {\n",
    "                if (s[j] == c) {\n",
    "                    return c;\n",
    "                }\n",
    "            }\n",
    "        }\n",
    "        \n",
    "        return ' ';\n",
    "    }\n",
    "};"
   ]
  },
  {
   "cell_type": "code",
   "execution_count": null,
   "id": "10dabc4b",
   "metadata": {},
   "outputs": [],
   "source": [
    "class Solution:\n",
    "    def repeatedCharacter(self, s: str) -> str:\n",
    "        for i in range(len(s)):\n",
    "            c = s[i]\n",
    "            for j in range(i):\n",
    "                if s[j] == c:\n",
    "                    return c\n",
    "\n",
    "        return \"\""
   ]
  },
  {
   "cell_type": "markdown",
   "id": "5622c350",
   "metadata": {},
   "source": [
    "### Using a Set"
   ]
  },
  {
   "cell_type": "code",
   "execution_count": null,
   "id": "59902db7",
   "metadata": {
    "vscode": {
     "languageId": "cpp"
    }
   },
   "outputs": [],
   "source": [
    "class Solution {\n",
    "public:\n",
    "    char repeatedCharacter(string s) {\n",
    "        unordered_set<char> seen;\n",
    "        for (char c: s) {\n",
    "            if (seen.contains(c)) {\n",
    "                return c;\n",
    "            }\n",
    "            seen.insert(c);\n",
    "        }\n",
    "        \n",
    "        return ' ';\n",
    "    }\n",
    "};"
   ]
  },
  {
   "cell_type": "code",
   "execution_count": null,
   "id": "327fcdbd",
   "metadata": {},
   "outputs": [],
   "source": [
    "class Solution:\n",
    "    def repeatedCharacter(self, s: str) -> str:\n",
    "        seen = set()\n",
    "        for c in s:\n",
    "            if c in seen:\n",
    "                return c\n",
    "            seen.add(c)\n",
    "\n",
    "        return \" \""
   ]
  }
 ],
 "metadata": {
  "language_info": {
   "name": "python"
  }
 },
 "nbformat": 4,
 "nbformat_minor": 5
}
