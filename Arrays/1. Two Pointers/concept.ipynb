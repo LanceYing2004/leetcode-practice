{
 "cells": [
  {
   "cell_type": "markdown",
   "id": "8322c66e",
   "metadata": {},
   "source": [
    "# 1. Two Pointers"
   ]
  },
  {
   "cell_type": "markdown",
   "id": "ef1a1e67",
   "metadata": {},
   "source": [
    "Start the pointers at the edges of the input. Move them towards each other until they meet.\n",
    "\n",
    "1. Start one pointer at the first index 0 and the other pointer at the last index input.length - 1.\n",
    "2. Use a while loop until the pointers are equal to each other.\n",
    "3. At each iteration of the loop, move the pointers towards each other. This means either increment the pointer that started at the first index, decrement the pointer that started at the last index, or both. Deciding which pointers to move will depend on the problem we are trying to solve."
   ]
  },
  {
   "cell_type": "markdown",
   "id": "07f34f16",
   "metadata": {},
   "source": [
    "Note: When you use the two-pointer (or “swap up to the middle”) approach, you actually don’t need any special case for odd- vs. even-length—one simple bound takes care of both:\n",
    "- When n is even, left and right cross after exactly n/2 swaps.\n",
    "- When n is odd, they meet at the middle index—where left == right—and the loop exits without swapping that lone middle character."
   ]
  },
  {
   "cell_type": "markdown",
   "id": "829f1731",
   "metadata": {},
   "source": [
    "### Example 1: Palindrome\n",
    "Given a string s, return true if it is a palindrome, false otherwise.\n",
    "\n",
    "A string is a palindrome if it reads the same forward as backward. That means, after reversing it, it is still the same string. For example: \"abcdcba\", or \"racecar\"."
   ]
  },
  {
   "cell_type": "code",
   "execution_count": null,
   "id": "df74de97",
   "metadata": {
    "vscode": {
     "languageId": "cpp"
    }
   },
   "outputs": [],
   "source": [
    "bool checkIfPalindrome(string s) {\n",
    "    int left = 0;\n",
    "    int right = s.size() - 1;\n",
    "    \n",
    "    while (left < right) {\n",
    "        if (s[left] != s[right]) {\n",
    "            return false;\n",
    "        }\n",
    "        left++;\n",
    "        right--;\n",
    "    }\n",
    "    return true;\n",
    "}\n",
    "\n",
    "// Complexity: O(n)\n",
    "// Memory: O(1)"
   ]
  },
  {
   "cell_type": "code",
   "execution_count": null,
   "id": "c0ef1edc",
   "metadata": {},
   "outputs": [],
   "source": [
    "def check_if_palindrome(s):\n",
    "    left = 0\n",
    "    right = len(s) - 1\n",
    "    while left < right:\n",
    "        if (s[left] != s[right]):\n",
    "            return False\n",
    "        left += 1\n",
    "        right -= 1\n",
    "    return True\n"
   ]
  },
  {
   "cell_type": "markdown",
   "id": "cc0f31e1",
   "metadata": {},
   "source": [
    "### Example 2: Two-Sum\n",
    "Given a sorted array of unique integers and a target integer, return true if there exists a pair of numbers that sum to target, false otherwise. This problem is similar to Two Sum. (In Two Sum, the input is not sorted).\n",
    "\n",
    "For example, given nums = [1, 2, 4, 6, 8, 9, 14, 15] and target = 13, return true because 4 + 9 = 13.\n",
    "\n",
    "**Note:** a similar version of this problem can be found on LeetCode: 167. Two Sum II - Input Array Is Sorted\n",
    "\n",
    "**1st strategy:** Brute force, results in O(n^2) complexity "
   ]
  },
  {
   "cell_type": "code",
   "execution_count": null,
   "id": "8be6edde",
   "metadata": {
    "vscode": {
     "languageId": "cpp"
    }
   },
   "outputs": [],
   "source": [
    "bool checkForTarget(vector<int>& nums, int target) {\n",
    "    int left = 0;\n",
    "    int right = nums.size() - 1;\n",
    "\n",
    "    while (left < right) {\n",
    "        int sum = nums[left] + nums[right]; // put it here so calculate sum everytime enters the loop\n",
    "        if (sum == target)\n",
    "            return true;\n",
    "        \n",
    "        if (sum < target)\n",
    "            left++;\n",
    "        else\n",
    "            right++;\n",
    "\n",
    "    }\n",
    "\n",
    "    return false;\n",
    "}\n",
    "\n",
    "// Complexity: O(n)\n",
    "// Memory: O(1)"
   ]
  },
  {
   "cell_type": "code",
   "execution_count": null,
   "id": "9eb66535",
   "metadata": {},
   "outputs": [],
   "source": [
    "def check_for_target(nums, target):\n",
    "    left = 0\n",
    "    right = len(nums) - 1\n",
    "    while left < right:\n",
    "        sum = nums[left] + nums[right]\n",
    "        if sum == target:\n",
    "            return True\n",
    "        if sum < target:\n",
    "            left += 1\n",
    "        else:\n",
    "            right += 1\n",
    "    return False\n"
   ]
  },
  {
   "cell_type": "markdown",
   "id": "dfd91e40",
   "metadata": {},
   "source": [
    "### Example 3: Merge\n",
    "\n",
    "Given two sorted integer arrays arr1 and arr2, return a new array that combines both of them and is also sorted."
   ]
  },
  {
   "cell_type": "code",
   "execution_count": null,
   "id": "d9a88ad9",
   "metadata": {
    "vscode": {
     "languageId": "plaintext"
    }
   },
   "outputs": [],
   "source": [
    "function fn(arr1, arr2):\n",
    "    i = j = 0\n",
    "    while i < arr1.length AND j < arr2.length:\n",
    "        Do some logic here depending on the problem\n",
    "        Do some more logic here to decide on one of the following:\n",
    "            1. i++\n",
    "            2. j++\n",
    "            3. Both i++ and j++\n",
    "\n",
    "    // Step 4: make sure both iterables are exhausted\n",
    "    // Note that only one of these loops would run\n",
    "    while i < arr1.length:\n",
    "        Do some logic here depending on the problem\n",
    "        i++\n",
    "\n",
    "    while j < arr2.length:\n",
    "        Do some logic here depending on the problem\n",
    "        j++"
   ]
  },
  {
   "cell_type": "code",
   "execution_count": null,
   "id": "a1176b60",
   "metadata": {
    "vscode": {
     "languageId": "cpp"
    }
   },
   "outputs": [],
   "source": [
    "vector<int> combine(vector<int>& arr1, vector<int>& arr2) {\n",
    "    int arr1_counter = 0;\n",
    "    int arr2_counter = 0;\n",
    "\n",
    "    vector<int> new_array;\n",
    "\n",
    "    while (arr1_counter < arr1.size() && arr2_counter < arr2.size()) {\n",
    "        if (arr1[arr1_counter] < arr2[arr2_counter]) {\n",
    "            new_array.push_back(arr1[arr1_counter]);\n",
    "            arr1_counter++;\n",
    "        } else if (arr2[arr2_counter] > arr1[arr1_counter]) {\n",
    "            new_array.push_back(arr2[arr2_counter]);\n",
    "            arr2_counter++;\n",
    "        } else {\n",
    "            new_array.push_back(arr1[arr1_counter]);\n",
    "            new_array.push_back(arr2[arr2_counter]);\n",
    "            arr1_counter++;\n",
    "            arr2_counter++;\n",
    "        }\n",
    "    }\n",
    "\n",
    "    while (arr1_counter < arr1.size()) {\n",
    "        new_array.push_back(arr1[arr1_counter]);\n",
    "        arr1_counter++;\n",
    "    }\n",
    "\n",
    "    while (arr2_counter < arr2.size()) {\n",
    "        new_array.push_back(arr2[arr2_counter]);\n",
    "        arr2_counter++;\n",
    "    }\n",
    "\n",
    "    return new_array;\n",
    "}\n",
    "\n",
    "// Complexity: O(n)\n",
    "// Memory: O(1)"
   ]
  },
  {
   "cell_type": "code",
   "execution_count": null,
   "id": "21c7a831",
   "metadata": {},
   "outputs": [],
   "source": [
    "def combine(arr1, arr2):\n",
    "    result = []\n",
    "    arr1_counter = 0\n",
    "    arr2_counter = 0\n",
    "    while arr1_counter < len(arr1) and arr2_counter < len(arr2):\n",
    "        if (arr1[arr1_counter] < arr2[arr2_counter]):\n",
    "            result.append(arr1[arr1_counter])\n",
    "            arr1_counter += 1\n",
    "        else:\n",
    "            result.append(arr2[arr2_counter])\n",
    "            arr2_counter += 1\n",
    "\n",
    "    while arr1_counter < len(arr1):\n",
    "        result.append(arr1[arr1_counter])\n",
    "        arr1_counter += 1\n",
    "    else:\n",
    "        result.append(arr2[arr2_counter])\n",
    "        arr2_counter += 1\n",
    "    return result"
   ]
  },
  {
   "cell_type": "markdown",
   "id": "08a6e646",
   "metadata": {},
   "source": [
    "### Example 4: Is Subsequence (Question 392)\n",
    "\n",
    "Given two strings s and t, return true if s is a subsequence of t, or false otherwise.\n",
    "\n",
    "A subsequence of a string is a sequence of characters that can be obtained by deleting some (or none) of the characters from the original string, while maintaining the relative order of the remaining characters. For example, \"ace\" is a subsequence of \"abcde\" while \"aec\" is not."
   ]
  },
  {
   "cell_type": "code",
   "execution_count": null,
   "id": "eb5e314f",
   "metadata": {
    "vscode": {
     "languageId": "cpp"
    }
   },
   "outputs": [],
   "source": [
    "bool isSubsequence(string s, string t) {\n",
    "    int s_count = 0;\n",
    "    int t_count = 0;\n",
    "    \n",
    "\n",
    "    while (s_count < s.size()) {\n",
    "        if (s[s_count] == t[t_count]) {\n",
    "            s_count++;\n",
    "        }\n",
    "        t_count++;\n",
    "    }\n",
    "\n",
    "    if (s_count != s.size()) {\n",
    "        return false;\n",
    "    }\n",
    "\n",
    "    return true;\n",
    "\n",
    "    // could be simplified as: return s_count == s.size()\n",
    "}\n",
    "\n",
    "// Time complexity: O(n)\n",
    "// space complexity: O(1)"
   ]
  },
  {
   "cell_type": "code",
   "execution_count": null,
   "id": "ba6f5639",
   "metadata": {},
   "outputs": [],
   "source": [
    "class Solution:\n",
    "    def isSubsequence(self, s: str, t: str) -> bool:\n",
    "        s_count = 0\n",
    "        t_count = 0\n",
    "        while s_count < len(s):\n",
    "            if (s[s_count] == t[t_count]):\n",
    "                s_count += 1\n",
    "            t_count += 1\n",
    "        return s_count == len(s)\n"
   ]
  }
 ],
 "metadata": {
  "language_info": {
   "name": "python"
  }
 },
 "nbformat": 4,
 "nbformat_minor": 5
}
