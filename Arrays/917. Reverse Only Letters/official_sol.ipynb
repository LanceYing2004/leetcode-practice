{
 "cells": [
  {
   "cell_type": "markdown",
   "id": "77cd8743",
   "metadata": {},
   "source": [
    "## Problem\n",
    "Given a string s, reverse the string according to the following rules:\n",
    "- All the characters that are not English letters remain in the same position.\n",
    "- All the English letters (lowercase or uppercase) should be reversed.\n",
    "\n",
    "Return s after reversing it.\n",
    "\n",
    "**Example 1:**  \n",
    "Input: s = \"ab-cd\"  \n",
    "Output: \"dc-ba\"  \n",
    "\n",
    "**Example 2:**  \n",
    "Input: s = \"a-bC-dEf-ghIj\"  \n",
    "Output: \"j-Ih-gfE-dCba\"  \n",
    "\n",
    "**Example 3:**  \n",
    "Input: s = \"Test1ng-Leet=code-Q!\"  \n",
    "Output: \"Qedo1ct-eeLg=ntse-T!\"  \n",
    "\n",
    "**Constraints:**\n",
    "- 1 <= s.length <= 100\n",
    "- s consists of characters with ASCII values in the range [33, 122].\n",
    "- s does not contain '\\\"' or '\\\\'.\n"
   ]
  }
 ],
 "metadata": {
  "language_info": {
   "name": "python"
  }
 },
 "nbformat": 4,
 "nbformat_minor": 5
}
