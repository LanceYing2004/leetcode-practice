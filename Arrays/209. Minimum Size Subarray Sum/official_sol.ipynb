{
 "cells": [
  {
   "cell_type": "markdown",
   "id": "5b8c9983",
   "metadata": {},
   "source": [
    "### Intuition\n",
    "Given that we only have positive integers, there is no purpose in adding further elements to a subarray if its sum exceeds or equals target. Adding more elements to such a subarray will result in the construction of longer subarrays, which is useless because we have already found a smaller subarray that meets our requirements:\n",
    "- delete the element if it exceeds or equals to target\n",
    "\n",
    "We now try to remove the elements from the start and see if we can form a smaller subarray that meets our requirements. We remove the first element from the subarray and check if we still have the total higher than or equal to target. If the total exceeds or equals target, we have a smaller subarray that meets our requirement. As a result, we again try to update our answer with the length of the current subarray and repeat the process of eliminating the first element from the current subarray until the sum no longer exceeds or equals target.\n",
    "\n",
    "### Algorithm\n",
    "1. Create three integer variables `left`, `right` and `sumOfCurrentWindow`. The variables left and right form a subarray by pointing to the starting and ending indices of the current subarray (or window), and sumOfCurrentWindow stores the sum of this window. Initialize all of them with 0.\n",
    "\n",
    "2. Create another variable `res` to store the answer to the problem. We initialize it to a large integer value.\n",
    "\n",
    "3. We iterate over nums using right starting from right = 0 till nums.length - 1 incrementing right by 1 after each iteration. We perform the following inside this iteration:\n",
    "- Add element at index right to the current window, incrementing `sumOfCurrentWindow` by `nums[right]`.\n",
    "- We check if sumOfCurrentWindow >= target. If so, we have a subarray that satisfies our condition. As a result, we attempt to update our answer variable with the length of this subarray. We perform `res = min(res, right - left + 1)`. We then remove the first element from this window by reducing sumOfCurrentWindow by nums[left] and incrementing left by 1. This step is repeated in an inner loop as long as sumOfCurrentWindow >= target.\n",
    "- The current window's sum is now smaller than target. We need to add more elements to it. As a result, right is incremented by 1.\n",
    "\n",
    "4. return res\n",
    "\n",
    "### Complexity\n",
    "Time Complexity: O(n) -> The reason it is still O(n) is because the right pointer right can move n times and the left pointer left can move also n times in total. The inner loop is not running n times for each iteration of the outer loop. A sliding window guarantees a maximum of 2n window iterations. This is what is referred to as amortized analysis - even though the worst case for an iteration inside the for loop is O(n), it averages out to O(1) when you consider the entire runtime of the algorithm.  \n",
    "Space Complexity: O(1)"
   ]
  },
  {
   "cell_type": "code",
   "execution_count": null,
   "id": "65031df6",
   "metadata": {
    "vscode": {
     "languageId": "cpp"
    }
   },
   "outputs": [],
   "source": [
    "class Solution {\n",
    "public:\n",
    "    int minSubArrayLen(int target, vector<int>& nums) {\n",
    "        int left = 0, right = 0, sumOfCurrentWindow = 0;\n",
    "        int res = INT_MAX;\n",
    "\n",
    "        for(right = 0; right < nums.size(); right++) {\n",
    "            sumOfCurrentWindow += nums[right];\n",
    "\n",
    "            while (sumOfCurrentWindow >= target) {\n",
    "                res = min(res, right - left + 1);\n",
    "                sumOfCurrentWindow -= nums[left];\n",
    "                left++;\n",
    "            }\n",
    "        }\n",
    "\n",
    "        return res == INT_MAX ? 0 : res;\n",
    "    }\n",
    "};"
   ]
  },
  {
   "cell_type": "code",
   "execution_count": null,
   "id": "4b0f9b45",
   "metadata": {},
   "outputs": [],
   "source": [
    "from typing import List\n",
    "\n",
    "class Solution:\n",
    "    def minSubArrayLen(self, target: int, nums: List[int]) -> int:\n",
    "        left = 0\n",
    "        right = 0\n",
    "        sumOfCurrentWindow = 0\n",
    "        res = float('inf')\n",
    "\n",
    "        for right in range(0, len(nums)):\n",
    "            sumOfCurrentWindow += nums[right]\n",
    "\n",
    "            while sumOfCurrentWindow >= target:\n",
    "                res = min(res, right - left + 1)\n",
    "                sumOfCurrentWindow -= nums[left]\n",
    "                left += 1\n",
    "\n",
    "        return res if res != float('inf') else 0"
   ]
  },
  {
   "cell_type": "code",
   "execution_count": null,
   "id": "3cdc10af",
   "metadata": {
    "vscode": {
     "languageId": "java"
    }
   },
   "outputs": [],
   "source": [
    "class Solution {\n",
    "    public int minSubArrayLen(int target, int[] nums) {\n",
    "        int left = 0, right = 0, sumOfCurrentWindow = 0;\n",
    "        int res = Integer.MAX_VALUE;\n",
    "\n",
    "        for(right = 0; right < nums.length; right++) {\n",
    "            sumOfCurrentWindow += nums[right];\n",
    "\n",
    "            while (sumOfCurrentWindow >= target) {\n",
    "                res = Math.min(res, right - left + 1);\n",
    "                sumOfCurrentWindow -= nums[left++];\n",
    "            }\n",
    "        }\n",
    "\n",
    "        return res == Integer.MAX_VALUE ? 0 : res;\n",
    "    }\n",
    "}"
   ]
  }
 ],
 "metadata": {
  "language_info": {
   "name": "python"
  }
 },
 "nbformat": 4,
 "nbformat_minor": 5
}
