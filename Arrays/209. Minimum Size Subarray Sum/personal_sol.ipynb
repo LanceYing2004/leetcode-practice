{
 "cells": [
  {
   "cell_type": "markdown",
   "id": "21491c3d",
   "metadata": {},
   "source": [
    "## Problem\n",
    "Given an array of positive integers nums and a positive integer target, return the minimal length of a subarray whose sum is greater than or equal to target. If there is no such subarray, return 0 instead.\n",
    "\n",
    "Example 1:\n",
    "\n",
    "Input: target = 7, nums = [2,3,1,2,4,3]  \n",
    "Output: 2  \n",
    "Explanation: The subarray [4,3] has the minimal length under the problem constraint.\n",
    "\n",
    "\n",
    "Example 2:\n",
    "\n",
    "Input: target = 4, nums = [1,4,4]  \n",
    "Output: 1  \n",
    "\n",
    "\n",
    "Example 3:\n",
    "\n",
    "Input: target = 11, nums = [1,1,1,1,1,1,1,1]  \n",
    "Output: 0\n",
    " \n",
    "\n",
    "Constraints:\n",
    "\n",
    "- 1 <= target <= 10<sup>9</sup>\n",
    "- 1 <= nums.length <= 10<sup>5</sup>\n",
    "- 1 <= nums[i] <= 10<sup>4</sup>\n"
   ]
  },
  {
   "cell_type": "code",
   "execution_count": null,
   "id": "28ab42ba",
   "metadata": {
    "vscode": {
     "languageId": "cpp"
    }
   },
   "outputs": [],
   "source": [
    "class Solution {\n",
    "public:\n",
    "    int minSubArrayLen(int target, vector<int>& nums) {\n",
    "        int max = 0;\n",
    "        int curr_max = 0;\n",
    "        int min_count = nums.size();\n",
    "        int count = 0;\n",
    "        int left = 0;\n",
    "        for (int i = 0; i < nums.size(); i++) {\n",
    "            max += nums[i];\n",
    "            curr_max += nums[i];\n",
    "            count++;\n",
    "\n",
    "            while (curr_max >= target) {\n",
    "                min_count = min(min_count, count);\n",
    "\n",
    "\n",
    "                curr_max -= nums[left];\n",
    "                count--;\n",
    "                left++;\n",
    "\n",
    "            }\n",
    "\n",
    "        }\n",
    "\n",
    "        if (max < target) {\n",
    "            min_count = 0;\n",
    "        }\n",
    "        return min_count;\n",
    "    }\n",
    "};"
   ]
  },
  {
   "cell_type": "code",
   "execution_count": null,
   "id": "29326b05",
   "metadata": {},
   "outputs": [],
   "source": [
    "from typing import List\n",
    "\n",
    "class Solution:\n",
    "    def minSubArrayLen(self, target: int, nums: List[int]) -> int:\n",
    "        left = 0\n",
    "        right = 0\n",
    "        curr_sum = 0\n",
    "        result = 100000\n",
    "        total_sum = 0\n",
    "\n",
    "        for i in range (0, len(nums)):\n",
    "            curr_sum += nums[i]\n",
    "            total_sum += nums[i]\n",
    "            while curr_sum >= target:\n",
    "                result = min(result, right - left + 1)\n",
    "                curr_sum -= nums[left]\n",
    "                left += 1\n",
    "\n",
    "            right += 1\n",
    "        if total_sum < target:\n",
    "            result = 0\n",
    "        \n",
    "        return result"
   ]
  }
 ],
 "metadata": {
  "language_info": {
   "name": "python"
  }
 },
 "nbformat": 4,
 "nbformat_minor": 5
}
