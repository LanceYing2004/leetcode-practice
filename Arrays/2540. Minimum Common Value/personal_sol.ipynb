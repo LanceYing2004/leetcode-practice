{
 "cells": [
  {
   "cell_type": "markdown",
   "id": "38a5bc4f",
   "metadata": {},
   "source": [
    "## Problem\n",
    "Given two integer arrays nums1 and nums2, sorted in non-decreasing order, return the minimum integer common to both arrays. If there is no common integer amongst nums1 and nums2, return -1.\n",
    "\n",
    "Note that an integer is said to be common to nums1 and nums2 if both arrays have at least one occurrence of that integer.\n",
    "\n",
    "**Example 1:**  \n",
    "Input: nums1 = [1,2,3], nums2 = [2,4]  \n",
    "Output: 2  \n",
    "Explanation: The smallest element common to both arrays is 2, so we return 2.  \n",
    "\n",
    "**Example 2:**  \n",
    "Input: nums1 = [1,2,3,6], nums2 = [2,3,4,5]  \n",
    "Output: 2  \n",
    "Explanation: There are two common elements in the array 2 and 3 out of which 2 is the smallest, so 2 is returned.  \n",
    "\n",
    "**Constraints:**  \n",
    "1 <= nums1.length, nums2.length <= 10<sup>5</sup>  \n",
    "1 <= nums1[i], nums2[j] <= 10<sup>9</sup>  \n",
    "Both nums1 and nums2 are sorted in non-decreasing order."
   ]
  },
  {
   "cell_type": "markdown",
   "id": "00e26ef1",
   "metadata": {},
   "source": [
    "### Intuition\n",
    "Use the two pointer approach. Set up 1 pointer on each array, and increment it until both pointers reached its equal value. That is, if nums[ptr1] < nums[ptr2], then increment ptr2, vise versa."
   ]
  },
  {
   "cell_type": "code",
   "execution_count": null,
   "id": "2ce3b4e1",
   "metadata": {
    "vscode": {
     "languageId": "cpp"
    }
   },
   "outputs": [],
   "source": [
    "class Solution {\n",
    "public:\n",
    "    int getCommon(vector<int>& nums1, vector<int>& nums2) {\n",
    "        int nums1_ptr = 0;\n",
    "        int nums2_ptr = 0;\n",
    "        while (nums1_ptr < nums1.size() && nums2_ptr < nums2.size()) {\n",
    "            if (nums1[nums1_ptr] == nums2[nums2_ptr]) {\n",
    "                return nums1[nums1_ptr];\n",
    "            } else if (nums1[nums1_ptr] < nums2[nums2_ptr]) {\n",
    "                nums1_ptr++;\n",
    "            } else {\n",
    "                nums2_ptr++;\n",
    "            }\n",
    "        }\n",
    "        return -1;\n",
    "    }\n",
    "};"
   ]
  },
  {
   "cell_type": "code",
   "execution_count": null,
   "id": "f1ab8e0d",
   "metadata": {},
   "outputs": [],
   "source": [
    "from typing import List\n",
    "\n",
    "class Solution:\n",
    "    def getCommon(self, nums1: List[int], nums2: List[int]) -> int:\n",
    "        first = 0\n",
    "        second = 0\n",
    "        while (first < len(nums1) and second < len(nums2)):\n",
    "            if (nums1[first] < nums2[second]):\n",
    "                first += 1\n",
    "            elif (nums1[first] > nums2[second]):\n",
    "                second += 1\n",
    "            else:\n",
    "                return nums1[first]\n",
    "        return -1\n",
    "        "
   ]
  }
 ],
 "metadata": {
  "language_info": {
   "name": "python"
  }
 },
 "nbformat": 4,
 "nbformat_minor": 5
}
