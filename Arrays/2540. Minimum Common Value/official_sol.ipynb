{
 "cells": [
  {
   "cell_type": "markdown",
   "id": "507b0452",
   "metadata": {},
   "source": [
    "## Problem\n",
    "Given two integer arrays nums1 and nums2, sorted in non-decreasing order, return the minimum integer common to both arrays. If there is no common integer amongst nums1 and nums2, return -1.\n",
    "\n",
    "Note that an integer is said to be common to nums1 and nums2 if both arrays have at least one occurrence of that integer.\n",
    "\n",
    "**Example 1:**  \n",
    "Input: nums1 = [1,2,3], nums2 = [2,4]  \n",
    "Output: 2  \n",
    "Explanation: The smallest element common to both arrays is 2, so we return 2.  \n",
    "\n",
    "**Example 2:**  \n",
    "Input: nums1 = [1,2,3,6], nums2 = [2,3,4,5]  \n",
    "Output: 2  \n",
    "Explanation: There are two common elements in the array 2 and 3 out of which 2 is the smallest, so 2 is returned.  \n",
    "\n",
    "**Constraints:**  \n",
    "1 <= nums1.length, nums2.length <= 10<sup>5</sup>  \n",
    "1 <= nums1[i], nums2[j] <= 10<sup>9</sup>  \n",
    "Both nums1 and nums2 are sorted in non-decreasing order."
   ]
  },
  {
   "cell_type": "markdown",
   "id": "fc17ffdb",
   "metadata": {},
   "source": [
    "## Approach 1: Hash Set\n",
    "key: instead of searching through an array to find a value, we could look up an element in constant time. Hash tables are a data structure that facilitate constant time lookups.  \n",
    "\n",
    "There are two main kinds of hash tables: hash maps, which store (key, value) pairs, and hash sets, which store unique values.\n",
    "\n",
    "In this problem, it's better to use hash sets, because we only concerned about whether the element exists.\n",
    "\n",
    "Add the elements in `nums1` to hash set `set1`, and then loop through `nums2` and check whether each element is in `set1`. Since both array is in sorted order, the return value would be minimum. \n",
    "\n",
    "### Algorithm\n",
    "1. Initialize a set set1 and add the elements from nums1.\n",
    "2. For each num in nums2:\n",
    "- If num is in set1, return num. We found a common element. Since nums2 is sorted in ascending order, the first common element is the minimum common element.\n",
    "3. Return -1 if there are no common elements.\n",
    "\n",
    "### Complexity\n",
    "Time Complexity: O(n + m). Creating set 1 cost O(n), search each element in nums 2. Searching for an element in a hash set takes O(1) on average, so the time complexity of this step is O(m).  \n",
    "Space Complexity: O(n). Hash set is required."
   ]
  },
  {
   "cell_type": "code",
   "execution_count": null,
   "id": "055ac1cd",
   "metadata": {
    "vscode": {
     "languageId": "cpp"
    }
   },
   "outputs": [],
   "source": [
    "class Solution {\n",
    "public:\n",
    "    int getCommon(vector<int>& nums1, vector<int>& nums2) {\n",
    "        // Add the elements from nums1 to set1\n",
    "        unordered_set<int> set1(nums1.begin(), nums1.end());\n",
    "\n",
    "        // Search for each element of nums2 in set1\n",
    "        // Return the first common element found\n",
    "        for (int num : nums2) {\n",
    "            if (set1.contains(num)) {\n",
    "                return num;\n",
    "            }\n",
    "        }\n",
    "\n",
    "        // Return -1 if there are no common elements\n",
    "        return -1;\n",
    "    }\n",
    "};"
   ]
  },
  {
   "cell_type": "code",
   "execution_count": null,
   "id": "890d66a3",
   "metadata": {},
   "outputs": [],
   "source": [
    "from typing import List\n",
    "\n",
    "class Solution:\n",
    "    def getCommon(self, nums1: List[int], nums2: List[int]) -> int:\n",
    "        # Add the elements from nums1 to set1\n",
    "        set1 = set(nums1)\n",
    "\n",
    "        # Search for each element of nums2 in set1\n",
    "        # Return the first common element found\n",
    "        for num in nums2:\n",
    "            if num in set1:\n",
    "                return num\n",
    "\n",
    "        # Return -1 if there are no common elements\n",
    "        return -1"
   ]
  },
  {
   "cell_type": "code",
   "execution_count": null,
   "id": "21b37f4d",
   "metadata": {
    "vscode": {
     "languageId": "java"
    }
   },
   "outputs": [],
   "source": [
    "public class Solution {\n",
    "    public int getCommon(int[] nums1, int[] nums2) {\n",
    "        Set<Integer> set1 = new HashSet<>();\n",
    "\n",
    "        // Add the elements from nums1 to set1\n",
    "        for (int num : nums1) {\n",
    "            set1.add(num);\n",
    "        }\n",
    "\n",
    "        // Search for each element of nums2 in set1\n",
    "        // Return the first common element found\n",
    "        for (int num : nums2) {\n",
    "            if (set1.contains(num)) {\n",
    "                return num;\n",
    "            }\n",
    "        }\n",
    "\n",
    "        // Return -1 if there are no common elements\n",
    "        return -1;\n",
    "    }\n",
    "}"
   ]
  },
  {
   "cell_type": "markdown",
   "id": "955896bb",
   "metadata": {},
   "source": [
    "Note: Given two sets, their intersection is all of their common elements. Another approach to solving this problem would be to create sets out of nums1 and nums2, then find the minimum value of the intersection. However not all languages support built in set functions."
   ]
  },
  {
   "cell_type": "code",
   "execution_count": null,
   "id": "156ae13a",
   "metadata": {},
   "outputs": [],
   "source": [
    "class Solution:\n",
    "    def getCommon(self, nums1: List[int], nums2: List[int]) -> int:\n",
    "        set1 = set(nums1)\n",
    "        set2 = set(nums2)\n",
    "        common = set1.intersection(set2)\n",
    "\n",
    "        if common:\n",
    "            return min(common)\n",
    "        else: \n",
    "            return -1"
   ]
  },
  {
   "cell_type": "markdown",
   "id": "00ccebed",
   "metadata": {},
   "source": [
    "## Approach 2: 2 pointers\n",
    "\n",
    "### Intuition\n",
    "Notice that since the arrays are sorted, and our objective is to find the minimum common value, the first common value we find when traversing both arrays left to right is the minimum common value.  \n",
    "\n",
    "We can use two pointers to traverse both arrays simultaneously without a nested loop. `first` is the \n",
    "\n",
    "During each iteration, we compare the values of nums1[first] and nums2[second]. There are three possibilities.\n",
    "1. The elements are equal. We have found a common value, and we return it.\n",
    "2. nums1[first] < nums2[second]. Because nums2 is sorted, every element after second will also be greater than nums1[first]. There is no way an element before nums2[second] equal to nums1[first]. However, there is a chance that an element in nums1 after first will be equal to nums2[second]. Thus, we should increment first.\n",
    "3. nums1[first] > nums2[second]. The logic works the other way visa versa. We should increment second.\n",
    "\n",
    "How do we know this approach will consistently provide the correct solution?\n",
    "\n",
    "We always increment the pointer which points to the lower value. This means we will process all the elements from both arrays in ascending order.\n",
    "\n",
    "Our algorithm stops in three cases:\n",
    "1. A common element is found: it must be the minimum common value because elements are processed in order.\n",
    "2. Both pointers reach the end of their array: all elements were checked, and there were no common values.\n",
    "3. One pointer reaches the end of its array, and the element it points to is less than the current element in the other array: all remaining elements in the other array are larger than this element, so there are no common elements.\n",
    "\n",
    "### Algorithm\n",
    "1. Initialize two variables: first, which will store the position in nums1, and second, which will store the position in nums2 to 0, the starting index.\n",
    "2. Iterate through nums1 and nums2 while first is less than the size of nums1 and second is less than the size of nums2:\n",
    "- If nums1[first] is less than nums2[second], increment first by 1 because we need a larger value from nums1 to match the value at nums2[second].\n",
    "- If nums1[first] is greater than nums2[second], increment second by 1 because we need a larger value from nums2 to match the value at nums1[first].\n",
    "- Otherwise, nums1[first] must equal nums2[second], so return the value of nums1[first]. We have found the minimum common value.\n",
    "3. Return -1 if the loop completes without returning an answer. This means there is no common value between nums1 and nums2.\n",
    "\n",
    "### Complexity\n",
    "Time Complexity: O(n + m) -> We iterate through nums1 and nums2 using two pointers. On each iteration of the loop, one of the pointers is incremented, but not both. Each pointer can be incremented as many times as n or m, respectively, meaning we will iterate at most n+m times.  \n",
    "Space Complexity: O(1)"
   ]
  },
  {
   "cell_type": "code",
   "execution_count": null,
   "id": "a96d7ab3",
   "metadata": {
    "vscode": {
     "languageId": "cpp"
    }
   },
   "outputs": [],
   "source": [
    "class Solution {\n",
    "public:\n",
    "    int getCommon(vector<int>& nums1, vector<int>& nums2) {\n",
    "        int first = 0;\n",
    "        int second = 0;\n",
    "\n",
    "        // Traverse through both arrays with two pointers\n",
    "        // Increment the pointer with a smaller value at that index\n",
    "        // Return the first common element found\n",
    "        while (first < nums1.size() && second < nums2.size()) {\n",
    "            if (nums1[first] < nums2[second]) {\n",
    "                first++;\n",
    "            } else if (nums1[first] > nums2[second]) {\n",
    "                second++;\n",
    "            } else {\n",
    "                return nums1[first];\n",
    "            }\n",
    "        }\n",
    "\n",
    "        // Return -1 if there are no common elements\n",
    "        return -1;\n",
    "    }\n",
    "};"
   ]
  },
  {
   "cell_type": "code",
   "execution_count": null,
   "id": "ff0ffec0",
   "metadata": {},
   "outputs": [],
   "source": [
    "class Solution:\n",
    "    def getCommon(self, nums1, nums2):\n",
    "        first = 0\n",
    "        second = 0\n",
    "\n",
    "        # Traverse through both arrays with two pointers\n",
    "        # Increment the pointer with a smaller value at that index\n",
    "        # Return the first common element found\n",
    "        while first < len(nums1) and second < len(nums2):\n",
    "            if nums1[first] < nums2[second]:\n",
    "                first += 1\n",
    "            elif nums1[first] > nums2[second]:\n",
    "                second += 1\n",
    "            else:\n",
    "                return nums1[first]\n",
    "\n",
    "        # Return -1 if there are no common elements\n",
    "        return -1"
   ]
  },
  {
   "cell_type": "code",
   "execution_count": null,
   "id": "012e3d16",
   "metadata": {
    "vscode": {
     "languageId": "java"
    }
   },
   "outputs": [],
   "source": [
    "public class Solution {\n",
    "    public int getCommon(int[] nums1, int[] nums2) {\n",
    "        int first = 0;\n",
    "        int second = 0;\n",
    "\n",
    "        // Traverse through both arrays with two pointers\n",
    "        // Increment the pointer with a smaller value at that index\n",
    "        // Return the first common element found\n",
    "        while (first < nums1.length && second < nums2.length) {\n",
    "            if (nums1[first] < nums2[second]) {\n",
    "                first++;\n",
    "            } else if (nums1[first] > nums2[second]) {\n",
    "                second++;\n",
    "            } else {\n",
    "                return nums1[first];\n",
    "            }\n",
    "        }\n",
    "\n",
    "        // Return -1 if there are no common elements\n",
    "        return -1;\n",
    "    }\n",
    "}"
   ]
  }
 ],
 "metadata": {
  "language_info": {
   "name": "python"
  }
 },
 "nbformat": 4,
 "nbformat_minor": 5
}
