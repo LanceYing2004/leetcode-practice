{
 "cells": [
  {
   "cell_type": "markdown",
   "id": "927c58a7",
   "metadata": {},
   "source": [
    "# 2. Sliding Window\n",
    "- Arrays and strings are iteratable with ordered elements"
   ]
  },
  {
   "cell_type": "markdown",
   "id": "ce0d9bef",
   "metadata": {},
   "source": [
    "**Subarray:** Is a contiguous section of the array.\n",
    "e.g. `[1, 2, 3, 4]`\n",
    "- subarray with length 1: `[1], [2], [3], [4]`\n",
    "- subarray with length 2: `[1, 2], [2, 3], [3, 4]`\n",
    "- subarray with length 3: `[1, 2, 3], [2, 3, 4]`\n",
    "- subarray with length 4: `[1, 2, 3, 4]`\n",
    "\n",
    "Look out for valid subarry:\n",
    "- **Attribute of subarray (constant):** e.g. sum, number of uniq elements, frequency of element etc.\n",
    "- **numeric restriction of subarray:** e.g. sum less or equals than 10\n",
    "\n",
    "Idea: change the length of the window\n",
    "\n",
    "Complexity: at most 2n, therefore O(n)"
   ]
  },
  {
   "cell_type": "code",
   "execution_count": null,
   "id": "0c758288",
   "metadata": {
    "vscode": {
     "languageId": "plaintext"
    }
   },
   "outputs": [],
   "source": [
    "function fn(nums, k):\n",
    "    left = 0\n",
    "    curr = 0\n",
    "    answer = 0\n",
    "    for (int right = 0; right < nums.length; right++):\n",
    "        curr += nums[right]\n",
    "        while (curr > k):\n",
    "            curr -= nums[left]\n",
    "            left++\n",
    "\n",
    "        answer = max(answer, right - left + 1)\n",
    "\n",
    "    return answer"
   ]
  },
  {
   "cell_type": "code",
   "execution_count": null,
   "id": "0a6e407e",
   "metadata": {
    "vscode": {
     "languageId": "plaintext"
    }
   },
   "outputs": [],
   "source": [
    "function fn(arr):\n",
    "    left = 0\n",
    "    for (int right = 0; right < arr.length; right++):\n",
    "        Do some logic to \"add\" element at arr[right] to window\n",
    "\n",
    "        while WINDOW_IS_INVALID:\n",
    "            Do some logic to \"remove\" element at arr[left] from window\n",
    "            left++\n",
    "\n",
    "        Do some logic to update the answer"
   ]
  },
  {
   "cell_type": "markdown",
   "id": "eb4212af",
   "metadata": {},
   "source": [
    "### Example 1:\n",
    "Given an array of positive integers nums and an integer k, find the length of the longest subarray whose sum is less than or equal to k. This is the problem we have been talking about above. We will now formally solve it."
   ]
  },
  {
   "cell_type": "code",
   "execution_count": null,
   "id": "98f8cf82",
   "metadata": {
    "vscode": {
     "languageId": "cpp"
    }
   },
   "outputs": [],
   "source": [
    "int findLength(vector<int>& nums, int k) {\n",
    "    int left = 0, cur = 0, ans = 0;\n",
    "    for (int right = 0; right < nums.length(); right++) {\n",
    "        curr += nums[right];\n",
    "        while (curr >= k) {\n",
    "            curr -= nums[left];\n",
    "            left++\n",
    "        }\n",
    "        // update max for every iteration:\n",
    "        ans = max(ans, right - left + 1);\n",
    "    }\n",
    "    return ans;\n",
    "}\n",
    "\n",
    "// Complexity: O(N), since all work done inside the for loop is amortized to O(1), where \n",
    "// Memory: O(1)"
   ]
  },
  {
   "cell_type": "code",
   "execution_count": null,
   "id": "e1224a1a",
   "metadata": {},
   "outputs": [],
   "source": [
    "def find_length(nums, k):\n",
    "    left = curr = ans = 0\n",
    "    for right in range (len(nums)):\n",
    "        curr += nums[right]\n",
    "        while (curr >= k):\n",
    "            curr -= nums[left]\n",
    "            left += 1\n",
    "        max(ans, right - left + 1)\n",
    "    return ans\n"
   ]
  },
  {
   "cell_type": "markdown",
   "id": "5ca9e82b",
   "metadata": {},
   "source": [
    "### Example 2:\n",
    "You are given a binary string s (a string containing only \"0\" and \"1\"). You may choose up to one \"0\" and flip it to a \"1\". What is the length of the longest substring achievable that contains only \"1\"?\n",
    "\n",
    "For example, given s = \"1101100111\", the answer is 5. If you perform the flip at index 2, the string becomes 1111100111."
   ]
  },
  {
   "cell_type": "markdown",
   "id": "699522e3",
   "metadata": {},
   "source": [
    "**key:** \"what is the longest substring that contains at most one \"0\"?\""
   ]
  },
  {
   "cell_type": "code",
   "execution_count": null,
   "id": "74c8384e",
   "metadata": {
    "vscode": {
     "languageId": "cpp"
    }
   },
   "outputs": [],
   "source": [
    "int findLength(string s) {\n",
    "    int left = 0, count = 0, result = 0;\n",
    "    for (int right = 0; right < s.size(); right++) {\n",
    "        if (s[right] == '0') {\n",
    "            count++;\n",
    "        }\n",
    "        while (count >= 1) {\n",
    "            if (s[left] == '0') {\n",
    "                count--;\n",
    "            }\n",
    "            left++;\n",
    "        }\n",
    "        result = max(result, right - left + 1);\n",
    "    }\n",
    "    return result;\n",
    "}\n",
    "\n",
    "// Complexity: O(n)\n",
    "// Memory: O(1)"
   ]
  },
  {
   "cell_type": "code",
   "execution_count": null,
   "id": "41793205",
   "metadata": {},
   "outputs": [],
   "source": [
    "def find_length(s):\n",
    "    left = count = ans = 0\n",
    "    for right in range (len(s)):\n",
    "        if (s[right] == '0'):\n",
    "            count += 1\n",
    "        while count >= 1:\n",
    "            if (s[left] == '0'):\n",
    "                count -= 1\n",
    "            left += 1\n",
    "        ans = max(ans, right - left + 1)\n",
    "    return ans\n",
    "    "
   ]
  },
  {
   "cell_type": "markdown",
   "id": "112b84df",
   "metadata": {},
   "source": [
    "### Example 3: Q713 Subarray Product Less Than K.\n",
    "\n",
    "Given an array of positive integers nums and an integer k, return the number of subarrays where the product of all the elements in the subarray is strictly less than k.\n",
    "\n",
    "For example, given the input nums = [10, 5, 2, 6], k = 100, the answer is 8. The subarrays with products less than k are:\n",
    "\n",
    "[10], [5], [2], [6], [10, 5], [5, 2], [2, 6], [5, 2, 6]"
   ]
  },
  {
   "cell_type": "code",
   "execution_count": null,
   "id": "927e144d",
   "metadata": {
    "vscode": {
     "languageId": "cpp"
    }
   },
   "outputs": [],
   "source": [
    "class Solution {\n",
    "    public:\n",
    "        int numSubarrayProductLessThanK(vector<int>& nums, int k) {\n",
    "            // special case when k <= 1, there couldn't exist any windows. So return 0\n",
    "            // no solution when the product < 1 when given numbers are starting from 1\n",
    "            if (k <= 1) {\n",
    "                return 0;\n",
    "            }\n",
    "\n",
    "            int left = 0, count = 1, result = 0;\n",
    "            int a = 0;\n",
    "            for (int right = 0; right < nums.size(); right++) {\n",
    "                count *= nums[right];\n",
    "                result += (right - left + 1);\n",
    "                while (count >= k) {\n",
    "                    count /= nums[left];\n",
    "                    left++;\n",
    "                }\n",
    "\n",
    "            }\n",
    "            return result;\n",
    "        }\n",
    "};"
   ]
  },
  {
   "cell_type": "code",
   "execution_count": null,
   "id": "527a6f10",
   "metadata": {
    "vscode": {
     "languageId": "cpp"
    }
   },
   "outputs": [],
   "source": [
    "class Solution {\n",
    "    public:\n",
    "        int numSubarrayProductLessThanK(vector<int>& nums, int k) {\n",
    "            if (k == 0) return 0;\n",
    "            double logK = log(k);\n",
    "            int m = nums.size() + 1;\n",
    "            vector<double> logsPrefixSum(m);\n",
    "    \n",
    "            // Calculate prefix sum of logarithms of elements\n",
    "            for (int i = 0; i < nums.size(); i++) {\n",
    "                logsPrefixSum[i + 1] = logsPrefixSum[i] + log(nums[i]);\n",
    "            }\n",
    "    \n",
    "            int totalCount = 0;\n",
    "            // Calculate subarray count with product less than k\n",
    "            for (int currIdx = 0; currIdx < m; currIdx++) {\n",
    "                int low = currIdx + 1, high = m;\n",
    "                while (low < high) {\n",
    "                    int mid = low + (high - low) / 2;\n",
    "                    if (logsPrefixSum[mid] < logsPrefixSum[currIdx] + logK - 1e-9) {\n",
    "                        low = mid + 1;\n",
    "                    } else {\n",
    "                        high = mid;\n",
    "                    }\n",
    "                }\n",
    "                totalCount += low - currIdx - 1;\n",
    "            }\n",
    "            return totalCount;\n",
    "        }\n",
    "    };"
   ]
  },
  {
   "cell_type": "markdown",
   "id": "4e815534",
   "metadata": {},
   "source": [
    "### Fixed Window Size\n",
    "That is fixed size, means that keeping the window within some constraint and removed elements from the left when the constraint was violated\n",
    "\n",
    "Start by building the first window (from index 0 to k - 1). Once we have a window of size k, if we add an element at index i, we need to remove the element at index i - k. For example, k = 2 and you currently have elements at indices [0, 1]. Now, we add 2: [0, 1, 2]. To keep the window size at k = 2, we need to remove 2 - k = 0: [1, 2]."
   ]
  },
  {
   "cell_type": "code",
   "execution_count": null,
   "id": "7d3b1a10",
   "metadata": {
    "vscode": {
     "languageId": "plaintext"
    }
   },
   "outputs": [],
   "source": [
    "function fn(arr, k):\n",
    "    curr = some data to track the window\n",
    "\n",
    "    // build the first window\n",
    "    for (int i = 0; i < k; i++)\n",
    "        Do something with curr or other variables to build first window\n",
    "\n",
    "    ans = answer variable, probably equal to curr here depending on the problem\n",
    "    for (int i = k; i < arr.length; i++)\n",
    "        Add arr[i] to window\n",
    "        Remove arr[i - k] from window\n",
    "        Update ans\n",
    "\n",
    "    return ans"
   ]
  },
  {
   "cell_type": "markdown",
   "id": "c9113b43",
   "metadata": {},
   "source": [
    "### Example 4: \n",
    "Given an integer array nums and an integer k, find the sum of the subarray with the largest sum whose length is k."
   ]
  },
  {
   "cell_type": "code",
   "execution_count": null,
   "id": "2a1491a0",
   "metadata": {
    "vscode": {
     "languageId": "cpp"
    }
   },
   "outputs": [],
   "source": [
    "int findBestSubarray(vector<int>& nums, int k) {\n",
    "    int sum = 0;\n",
    "    for (int i = 0; i < k; i++) {\n",
    "        sum += nums[i];\n",
    "    }\n",
    "\n",
    "    int result = sum;\n",
    "\n",
    "    for (int i = k; i < nums.size() i++) {\n",
    "        sum += nums[i];\n",
    "        sum -= nums[i - k];\n",
    "        result = max(result, sum);\n",
    "    }\n",
    "    return result;\n",
    "}\n",
    "\n",
    "// Time Complexity: O(N)\n",
    "// Space Complexity: O(1)"
   ]
  },
  {
   "cell_type": "code",
   "execution_count": null,
   "id": "90502b0e",
   "metadata": {},
   "outputs": [],
   "source": [
    "def find_best_subarray(nums, k):\n",
    "    sum = 0\n",
    "    for i in range (k):\n",
    "        sum += nums[i]\n",
    "    result = sum\n",
    "    for i in range(k, len(nums)):\n",
    "        sum += nums[i] - nums[i - k]\n",
    "        max(result, sum)\n",
    "    return result"
   ]
  }
 ],
 "metadata": {
  "language_info": {
   "name": "python"
  }
 },
 "nbformat": 4,
 "nbformat_minor": 5
}
