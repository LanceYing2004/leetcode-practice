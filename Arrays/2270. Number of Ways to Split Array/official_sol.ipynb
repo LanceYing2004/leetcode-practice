{
 "cells": [
  {
   "cell_type": "markdown",
   "id": "29e38aad",
   "metadata": {},
   "source": [
    "### Problem\n",
    "You are given a 0-indexed integer array nums of length n.\n",
    "\n",
    "nums contains a valid split at index i if the following are true:\n",
    "\n",
    "The sum of the first i + 1 elements is greater than or equal to the sum of the last n - i - 1 elements.\n",
    "There is at least one element to the right of i. That is, 0 <= i < n - 1.\n",
    "Return the number of valid splits in nums.\n",
    "\n",
    "**Example 1:**\n",
    "\n",
    "Input: nums = [10,4,-8,7]  \n",
    "Output: 2  \n",
    "Explanation: \n",
    "There are three ways of splitting nums into two non-empty parts:\n",
    "- Split nums at index 0. Then, the first part is [10], and its sum is 10. The second part is [4,-8,7], and its sum is 3. Since 10 >= 3, i = 0 is a valid split.\n",
    "- Split nums at index 1. Then, the first part is [10,4], and its sum is 14. The second part is [-8,7], and its sum is -1. Since 14 >= -1, i = 1 is a valid split.\n",
    "- Split nums at index 2. Then, the first part is [10,4,-8], and its sum is 6. The second part is [7], and its sum is 7. Since 6 < 7, i = 2 is not a valid split.\n",
    "Thus, the number of valid splits in nums is 2.\n",
    "\n",
    "\n",
    "**Example 2:**\n",
    "\n",
    "Input: nums = [2,3,1,0]  \n",
    "Output: 2  \n",
    "Explanation: \n",
    "There are two valid splits in nums:\n",
    "- Split nums at index 1. Then, the first part is [2,3], and its sum is 5. The second part is [1,0], and its sum is 1. Since 5 >= 1, i = 1 is a valid split. \n",
    "- Split nums at index 2. Then, the first part is [2,3,1], and its sum is 6. The second part is [0], and its sum is 0. Since 6 >= 0, i = 2 is a valid split.\n",
    " \n",
    "\n",
    "Constraints:\n",
    "\n",
    "2 <= nums.length <= 10<sup>5</sup>  \n",
    "-10<sup>5</sup> <= nums[i] <= 10<sup>5</sup>"
   ]
  },
  {
   "cell_type": "markdown",
   "id": "59b10abd",
   "metadata": {},
   "source": [
    "### Intuition\n",
    "Our task is to count all splits in the array nums where the sum of values before the split is greater than or equal to the sum of values after the split.\n",
    "\n",
    "The main challenge in this problem lies in efficiently calculating the sums at each split. The brute force approach would involve looping over each value in each section of the split and adding them up to compare. This means determining whether a split is valid would take linear time, making the overall process take quadratic time. Such an approach would be too slow for our requirements.\n",
    "\n",
    "One way to determine the sum of any section of the array in constant time is by using a **prefix sum array**.\n",
    "\n",
    "Each index in the prefix sum array stores the sum of all elements in the array from the start up to that index. For example:\n",
    "\n",
    "If nums = [2, 3, 5], the prefix sum array would be [2, 5, 10].\n",
    "\n",
    "prefix[0] = 2 (sum of the first element).\n",
    "prefix[1] = 2 + 3 = 5 (sum of the first two elements).\n",
    "prefix[2] = 2 + 3 + 5 = 10 (sum of all three elements).\n",
    "Using the prefix sum array, we can calculate the sum of any section of the array in constant time. For example, the sum of elements between index start (exclusive) and end (inclusive) is simply prefix[end] - prefix[start]. This avoids recalculating sums repeatedly for different splits.\n",
    "\n",
    "Now that we understand prefix sums, let's create a prefix sum array prefSum. The first element will be nums[0] since no prefix exists for the 0th element. For each subsequent index, we'll add the current value in nums to the prefix sum of the previous element.\n",
    "\n",
    "With our prefix sum array ready, we can count the valid splits. We'll iterate through each possible split position. At each position, if the sum to the left of the split is greater than or equal to the sum to the right, we'll increment a counter. The final value of this counter will be our answer.\n",
    "\n",
    "A common question that arises is how to recognize when to use the prefix sum technique. Suppose you're walking along a path, and someone asks how far you are from a point you passed earlier. Instead of counting the steps back, you just subtract the distance from where you are now to the point in question. This is what the prefix sum does. By using it, we can answer multiple queries in constant time, which reduces the computation time from a multiplication factor of q to just addition for each query.\n",
    "\n",
    "To generalize, when a problem requires answering multiple queries, and each query involves some form of range aggregation where each aggregate builds on the previous one, the prefix sum is often a good fit, such as the sum of a subarray, the product of a range, counting from a range or finding averages."
   ]
  },
  {
   "cell_type": "markdown",
   "id": "049b11ab",
   "metadata": {},
   "source": [
    "### Algorithm\n",
    "Initialize:\n",
    "- a variable n to store the length of the input array nums.\n",
    "- an array prefSum of size n to store prefix sums, using long data type to handle large numbers.\n",
    "\n",
    "Set the first element of prefSum to the first element of nums, as the prefix sum of one element is the element itself.  \n",
    "Iterate from index 1 to n - 1 to build the prefix sum array:  \n",
    "- Add the current element to the previous prefix sum to get the current prefix sum.\n",
    "- Store this value in prefSum[i].\n",
    "\n",
    "Initialize a variable count to 0 to track the number of valid splits.  \n",
    "Iterate i from 0 to n - 2 to check each possible split position:  \n",
    "- Calculate leftSum as the prefix sum up to index i.\n",
    "- Calculate rightSum by subtracting the prefix sum up to index i from the total sum (which is stored in prefSum[n-1]).\n",
    "- If leftSum is greater than or equal to rightSum, increment count.\n",
    "\n",
    "Return the final value of count as the result."
   ]
  },
  {
   "cell_type": "markdown",
   "id": "d5eb0159",
   "metadata": {},
   "source": [
    "### Complexity\n",
    "**Time Complexity:** O(N)  \n",
    "The algorithm has two main loops. The first loop builds the prefix sum array in O(n) time. The second loop iterates through all possible split positions, also taking O(n) time. Since these operations are sequential, the total time complexity is O(n).\n",
    "\n",
    "**Space Complexity:** O(N)  \n",
    "The algorithm uses an additional array prefSum of size n to store the prefix sums. No other data structures that scale with input size are used. Therefore, the space complexity is O(n)."
   ]
  },
  {
   "cell_type": "code",
   "execution_count": null,
   "id": "c91a19a8",
   "metadata": {
    "vscode": {
     "languageId": "cpp"
    }
   },
   "outputs": [],
   "source": [
    "class Solution {\n",
    "public:\n",
    "    int waysToSplitArray(vector<int>& nums) {\n",
    "        int n = nums.size();\n",
    "        // Prefix sum array to store cumulative sums\n",
    "        vector<long long> prefSum(n);\n",
    "        prefSum[0] = nums[0];\n",
    "\n",
    "        // Build prefix sum array\n",
    "        for (int i = 1; i < n; i++) {\n",
    "            prefSum[i] = prefSum[i - 1] + nums[i];\n",
    "        }\n",
    "\n",
    "        int count = 0;\n",
    "        // Check each possible split position\n",
    "        for (int i = 0; i < n - 1; i++) {\n",
    "            // Sum of left part (0 to i)\n",
    "            long long leftSum = prefSum[i];\n",
    "            // Sum of right part (i+1 to n-1)\n",
    "            long long rightSum = prefSum[n - 1] - prefSum[i];\n",
    "\n",
    "            if (leftSum >= rightSum) {\n",
    "                count++;\n",
    "            }\n",
    "        }\n",
    "\n",
    "        return count;\n",
    "    }\n",
    "};"
   ]
  },
  {
   "cell_type": "code",
   "execution_count": null,
   "id": "7ed96a57",
   "metadata": {},
   "outputs": [],
   "source": [
    "class Solution:\n",
    "    def waysToSplitArray(self, nums: list[int]) -> int:\n",
    "        n = len(nums)\n",
    "        # Prefix sum array to store cumulative sums\n",
    "        pref_sum = [0] * n\n",
    "        pref_sum[0] = nums[0]\n",
    "\n",
    "        # Build prefix sum array\n",
    "        for i in range(1, n):\n",
    "            pref_sum[i] = pref_sum[i - 1] + nums[i]\n",
    "\n",
    "        # Check each possible split position\n",
    "        count = sum(\n",
    "            1 for i in range(n - 1) if pref_sum[i] >= pref_sum[-1] - pref_sum[i]\n",
    "        )\n",
    "\n",
    "        return count"
   ]
  }
 ],
 "metadata": {
  "language_info": {
   "name": "python"
  }
 },
 "nbformat": 4,
 "nbformat_minor": 5
}
