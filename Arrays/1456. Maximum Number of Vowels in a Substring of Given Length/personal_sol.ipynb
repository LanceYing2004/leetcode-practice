{
 "cells": [
  {
   "cell_type": "markdown",
   "id": "cc745f7a",
   "metadata": {},
   "source": [
    "## Problem\n",
    "Given a string s and an integer k, return the maximum number of vowel letters in any substring of s with length k.  \n",
    "Vowel letters in English are 'a', 'e', 'i', 'o', and 'u'.\n",
    "\n",
    "**Example 1:**  \n",
    "Input: s = \"abciiidef\", k = 3  \n",
    "Output: 3  \n",
    "Explanation: The substring \"iii\" contains 3 vowel letters.  \n",
    "\n",
    "**Example 2:**\n",
    "Input: s = \"aeiou\", k = 2  \n",
    "Output: 2  \n",
    "Explanation: Any substring of length 2 contains 2 vowels.  \n",
    "\n",
    "**Example 3:**\n",
    "Input: s = \"leetcode\", k = 3  \n",
    "Output: 2  \n",
    "Explanation: \"lee\", \"eet\" and \"ode\" contain 2 vowels.  \n",
    "\n",
    "**Constraints:**\n",
    "- 1 <= s.length <= 10<sup>5</sup>\n",
    "- s consists of lowercase English letters.\n",
    "- 1 <= k <= s.length"
   ]
  }
 ],
 "metadata": {
  "language_info": {
   "name": "python"
  }
 },
 "nbformat": 4,
 "nbformat_minor": 5
}
