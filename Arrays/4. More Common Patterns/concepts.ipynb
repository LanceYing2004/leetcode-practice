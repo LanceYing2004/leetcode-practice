{
 "cells": [
  {
   "cell_type": "markdown",
   "id": "3064ef16",
   "metadata": {},
   "source": [
    "Our 3 great weapons:\n",
    "- 2 pointers (used when a condition becomes invalid)\n",
    "- Sliding window (used when the \"radius\" stays the same)\n",
    "- Prefix sum (requires a additional array to contain additional info)"
   ]
  },
  {
   "cell_type": "markdown",
   "id": "fd1c5b84",
   "metadata": {},
   "source": [
    "## O(n) string building"
   ]
  },
  {
   "cell_type": "markdown",
   "id": "9ab592b1",
   "metadata": {},
   "source": [
    "Simple concatenation will result in an O(n<sup>2</sup>) time complexity if you are using a language where strings are immutable.  \n",
    "\n",
    "Let's say the final string is of length n and we build it one character at a time with concatenation. The operations needed at each step would be 1 + 2 + 3 + ... + n. This is the partial sum of this series, which leads to O(n<sup>2</sup>) operations."
   ]
  },
  {
   "cell_type": "markdown",
   "id": "04142d49",
   "metadata": {},
   "source": [
    "#### Python\n",
    "1. Declare a list\n",
    "2. When building the string, add the characters to the list. This is O(1) operation. Across n operations, this would be O(n) in total.\n",
    "3. Once finished, convert the list to a string using \"\".join(list). This is O(n).\n",
    "4. In total, it costs us O(n + n) = O(2n) = O(n)."
   ]
  },
  {
   "cell_type": "code",
   "execution_count": null,
   "id": "f39bec61",
   "metadata": {
    "vscode": {
     "languageId": "plaintext"
    }
   },
   "outputs": [],
   "source": [
    "def build_string(s):\n",
    "    arr = []\n",
    "    for c in s:\n",
    "        arr.append(c)\n",
    "\n",
    "    return \"\".join(arr)"
   ]
  },
  {
   "cell_type": "markdown",
   "id": "d7a444cf",
   "metadata": {
    "vscode": {
     "languageId": "plaintext"
    }
   },
   "source": [
    "#### JavaScript\n",
    "Same process as in Python, using the arr.join() method."
   ]
  },
  {
   "cell_type": "code",
   "execution_count": null,
   "id": "00c125dc",
   "metadata": {
    "vscode": {
     "languageId": "plaintext"
    }
   },
   "outputs": [],
   "source": [
    "let buildString = s => {\n",
    "    let arr = [];\n",
    "    for (let i = 0; i < s.length; i++) {\n",
    "        arr.push(s[i]);\n",
    "    }\n",
    "\n",
    "    return arr.join(\"\");\n",
    "};"
   ]
  },
  {
   "cell_type": "markdown",
   "id": "ceeb3dff",
   "metadata": {},
   "source": [
    "#### Java\n",
    "1. Use the StringBuilder Class\n",
    "2. When building the string, add the character to the list. This is O(1) per operation. Across n operations, it will cost O(n) in total.\n",
    "3. Once finished, convert the list to a string using StringBuilder.toString(). This is O(n).\n",
    "4. In total, it cost us O(n+n)=O(2n)=O(n)."
   ]
  },
  {
   "cell_type": "code",
   "execution_count": null,
   "id": "bfc4b519",
   "metadata": {
    "vscode": {
     "languageId": "plaintext"
    }
   },
   "outputs": [],
   "source": [
    "public string buildString(String s) {\n",
    "    StringBuilder sb = new StringBuilder();\n",
    "    for (int i = 0; i < s.length(); i++) {\n",
    "        sb.append(s.charAt(i));\n",
    "    }\n",
    "\n",
    "    return sb.toString();\n",
    "}"
   ]
  },
  {
   "cell_type": "markdown",
   "id": "4115f6a7",
   "metadata": {},
   "source": [
    "## Subarrays/substrings, subsequences, and subsets"
   ]
  },
  {
   "cell_type": "markdown",
   "id": "6516e100",
   "metadata": {},
   "source": [
    "If a problem has explicit constraints such as:\n",
    "\n",
    "- Sum greater than or less than k\n",
    "- Limits on what is contained, such as the maximum of k unique elements or no duplicates allowed\n",
    "\n",
    "And/or asks for:\n",
    "\n",
    "- Minimum or maximum length\n",
    "- Number of subarrays/substrings\n",
    "- Max or minimum sum\n",
    "\n",
    "Think about a sliding window.\n",
    "\n",
    "If a problem's input is an integer array and you find yourself needing to calculate multiple subarray sums, consider building a prefix sum.\n",
    "- The size of a subarray between i and j (inclusive) is j - i + 1. This is also the number of subarrays that end at j, starting from i or later."
   ]
  },
  {
   "cell_type": "markdown",
   "id": "f3ceaf11",
   "metadata": {},
   "source": [
    "### Subsequences\n",
    "A subsequence is a set of elements of an array/string that keeps the same relative order but doesn't need to be contiguous.  \n",
    "For example, subsequences of [1, 2, 3, 4] include: [1, 3], [4], [], [2, 3], but not [3, 2], [5], [4, 1].\n",
    "\n",
    "Use dynamic programming"
   ]
  },
  {
   "cell_type": "markdown",
   "id": "cda28fac",
   "metadata": {},
   "source": [
    "### Subsets\n",
    "A subset is any set of elements from the original array or string. The order doesn't matter and the elements don't need to be beside each other.  \n",
    "For example, given [1, 2, 3, 4], all of these are subsets: [3, 2], [4, 1, 2], [1]. Note: subsets that contain the same elements are usually considered the same, so [1, 2, 4] is the same subset as [4, 1, 2]."
   ]
  }
 ],
 "metadata": {
  "language_info": {
   "name": "python"
  }
 },
 "nbformat": 4,
 "nbformat_minor": 5
}
