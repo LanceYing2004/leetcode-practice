{
 "cells": [
  {
   "cell_type": "markdown",
   "id": "7037af72",
   "metadata": {},
   "source": [
    "## Problem\n",
    "Given a 0-indexed string word and a character ch, reverse the segment of word that starts at index 0 and ends at the index of the first occurrence of ch (inclusive). If the character ch does not exist in word, do nothing.\n",
    "\n",
    "For example, if word = \"abcdefd\" and ch = \"d\", then you should reverse the segment that starts at 0 and ends at 3 (inclusive). The resulting string will be \"dcbaefd\".\n",
    "Return the resulting string.\n",
    "\n",
    "**Example 1:**  \n",
    "Input: word = \"abcdefd\", ch = \"d\"  \n",
    "Output: \"dcbaefd\"  \n",
    "Explanation: The first occurrence of \"d\" is at index 3.   \n",
    "Reverse the part of word from 0 to 3 (inclusive), the resulting string is \"dcbaefd\".  \n",
    "\n",
    "**Example 2:**\n",
    "Input: word = \"xyxzxe\", ch = \"z\"  \n",
    "Output: \"zxyxxe\"  \n",
    "Explanation: The first and only occurrence of \"z\" is at index 3.  \n",
    "Reverse the part of word from 0 to 3 (inclusive), the resulting string is \"zxyxxe\".  \n",
    "\n",
    "**Example 3:**\n",
    "Input: word = \"abcd\", ch = \"z\"  \n",
    "Output: \"abcd\"  \n",
    "Explanation: \"z\" does not exist in word.  \n",
    "You should not do any reverse operation, the resulting string is \"abcd\".  \n",
    "\n",
    "**Constraints:**  \n",
    "1 <= word.length <= 250  \n",
    "`word` consists of lowercase English letters.  \n",
    "`ch` is a lowercase English letter.  "
   ]
  },
  {
   "cell_type": "markdown",
   "id": "b81aa310",
   "metadata": {},
   "source": [
    "### Intuition\n",
    "\n",
    "### Complexity\n",
    "Time Complexity: O(n)  \n",
    "Space Complexity: O(1)"
   ]
  },
  {
   "cell_type": "code",
   "execution_count": null,
   "id": "fce600b4",
   "metadata": {
    "vscode": {
     "languageId": "cpp"
    }
   },
   "outputs": [],
   "source": [
    "class Solution {\n",
    "public:\n",
    "    string reversePrefix(string word, char ch) {\n",
    "        int left = 0;\n",
    "        int right = 0;\n",
    "        for (int i = 0; i < word.size(); i++) {\n",
    "            if (word[i] == ch) {\n",
    "                right = i;\n",
    "                break;\n",
    "            }\n",
    "        }\n",
    "        while (left < right) {\n",
    "            swap(word[left], word[right]);\n",
    "            left++;\n",
    "            right--;\n",
    "        }\n",
    "        return word;\n",
    "    }\n",
    "};"
   ]
  },
  {
   "cell_type": "code",
   "execution_count": null,
   "id": "2c28f584",
   "metadata": {},
   "outputs": [],
   "source": [
    "class Solution:\n",
    "    def reversePrefix(self, word: str, ch: str) -> str:\n",
    "        result = list(word)\n",
    "        left = 0\n",
    "        right = -1\n",
    "\n",
    "        for i in range (len(word)):\n",
    "            if word[i] == ch:\n",
    "                right = i\n",
    "                break\n",
    "        while left < right:\n",
    "            result[left], result[right] = result[right], result[left]\n",
    "            left += 1\n",
    "            right -= 1\n",
    "        return \"\".join(result)\n",
    "        "
   ]
  }
 ],
 "metadata": {
  "language_info": {
   "name": "python"
  }
 },
 "nbformat": 4,
 "nbformat_minor": 5
}
