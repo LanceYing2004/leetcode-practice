{
 "cells": [
  {
   "cell_type": "markdown",
   "id": "8f2a40a1",
   "metadata": {},
   "source": [
    "## Problem\n",
    "Given a 0-indexed string word and a character ch, reverse the segment of word that starts at index 0 and ends at the index of the first occurrence of ch (inclusive). If the character ch does not exist in word, do nothing.\n",
    "\n",
    "For example, if word = \"abcdefd\" and ch = \"d\", then you should reverse the segment that starts at 0 and ends at 3 (inclusive). The resulting string will be \"dcbaefd\".\n",
    "Return the resulting string.\n",
    "\n",
    "**Example 1:**  \n",
    "Input: word = \"abcdefd\", ch = \"d\"  \n",
    "Output: \"dcbaefd\"  \n",
    "Explanation: The first occurrence of \"d\" is at index 3.   \n",
    "Reverse the part of word from 0 to 3 (inclusive), the resulting string is \"dcbaefd\".  \n",
    "\n",
    "**Example 2:**\n",
    "Input: word = \"xyxzxe\", ch = \"z\"  \n",
    "Output: \"zxyxxe\"  \n",
    "Explanation: The first and only occurrence of \"z\" is at index 3.  \n",
    "Reverse the part of word from 0 to 3 (inclusive), the resulting string is \"zxyxxe\".  \n",
    "\n",
    "**Example 3:**\n",
    "Input: word = \"abcd\", ch = \"z\"  \n",
    "Output: \"abcd\"  \n",
    "Explanation: \"z\" does not exist in word.  \n",
    "You should not do any reverse operation, the resulting string is \"abcd\".  \n",
    "\n",
    "**Constraints:**  \n",
    "1 <= word.length <= 250  \n",
    "`word` consists of lowercase English letters.  \n",
    "`ch` is a lowercase English letter.  "
   ]
  },
  {
   "cell_type": "markdown",
   "id": "0be208b7",
   "metadata": {},
   "source": [
    "When we reverse a string, the characters at the ends are swapped. Likewise, the characters one spot away from the ends are swapped.\n",
    "\n",
    "This reversal strategy can be performed in place, as demonstrated in this problem: 344 Reverse String. However, this problem differs from the one at hand since the input is provided as a character array instead of a string.\n",
    "\n",
    "We can utilize this strategy by initially adding the characters from word to result, where result is a list or array of characters.\n",
    "\n",
    "We iterate through result using right until it reaches the first occurrence of ch. If ch is not in word, we return word.\n",
    "\n",
    "Subsequently, we traverse through the prefix of result with two pointers, left pointing to the beginning of the prefix and right pointing to the end of the prefix, until they meet in the middle. During each iteration, we swap the values at the indices left and right, then progress each pointer one step towards each other.\n",
    "\n",
    "Finally, we return result and convert it to a string if necessary.\n",
    "\n",
    "### Algorithm\n",
    "1. Initialize a string or list result for building the string with the reversed prefix.\n",
    "2. Initialize a pointer left to 0.\n",
    "3. Use a for loop to iterate through result, using the iterator right:\n",
    "- If result[right] is equal to ch:\n",
    "  - While left is less than right, swap the characters of result at indices left and right, then increment left and decrement right.\n",
    "- After the loop, return result and convert it to a string if needed.\n",
    "4. If the loop completes without finding ch, return the original word."
   ]
  },
  {
   "cell_type": "code",
   "execution_count": null,
   "id": "5bfa9c39",
   "metadata": {
    "vscode": {
     "languageId": "cpp"
    }
   },
   "outputs": [],
   "source": [
    "class Solution {\n",
    "public:\n",
    "    string reversePrefix(string word, char ch) {\n",
    "        int left = 0;\n",
    "\n",
    "        for (int right = 0; right < word.length(); right++) {\n",
    "            // We found ch - reverse characters up to ch by swapping\n",
    "            if (word[right] == ch) {\n",
    "                while (left < right) {\n",
    "                    swap(word[right], word[left]);\n",
    "                    left++;\n",
    "                    right--;\n",
    "                }\n",
    "                return word;\n",
    "            }\n",
    "        }\n",
    "        return word;\n",
    "    }\n",
    "};"
   ]
  },
  {
   "cell_type": "code",
   "execution_count": null,
   "id": "569b24b7",
   "metadata": {},
   "outputs": [],
   "source": [
    "class Solution:\n",
    "    def reversePrefix(self, word: str, ch: str) -> str:\n",
    "        # Add characters to the result in the original order\n",
    "        result = list(word)\n",
    "        left = 0\n",
    "\n",
    "        for right in range(len(word)):\n",
    "            # We found ch - reverse characters up to ch by swapping\n",
    "            if result[right] == ch:\n",
    "                while left < right:\n",
    "                    result[right], result[left] = result[left], result[right]\n",
    "                    left += 1\n",
    "                    right -= 1\n",
    "                return \"\".join(result)\n",
    "        return word"
   ]
  },
  {
   "cell_type": "code",
   "execution_count": null,
   "id": "98cd3760",
   "metadata": {
    "vscode": {
     "languageId": "java"
    }
   },
   "outputs": [],
   "source": [
    "public class Solution {\n",
    "    public String reversePrefix(String word, char ch) {\n",
    "        // Add characters to the result in the original order\n",
    "        char[] result = word.toCharArray();\n",
    "        int left = 0;\n",
    "\n",
    "        for (int right = 0; right < word.length(); right++) {\n",
    "            // We found ch - reverse characters up to ch by swapping\n",
    "            if (result[right] == ch) {\n",
    "                while (left < right) {\n",
    "                    swap(result, left, right);\n",
    "                    left++;\n",
    "                    right--;\n",
    "                }\n",
    "                return new String(result);\n",
    "            }\n",
    "        }\n",
    "        return word;\n",
    "    }\n",
    "\n",
    "    private void swap(char[] characters, int index1, int index2) {\n",
    "        char temp = characters[index2];\n",
    "        characters[index2] = characters[index1];\n",
    "        characters[index1] = temp;\n",
    "    }\n",
    "}"
   ]
  }
 ],
 "metadata": {
  "language_info": {
   "name": "python"
  }
 },
 "nbformat": 4,
 "nbformat_minor": 5
}
