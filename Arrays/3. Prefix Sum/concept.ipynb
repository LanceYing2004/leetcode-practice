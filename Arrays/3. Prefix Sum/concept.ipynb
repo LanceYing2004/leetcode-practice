{
 "cells": [
  {
   "cell_type": "markdown",
   "id": "59dd7128",
   "metadata": {},
   "source": [
    "**Idea:** create an array prefix where prefix[i] is the sum of all elements up to the index i (inclusive).  \n",
    "**Goal:** Prefix sums allow us to find the sum of any subarray in O(1). Basically that is the (sum of [i] - sum of [i - j])  \n",
    "**Out of Bounds Prevension:** `prefix[j] - prefix[i] + nums[i]`"
   ]
  },
  {
   "cell_type": "code",
   "execution_count": null,
   "id": "147af0f8",
   "metadata": {
    "vscode": {
     "languageId": "plaintext"
    }
   },
   "outputs": [],
   "source": [
    "prefix = [nums[0]]\n",
    "for (int i = 1; i < nums.length; i++)\n",
    "    prefix.append(nums[i] + prefix[prefix.length - 1])"
   ]
  },
  {
   "cell_type": "markdown",
   "id": "5fa54960",
   "metadata": {},
   "source": [
    "Example 1: Given an integer array nums, an array queries where queries[i] = [x, y] and an integer limit, return a boolean array that represents the answer to each query. A query is true if the sum of the subarray from x to y is less than limit, or false otherwise.\n",
    "\n",
    "For example, given nums = [1, 6, 3, 2, 7, 2], queries = [[0, 3], [2, 5], [2, 4]], and limit = 13, the answer is [true, false, true]. For each query, the subarray sums are [12, 14, 12]."
   ]
  },
  {
   "cell_type": "code",
   "execution_count": null,
   "id": "a86900d6",
   "metadata": {
    "vscode": {
     "languageId": "cpp"
    }
   },
   "outputs": [],
   "source": [
    "vector<bool> answerQueries(vector<int>& nums, vector<vector<int>>& queries, int limit) {\n",
    "    vector<int> prefix;\n",
    "    prefix.push_back(nums[0]);\n",
    "\n",
    "    for (int i = 1; i < nums.size(); i++) {\n",
    "        prefix.push_back(nums[i] + prefix[prefix.size() - 1]);\n",
    "    }\n",
    "\n",
    "    vector<bool> result;\n",
    "    for (auto entries : queries) {\n",
    "        int x = entries[0];\n",
    "        int y = entries[1];\n",
    "        int curr = prefix[y] - prefix[x] + nums[x];\n",
    "        if (curr < limit) {\n",
    "            result.push_back(true);\n",
    "        } else {\n",
    "            result.push_back(false);\n",
    "        }\n",
    "    }\n",
    "    return result;\n",
    "}"
   ]
  },
  {
   "cell_type": "markdown",
   "id": "c8747d33",
   "metadata": {},
   "source": [
    "**Complexity:**  \n",
    "- Without the prefix sum, each query would take up to O(n), and with the total query length, that would be O(n * m)\n",
    "- With the prefix sum, each query would take O(1), and with the total query length, that would just be O(m). Additionally with the build up of prefix sum, that would be O(n + m)."
   ]
  },
  {
   "cell_type": "code",
   "execution_count": null,
   "id": "6e9a9e8c",
   "metadata": {},
   "outputs": [],
   "source": [
    "def answer_queries(nums, queries, limit):\n",
    "    prefix_sum = [nums[0]]\n",
    "    for i in range (1, len(nums)):\n",
    "        prefix_sum.append(nums[i] + prefix_sum[-1])\n",
    "\n",
    "    result = []\n",
    "    for x, y in range (len(queries)):\n",
    "        # x = queries[i][0]\n",
    "        # y = queries[i][i]\n",
    "        curr = prefix_sum[y] - prefix_sum[x] + nums[x]\n",
    "        result.append(curr < limit)\n",
    "    return result"
   ]
  }
 ],
 "metadata": {
  "language_info": {
   "name": "python"
  }
 },
 "nbformat": 4,
 "nbformat_minor": 5
}
