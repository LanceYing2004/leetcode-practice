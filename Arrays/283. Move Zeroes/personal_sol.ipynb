{
 "cells": [
  {
   "cell_type": "markdown",
   "id": "22a68479",
   "metadata": {},
   "source": [
    "## Problem\n",
    "Given an integer array nums, move all 0's to the end of it while maintaining the relative order of the non-zero elements.\n",
    "\n",
    "Note that you must do this in-place without making a copy of the array.\n",
    "\n",
    "**Example 1:**  \n",
    "Input: nums = [0,1,0,3,12]  \n",
    "Output: [1,3,12,0,0]  \n",
    "\n",
    "**Example 2:**  \n",
    "Input: nums = [0]  \n",
    "Output: [0]  \n",
    "\n",
    "**Constraints:**  \n",
    "1 <= nums.length <= 10<sup>4</sup>\n",
    "-2<sup>31</sup> <= nums[i] <= 2<sup>31</sup> - 1"
   ]
  },
  {
   "cell_type": "markdown",
   "id": "cdc856a8",
   "metadata": {},
   "source": [
    "### Intuition\n",
    "When if first saw the example 2, I realized that it is a special case. Basically, I'm using a variation of bubble sort, and move the 0 to the right side one by one.\n",
    "\n",
    "Firstly I used an approach of adding the location of all 0's to an array. But then I realized it didn't really necessary because all I need to keep track of is the index of the number.\n",
    "\n",
    "The final approach I used it to use first_zero to track which pointer should I land on (so swapping from there), and is there any 0's (is swapping necessary).\n",
    "\n",
    "The key point of my approach is to set the zero_count, a position counter to the first zero ever encountered. And then just swap from there."
   ]
  },
  {
   "cell_type": "code",
   "execution_count": null,
   "id": "3331a9b9",
   "metadata": {
    "vscode": {
     "languageId": "cpp"
    }
   },
   "outputs": [],
   "source": [
    "class Solution {\n",
    "public:\n",
    "    void moveZeroes(vector<int>& nums) {\n",
    "        if (nums.size() == 1) {\n",
    "            return;\n",
    "        }\n",
    "        bool first_zero = true;\n",
    "        bool zero_exist = false;\n",
    "        int zero_count = 0;\n",
    "        for (int i = 0; i < nums.size(); i++) {\n",
    "            if (nums[i] == 0) {\n",
    "                if (first_zero) {\n",
    "                    zero_count = i;\n",
    "                    first_zero = false;\n",
    "                    zero_exist = true;\n",
    "                }\n",
    "            } else {\n",
    "                if (zero_exist){\n",
    "                    swap(nums[i], nums[zero_count]);\n",
    "                    zero_count++;\n",
    "                }\n",
    "            }\n",
    "        }\n",
    "    }\n",
    "};"
   ]
  },
  {
   "cell_type": "markdown",
   "id": "a163822a",
   "metadata": {},
   "source": [
    "Here's a better on that I found, using my approach (varition of bubble sort) but simpler:"
   ]
  },
  {
   "cell_type": "code",
   "execution_count": null,
   "id": "e98bf120",
   "metadata": {
    "vscode": {
     "languageId": "cpp"
    }
   },
   "outputs": [],
   "source": [
    "class Solution {\n",
    "public:\n",
    "    void moveZeroes(vector<int>& nums) {\n",
    "        int l = 0;\n",
    "        for (int r = 0; r < nums.size(); r++) {\n",
    "            if (nums[r] != 0) {\n",
    "                swap(nums[r], nums[l]);\n",
    "                l++;\n",
    "            }\n",
    "        }\n",
    "\n",
    "    }\n",
    "};"
   ]
  },
  {
   "cell_type": "code",
   "execution_count": null,
   "id": "a14dd8e1",
   "metadata": {},
   "outputs": [],
   "source": [
    "from typing import List\n",
    "\n",
    "class Solution:\n",
    "    def moveZeroes(self, nums: List[int]) -> None:\n",
    "        \"\"\"\n",
    "        Do not return anything, modify nums in-place instead.\n",
    "        \"\"\"\n",
    "        if (len(nums) == 1):\n",
    "            return None\n",
    "\n",
    "        left = 0\n",
    "        temp = 0\n",
    "        for i in range (len(nums)):\n",
    "            if nums[i] != 0:\n",
    "                temp = nums[i]\n",
    "                nums[i] = nums[left]\n",
    "                nums[left] = temp\n",
    "                left += 1\n"
   ]
  }
 ],
 "metadata": {
  "language_info": {
   "name": "python"
  }
 },
 "nbformat": 4,
 "nbformat_minor": 5
}
