{
 "cells": [
  {
   "cell_type": "markdown",
   "id": "27126da8",
   "metadata": {},
   "source": [
    "## Problem\n",
    "Given an integer array nums, move all 0's to the end of it while maintaining the relative order of the non-zero elements.\n",
    "\n",
    "Note that you must do this in-place without making a copy of the array.\n",
    "\n",
    "**Example 1:**  \n",
    "Input: nums = [0,1,0,3,12]  \n",
    "Output: [1,3,12,0,0]  \n",
    "\n",
    "**Example 2:**  \n",
    "Input: nums = [0]  \n",
    "Output: [0]  \n",
    "\n",
    "**Constraints:**  \n",
    "1 <= nums.length <= 10<sup>4</sup>\n",
    "-2<sup>31</sup> <= nums[i] <= 2<sup>31</sup> - 1"
   ]
  },
  {
   "cell_type": "markdown",
   "id": "577056fd",
   "metadata": {},
   "source": [
    "The 2 requirements of the question are:\n",
    "\n",
    "Move all the 0's to the end of array.  \n",
    "All the non-zero elements must retain their original order.\n"
   ]
  },
  {
   "cell_type": "markdown",
   "id": "9fe81c96",
   "metadata": {},
   "source": [
    "## Approach 1: (Space Sub-Optimal)\n",
    "Traverse the nums list first to count the number of zeroes. Then traverse the nums list again to store all non-zero elements in ans.\n",
    "\n",
    "### Algorithm\n",
    "1. Determine the size of the nums array and store it in n.\n",
    "2. Count the number of zeroes in nums:\n",
    "- Initialize numZeroes to 0.\n",
    "- Iterate through each element in nums:\n",
    "  - Increment numZeroes for each zero encountered.\n",
    "3. Create a new vector ans to store non-zero elements in their original order:\n",
    "- Iterate through each element in nums:\n",
    "  - Add non-zero elements to ans.\n",
    "4. Append all zeroes to the end of the ans vector:\n",
    "- Append numZeroes zeroes to ans.\n",
    "5. Update the original nums array with the elements from ans:\n",
    "- Copy each element from ans back to nums.\n",
    "\n",
    "### Complexity\n",
    "Time Complexity: O(n). We traverse the nums list first to count the number of zeroes using O(n) time. Then, we traverse the nums list again to store all non-zero elements in ans which also costs O(n) time. Hence, the overall time complexity is O(2n), which is simplified to O(n).  \n",
    "Space Complexity: O(n)\n",
    "\n",
    "The total number of operation here is suboptimal."
   ]
  },
  {
   "cell_type": "code",
   "execution_count": null,
   "id": "2d0ff3a5",
   "metadata": {
    "vscode": {
     "languageId": "cpp"
    }
   },
   "outputs": [],
   "source": [
    "class Solution {\n",
    "public:\n",
    "  void moveZeroes(vector<int>& nums) {\n",
    "      int n = nums.size();\n",
    "\n",
    "      // Count the zeroes\n",
    "      int numZeroes = 0;\n",
    "      for (int i = 0; i < n; i++) {\n",
    "          numZeroes += (nums[i] == 0);\n",
    "      }\n",
    "\n",
    "      // Make all the non-zero elements retain their original order.\n",
    "      vector<int> ans;\n",
    "      for (int i = 0; i < n; i++) {\n",
    "          if (nums[i] != 0) {\n",
    "              ans.push_back(nums[i]);\n",
    "          }\n",
    "      }\n",
    "\n",
    "      // Move all zeroes to the end\n",
    "      while (numZeroes--) {\n",
    "          ans.push_back(0);\n",
    "      }\n",
    "\n",
    "      // Combine the result\n",
    "      for (int i = 0; i < n; i++) {\n",
    "          nums[i] = ans[i];\n",
    "      }\n",
    "  }\n",
    "};"
   ]
  },
  {
   "cell_type": "markdown",
   "id": "279a5778",
   "metadata": {},
   "source": [
    "## Approach 2\n",
    "There's an alternative way of stating the problem: bring all the non 0 elements to the front of array keeping their relative order same.\n",
    "\n",
    "This is a 2 pointer approach. The fast pointer(nums[i]) does the job of processing new elements. If the newly found element is not a 0, we record it just after the last found non-0 element. \n",
    "\n",
    "The position of last found non-0 element is denoted by the slow pointer lastNonZeroFoundAt variable. \n",
    "\n",
    "As we keep finding new non-0 elements, we just overwrite them at the lastNonZeroFoundAt + 1 'th index. This overwrite will not result in any loss of data because we already processed what was there(if it were non-0,it already is now written at it's corresponding index,or if it were 0 it will be handled later in time).\n",
    "\n",
    "Basically, move all the non-zero elements to the front.\n",
    "\n",
    "Finally, add 0 to the end of the array, fill the indexes with 0:\n",
    "After the nums[i] reaches the end of array, we now know that all the non-0 elements have been moved to beginning of array in their original order. Now comes the time to fulfil other requirement, \"Move all 0's to the end\". We now simply need to fill all the indexes after the lastNonZeroFoundAt index with 0.\n",
    "\n",
    "### Algorithm\n",
    "1. Initialize lastNonZeroFoundAt to 0:\n",
    "- This variable tracks the position where the next non-zero element should be placed.\n",
    "2. Iterate through each element in nums:\n",
    "- If the current element nums[i] is not zero:\n",
    "  - Place nums[i] at index lastNonZeroFoundAt.\n",
    "  - Increment lastNonZeroFoundAt to move to the next position for future non-zero elements.\n",
    "3. After processing all elements:\n",
    "- Fill the remaining positions in the array (from lastNonZeroFoundAt to the end) with zeros.\n",
    "\n",
    "This ensures that all non-zero elements are moved to the beginning of the array and all zeros are placed at the end.\n",
    "\n",
    "### Complexity\n",
    "Time Complexity: O(n) -> We traverse the nums list first to move all non-zero elements to the beginning of array which costs O(n) time. At the worst case when the original array only consists of 0s, we will use O(n) time to fill all remaining elements with 0s. Hence, the overall time complexity is O(2n), which is simplified to O(n).  \n",
    "Space Complexity: O(1)\n",
    "\n",
    "Run time: 3 ms"
   ]
  },
  {
   "cell_type": "code",
   "execution_count": null,
   "id": "90df43e7",
   "metadata": {
    "vscode": {
     "languageId": "cpp"
    }
   },
   "outputs": [],
   "source": [
    "class Solution {\n",
    "public:\n",
    "  void moveZeroes(vector<int>& nums) {\n",
    "      int lastNonZeroFoundAt = 0;\n",
    "      // If the current element is not 0, then we need to\n",
    "      // append it just in front of last non 0 element we found.\n",
    "      for (int i = 0; i < nums.size(); i++) {\n",
    "          if (nums[i] != 0) {\n",
    "              nums[lastNonZeroFoundAt++] = nums[i];\n",
    "          }\n",
    "      }\n",
    "    // After we have finished processing new elements,\n",
    "    // all the non-zero elements are already at beginning of array.\n",
    "    // We just need to fill remaining elements in the array with 0's.\n",
    "      for (int i = lastNonZeroFoundAt; i < nums.size(); i++) {\n",
    "          nums[i] = 0;\n",
    "      }\n",
    "  }\n",
    "};"
   ]
  },
  {
   "cell_type": "markdown",
   "id": "0f51b6e0",
   "metadata": {},
   "source": [
    "ok lol, somehow my own solution is faster than the original solution, and it only needs to be traversed once."
   ]
  }
 ],
 "metadata": {
  "language_info": {
   "name": "python"
  }
 },
 "nbformat": 4,
 "nbformat_minor": 5
}
