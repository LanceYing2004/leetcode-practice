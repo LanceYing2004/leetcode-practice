{
 "cells": [
  {
   "cell_type": "markdown",
   "id": "d16cc6a3",
   "metadata": {},
   "source": [
    "## Problem\n",
    "Given an integer array nums sorted in non-decreasing order, return an array of the squares of each number sorted in non-decreasing order.\n",
    "\n",
    "**Example 1:**\n",
    "Input: nums = [-4,-1,0,3,10]  \n",
    "Output: [0,1,9,16,100]  \n",
    "Explanation: After squaring, the array becomes [16,1,0,9,100].  \n",
    "After sorting, it becomes [0,1,9,16,100].  \n",
    "\n",
    "**Example 2:**\n",
    "Input: nums = [-7,-3,2,3,11]  \n",
    "Output: [4,9,9,49,121]  \n",
    "\n",
    "**Constraints:**\n",
    "- 1 <= nums.length <= 10<sup>4</sup>\n",
    "- -10<sup>4</sup> <= nums[i] <= 10<sup>4</sup>\n",
    "- nums is sorted in non-decreasing order."
   ]
  },
  {
   "cell_type": "markdown",
   "id": "a6471fc7",
   "metadata": {},
   "source": [
    "It was on May 12th. I literally spent a whole hour on this stupid question. It was not fun. But fortunately, I did get the correct answer in the end after about 1 hr 30 mins of grinding. So that's a plus."
   ]
  },
  {
   "cell_type": "code",
   "execution_count": null,
   "id": "e7d9c77b",
   "metadata": {
    "vscode": {
     "languageId": "cpp"
    }
   },
   "outputs": [],
   "source": [
    "class Solution {\n",
    "    public:\n",
    "        vector<int> sortedSquares(vector<int>& nums) {\n",
    "            int current = nums.size() / 2;\n",
    "            int min = abs(nums[current]);\n",
    "            int probe = current;\n",
    "            \n",
    "            if (nums.size() == 2) {\n",
    "                if (abs(nums[0]) < abs(nums[1])) {\n",
    "                    min = abs(nums[0]);\n",
    "                    probe = current = 0;\n",
    "                }\n",
    "            }\n",
    "            \n",
    "            \n",
    "\n",
    "                cout << probe << endl;\n",
    "                while (probe < nums.size() - 1 && abs(nums[probe + 1]) <= min ) {\n",
    "                    probe++;\n",
    "                    min = abs(nums[probe]);\n",
    "                    current = probe;\n",
    "                }\n",
    "                \n",
    "                while (probe > 0 && abs(nums[probe - 1]) <= min) {\n",
    "                    probe--;\n",
    "                    min = abs(nums[probe]);\n",
    "                    current = probe;\n",
    "                }\n",
    "\n",
    "            \n",
    "            int left = current;\n",
    "            int right = current;\n",
    "            \n",
    "\n",
    "            \n",
    "            vector<int>arr;\n",
    "            arr.reserve(nums.size());\n",
    "\n",
    "            arr.push_back(nums[current] * nums[current]);\n",
    "            left--;\n",
    "            right++;\n",
    "            \n",
    "\n",
    "            while (left > -1 && right < nums.size()) {\n",
    "                if (abs(nums[left]) < abs(nums[right])) {\n",
    "                    arr.push_back(nums[left] * nums[left]);\n",
    "                    left--;\n",
    "                } else {\n",
    "                    arr.push_back(nums[right] * nums[right]);\n",
    "                    right++;\n",
    "                }\n",
    "            }\n",
    "\n",
    "            while (left > -1) {\n",
    "                arr.push_back(nums[left] * nums[left]);\n",
    "                left--;\n",
    "            }\n",
    "\n",
    "            while (right < nums.size()) {\n",
    "                arr.push_back(nums[right] * nums[right]);\n",
    "                right++;\n",
    "            }\n",
    "            return arr;\n",
    "\n",
    "        }\n",
    "};"
   ]
  },
  {
   "cell_type": "markdown",
   "id": "ed5f6ee0",
   "metadata": {},
   "source": [
    "One month later, I tried this problem again knowing the algorithm, much better."
   ]
  },
  {
   "cell_type": "code",
   "execution_count": null,
   "id": "a3d0c0e0",
   "metadata": {
    "vscode": {
     "languageId": "cpp"
    }
   },
   "outputs": [],
   "source": [
    "class Solution {\n",
    "public:\n",
    "    vector<int> sortedSquares(vector<int>& nums) {\n",
    "        vector<int> result (nums.size());\n",
    "        int left = 0;\n",
    "        int right = nums.size() - 1;\n",
    "        int index = nums.size() - 1;\n",
    "\n",
    "        while (left <= right) {\n",
    "            if (abs(nums[right]) > abs(nums[left])) {\n",
    "                result[index] = nums[right] * nums[right];\n",
    "                right--;\n",
    "            } else {\n",
    "                result[index] = nums[left] * nums[left];\n",
    "                left++;\n",
    "            }\n",
    "            index--;\n",
    "        }\n",
    "        return result;\n",
    "    }\n",
    "};"
   ]
  },
  {
   "cell_type": "code",
   "execution_count": null,
   "id": "19e7023b",
   "metadata": {},
   "outputs": [],
   "source": [
    "from typing import List\n",
    "\n",
    "class Solution:\n",
    "    def sortedSquares(self, nums: List[int]) -> List[int]:\n",
    "        left = 0\n",
    "        right = len(nums) - 1\n",
    "        result = [0] * len(nums)\n",
    "        \n",
    "        for i in range(len(nums) - 1, -1, -1):\n",
    "            if (abs(nums[right]) > abs(nums[left])):\n",
    "                result[i] = nums[right] * nums[right]\n",
    "                right -= 1\n",
    "            else:\n",
    "                result[i] = nums[left] * nums[left]\n",
    "                left += 1\n",
    "        return result"
   ]
  }
 ],
 "metadata": {
  "language_info": {
   "name": "python"
  }
 },
 "nbformat": 4,
 "nbformat_minor": 5
}
