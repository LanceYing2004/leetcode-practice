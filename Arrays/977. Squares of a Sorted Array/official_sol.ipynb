{
 "cells": [
  {
   "cell_type": "markdown",
   "id": "68e93123",
   "metadata": {},
   "source": [
    "## Problem\n",
    "Given an integer array nums sorted in non-decreasing order, return an array of the squares of each number sorted in non-decreasing order.\n",
    "\n",
    "**Example 1:**\n",
    "Input: nums = [-4,-1,0,3,10]  \n",
    "Output: [0,1,9,16,100]  \n",
    "Explanation: After squaring, the array becomes [16,1,0,9,100].  \n",
    "After sorting, it becomes [0,1,9,16,100].  \n",
    "\n",
    "**Example 2:**\n",
    "Input: nums = [-7,-3,2,3,11]  \n",
    "Output: [4,9,9,49,121]  \n",
    "\n",
    "**Constraints:**\n",
    "- 1 <= nums.length <= 10<sup>4</sup>\n",
    "- -10<sup>4</sup> <= nums[i] <= 10<sup>4</sup>\n",
    "- nums is sorted in non-decreasing order."
   ]
  },
  {
   "cell_type": "markdown",
   "id": "f7d3e8bd",
   "metadata": {},
   "source": [
    "## Approach 1: Sort\n",
    "Basically Create an array of the squares of each element, and sort them.\n",
    "\n",
    "### Complexity\n",
    "Time Complexity: O(n log n)  \n",
    "Space Complexity: O(n) or O(log n), depending on the language"
   ]
  },
  {
   "cell_type": "code",
   "execution_count": null,
   "id": "d4663624",
   "metadata": {
    "vscode": {
     "languageId": "cpp"
    }
   },
   "outputs": [],
   "source": [
    "class Solution {\n",
    "public:\n",
    "    vector<int> sortedSquares(vector<int>& nums) {\n",
    "        size_t n = nums.size();\n",
    "        vector<int> ans(n);\n",
    "        for (size_t i = 0; i < n; i++) {\n",
    "            ans[i] = nums[i] * nums[i];\n",
    "        }\n",
    "\n",
    "        sort(ans.begin(), ans.end());\n",
    "        return ans;\n",
    "    }\n",
    "};"
   ]
  },
  {
   "cell_type": "code",
   "execution_count": null,
   "id": "f51dfb26",
   "metadata": {},
   "outputs": [],
   "source": [
    "class Solution(object):\n",
    "    def sortedSquares(self, A):\n",
    "        return sorted(x*x for x in A)"
   ]
  },
  {
   "cell_type": "code",
   "execution_count": null,
   "id": "c0faaeac",
   "metadata": {
    "vscode": {
     "languageId": "java"
    }
   },
   "outputs": [],
   "source": [
    "class Solution {\n",
    "    public int[] sortedSquares(int[] A) {\n",
    "        int N = A.length;\n",
    "        int[] ans = new int[N];\n",
    "        for (int i = 0; i < N; ++i)\n",
    "            ans[i] = A[i] * A[i];\n",
    "\n",
    "        Arrays.sort(ans);\n",
    "        return ans;\n",
    "    }\n",
    "}"
   ]
  },
  {
   "cell_type": "markdown",
   "id": "4d0c83aa",
   "metadata": {},
   "source": [
    "## Appraoch 2: 2 pointers\n",
    "Since the array A is sorted, loosely speaking it has some negative elements with squares in decreasing order, then some non-negative elements with squares in increasing order.\n",
    "\n",
    "Our strategy is to iterate over the negative part in reverse, and the positive part in the forward direction, e.g.:\n",
    "- negative part [-3, -2, -1] with squares [9, 4, 1]\n",
    "- positive part [4, 5, 6] with squares [16, 25, 36]\n",
    "\n",
    "### Algorithm\n",
    "We can use two pointers to read the positive and negative parts of the array - one pointer j in the positive direction, and another i in the negative direction.\n",
    "\n",
    "### Complexity\n",
    "Time Complexity: O(n)  \n",
    "Space Complexity: O(n)"
   ]
  },
  {
   "cell_type": "code",
   "execution_count": null,
   "id": "3e9e25e0",
   "metadata": {
    "vscode": {
     "languageId": "cpp"
    }
   },
   "outputs": [],
   "source": [
    "class Solution {\n",
    "public:\n",
    "    vector<int> sortedSquares(vector<int>& nums) {\n",
    "        int n = nums.size();\n",
    "\n",
    "        vector<int> result(n);\n",
    "\n",
    "        int left = 0;\n",
    "        int right = n - 1;\n",
    "\n",
    "        for (int i = n - 1; i >= 0; i--) {\n",
    "            int square;\n",
    "            if (abs(nums[left]) < abs(nums[right])) {\n",
    "                square = nums[right];\n",
    "                right--;\n",
    "            } else {\n",
    "                square = nums[left];\n",
    "                left++;\n",
    "            }\n",
    "            result[i] = square * square;\n",
    "        }\n",
    "        return result;\n",
    "    }\n",
    "};"
   ]
  },
  {
   "cell_type": "code",
   "execution_count": null,
   "id": "91c64062",
   "metadata": {},
   "outputs": [],
   "source": [
    "from typing import List\n",
    "\n",
    "class Solution:\n",
    "    def sortedSquares(self, nums: List[int]) -> List[int]:\n",
    "        n = len(nums)\n",
    "        result = [0] * n\n",
    "        left = 0\n",
    "        right = n - 1\n",
    "        for i in range(n - 1, -1, -1):\n",
    "            if abs(nums[left]) < abs(nums[right]):\n",
    "                square = nums[right]\n",
    "                right -= 1\n",
    "            else:\n",
    "                square = nums[left]\n",
    "                left += 1\n",
    "            result[i] = square * square\n",
    "        return result"
   ]
  },
  {
   "cell_type": "code",
   "execution_count": null,
   "id": "47b7eced",
   "metadata": {
    "vscode": {
     "languageId": "java"
    }
   },
   "outputs": [],
   "source": [
    "class Solution {\n",
    "    public int[] sortedSquares(int[] nums) {\n",
    "        int n = nums.length;\n",
    "        int[] result = new int[n];\n",
    "        int left = 0;\n",
    "        int right = n - 1;\n",
    "\n",
    "        for (int i = n - 1; i >= 0; i--) {\n",
    "            int square;\n",
    "            if (Math.abs(nums[left]) < Math.abs(nums[right])) {\n",
    "                square = nums[right];\n",
    "                right--;\n",
    "            } else {\n",
    "                square = nums[left];\n",
    "                left++;\n",
    "            }\n",
    "            result[i] = square * square;\n",
    "        }\n",
    "        return result;\n",
    "    }\n",
    "}"
   ]
  }
 ],
 "metadata": {
  "language_info": {
   "name": "python"
  }
 },
 "nbformat": 4,
 "nbformat_minor": 5
}
